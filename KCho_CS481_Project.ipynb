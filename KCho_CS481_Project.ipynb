{
  "nbformat": 4,
  "nbformat_minor": 0,
  "metadata": {
    "colab": {
      "name": "CS481_Project.ipynb",
      "provenance": [],
      "collapsed_sections": []
    },
    "kernelspec": {
      "name": "python3",
      "display_name": "Python 3"
    },
    "language_info": {
      "name": "python"
    }
  },
  "cells": [
    {
      "cell_type": "markdown",
      "metadata": {
        "id": "wcVUarkmENM7"
      },
      "source": [
        "# Binary Text Classification on Steam Game Reviews"
      ]
    },
    {
      "cell_type": "markdown",
      "metadata": {
        "id": "QIciapjQKBjN"
      },
      "source": [
        "Link to Dataset: https://www.kaggle.com/arashnic/game-review-dataset/code"
      ]
    },
    {
      "cell_type": "markdown",
      "metadata": {
        "id": "f5Sp03r8zwZF"
      },
      "source": [
        "Direct Link to CSV file: https://drive.google.com/file/d/1_CbwYD8TLDcJsGp3ZFh-YOwypYxJ5T-K/view?usp=sharing"
      ]
    },
    {
      "cell_type": "markdown",
      "metadata": {
        "id": "aE-cJwcMCG-T"
      },
      "source": [
        "# Libraries"
      ]
    },
    {
      "cell_type": "code",
      "metadata": {
        "colab": {
          "base_uri": "https://localhost:8080/"
        },
        "id": "6w6iFIe6CMGh",
        "outputId": "e6e3274d-ddfa-457f-b7eb-aefda2a7014e"
      },
      "source": [
        "import time, os\n",
        "\n",
        "import numpy as np # linear algebra\n",
        "import pandas as pd # data processing\n",
        "pd.set_option('display.max_colwidth', -1) # display the entire contents of each cell\n",
        "\n",
        "import seaborn as sns # visualization\n",
        "import matplotlib.pyplot as plt\n",
        "%matplotlib inline\n",
        "\n",
        "import re\n",
        "from nltk.corpus import stopwords\n",
        "from sklearn.feature_extraction.text import CountVectorizer\n",
        "from sklearn.metrics.pairwise import cosine_similarity\n",
        "import string\n",
        "from sklearn.linear_model import LogisticRegression\n",
        "from sklearn.model_selection import train_test_split\n",
        "from sklearn.feature_extraction.text import TfidfTransformer\n",
        "from sklearn.naive_bayes import MultinomialNB\n",
        "from sklearn.metrics import classification_report,confusion_matrix\n",
        "\n",
        "from nltk.tokenize.treebank import TreebankWordDetokenizer\n",
        "from nltk.tokenize import word_tokenize\n",
        "import nltk\n",
        "nltk.download('punkt')\n",
        "\n",
        "import warnings\n",
        "warnings.filterwarnings('ignore')"
      ],
      "execution_count": 1,
      "outputs": [
        {
          "output_type": "stream",
          "text": [
            "/usr/local/lib/python3.7/dist-packages/ipykernel_launcher.py:5: FutureWarning: Passing a negative integer is deprecated in version 1.0 and will not be supported in future version. Instead, use None to not limit the column width.\n",
            "  \"\"\"\n"
          ],
          "name": "stderr"
        },
        {
          "output_type": "stream",
          "text": [
            "[nltk_data] Downloading package punkt to /root/nltk_data...\n",
            "[nltk_data]   Unzipping tokenizers/punkt.zip.\n"
          ],
          "name": "stdout"
        }
      ]
    },
    {
      "cell_type": "markdown",
      "metadata": {
        "id": "Vnpzs1E8EF_8"
      },
      "source": [
        "# Text Importation and Preview"
      ]
    },
    {
      "cell_type": "markdown",
      "metadata": {
        "id": "B8dLnlKFzOD8"
      },
      "source": [
        "Method 1\n"
      ]
    },
    {
      "cell_type": "code",
      "metadata": {
        "id": "tVyGoZ5Qyoya"
      },
      "source": [
        "#Intructions for importing the dataset\n",
        "#download steam_reviews.csv from the direct link from kcho12's google drive or use file included in blackboard\n",
        "#Choose file \"steam_reviews.csv\"\n",
        "from google.colab import files\n",
        "uploaded = files.upload()"
      ],
      "execution_count": null,
      "outputs": []
    },
    {
      "cell_type": "code",
      "metadata": {
        "id": "AL3WVY8RzZwq"
      },
      "source": [
        "review_data = pd.read_csv('steam_reviews.csv') \n",
        "review_data.shape, display(review_data.head())"
      ],
      "execution_count": null,
      "outputs": []
    },
    {
      "cell_type": "markdown",
      "metadata": {
        "id": "Ang_0_hEzQh1"
      },
      "source": [
        "Method 2"
      ]
    },
    {
      "cell_type": "code",
      "metadata": {
        "id": "uCRts7GVEY_2",
        "colab": {
          "base_uri": "https://localhost:8080/",
          "height": 346
        },
        "outputId": "6d01a929-7903-48ae-8193-b6594f10630d"
      },
      "source": [
        "#Intructions for importing the dataset\n",
        "#download steam_reviews.csv from the direct link from kcho12's google drive use file included in blackboard\n",
        "#click on folder on left sidebar\n",
        "#click \"upload to session storage\" button and choose the steam_reviews.csv\n",
        "\n",
        "##review_data = pd.read_csv('/content/drive/MyDrive/steam_reviews.csv')\n",
        "review_data = pd.read_csv('steam_reviews.csv') \n",
        "review_data.shape, display(review_data.head())"
      ],
      "execution_count": 2,
      "outputs": [
        {
          "output_type": "display_data",
          "data": {
            "text/html": [
              "<div>\n",
              "<style scoped>\n",
              "    .dataframe tbody tr th:only-of-type {\n",
              "        vertical-align: middle;\n",
              "    }\n",
              "\n",
              "    .dataframe tbody tr th {\n",
              "        vertical-align: top;\n",
              "    }\n",
              "\n",
              "    .dataframe thead th {\n",
              "        text-align: right;\n",
              "    }\n",
              "</style>\n",
              "<table border=\"1\" class=\"dataframe\">\n",
              "  <thead>\n",
              "    <tr style=\"text-align: right;\">\n",
              "      <th></th>\n",
              "      <th>review_id</th>\n",
              "      <th>title</th>\n",
              "      <th>year</th>\n",
              "      <th>user_review</th>\n",
              "      <th>user_suggestion</th>\n",
              "    </tr>\n",
              "  </thead>\n",
              "  <tbody>\n",
              "    <tr>\n",
              "      <th>0</th>\n",
              "      <td>1</td>\n",
              "      <td>Spooky's Jump Scare Mansion</td>\n",
              "      <td>2016.0</td>\n",
              "      <td>I'm scared and hearing creepy voices.  So I'll pause for a moment and write a review while I wait for my heart beat to return to atleast somewhat calmer times.  This game is adorable and creepy like my happy tree friends but with the graphics sceme of my childhood (but more bubble and 'clean').  Hello 1990's.What charactes there are (that isnot trying to kill me) were likable and a bit odd.  I did do a few noob things though, such as:Oh look a class room full of ghosts from dead children, lets shine my flashlight on them and stand there staring at them..Or, hmm creepy music, I'll turn around and see if I can see what's chasing me.Never before in a game have I been this afraid of finding a locked door.</td>\n",
              "      <td>Yes</td>\n",
              "    </tr>\n",
              "    <tr>\n",
              "      <th>1</th>\n",
              "      <td>2</td>\n",
              "      <td>Spooky's Jump Scare Mansion</td>\n",
              "      <td>2016.0</td>\n",
              "      <td>Best game, more better than Sam Pepper's YouTube account. 10/10What you'll need to play:A computerSome extra pants.Pros:Scary as hell.Fun.Adventure.Spooky.Did I forgot to mention that its scary as hell?You'll get more pants/briefs in your wardrobe.Time consuming if you're bored.Cons:Buying pants/briefs. You haven't downloaded it yet.</td>\n",
              "      <td>Yes</td>\n",
              "    </tr>\n",
              "    <tr>\n",
              "      <th>2</th>\n",
              "      <td>3</td>\n",
              "      <td>Spooky's Jump Scare Mansion</td>\n",
              "      <td>2016.0</td>\n",
              "      <td>A littly iffy on the controls, but once you know how to play, very easy to master. I've made it to floor 1000 before, but due to certain circumstances was unable to finish. Was not game related, don't worry, not a bug/glitch or antyhing.I highly recommend this for casual play, maybe with a friend or two watching. Hilarity ensues, especially once you hit floor 150. Have fun my fellow fleshlings!</td>\n",
              "      <td>Yes</td>\n",
              "    </tr>\n",
              "    <tr>\n",
              "      <th>3</th>\n",
              "      <td>4</td>\n",
              "      <td>Spooky's Jump Scare Mansion</td>\n",
              "      <td>2015.0</td>\n",
              "      <td>Great game, fun and colorful and all that.A side note, though: When are we getting windowed mode? My computer hates fullscreen so.... yeah. The computer doesn't like to run this. Shame, because this is really enjoyable. But until then, I guess I'll settle for more Skyrim. Cheers!</td>\n",
              "      <td>Yes</td>\n",
              "    </tr>\n",
              "    <tr>\n",
              "      <th>4</th>\n",
              "      <td>5</td>\n",
              "      <td>Spooky's Jump Scare Mansion</td>\n",
              "      <td>2015.0</td>\n",
              "      <td>Not many games have the cute tag right next to the horror tag on Steam.I first played this game in late 2014 and coming back to it for the first time since. This game is so good for it being free, take advantage and experience it. Try and get to  room 1000 or as close as you can. The further you progress the darker the game becomes.</td>\n",
              "      <td>Yes</td>\n",
              "    </tr>\n",
              "  </tbody>\n",
              "</table>\n",
              "</div>"
            ],
            "text/plain": [
              "   review_id  ... user_suggestion\n",
              "0  1          ...  Yes           \n",
              "1  2          ...  Yes           \n",
              "2  3          ...  Yes           \n",
              "3  4          ...  Yes           \n",
              "4  5          ...  Yes           \n",
              "\n",
              "[5 rows x 5 columns]"
            ]
          },
          "metadata": {
            "tags": []
          }
        },
        {
          "output_type": "execute_result",
          "data": {
            "text/plain": [
              "((17494, 5), None)"
            ]
          },
          "metadata": {
            "tags": []
          },
          "execution_count": 2
        }
      ]
    },
    {
      "cell_type": "code",
      "metadata": {
        "colab": {
          "base_uri": "https://localhost:8080/"
        },
        "id": "PU_ahhE-JfLR",
        "outputId": "750c966b-abd6-4592-e14c-7363cf6eb2d4"
      },
      "source": [
        "#Removing duplicates\n",
        "review_data = review_data.drop_duplicates(keep=\"first\")\n",
        "review_data.shape"
      ],
      "execution_count": 3,
      "outputs": [
        {
          "output_type": "execute_result",
          "data": {
            "text/plain": [
              "(17494, 5)"
            ]
          },
          "metadata": {
            "tags": []
          },
          "execution_count": 3
        }
      ]
    },
    {
      "cell_type": "code",
      "metadata": {
        "colab": {
          "base_uri": "https://localhost:8080/"
        },
        "id": "7EyKHN5EiHtG",
        "outputId": "cd31edfe-cca7-415a-e583-a368c42bb0aa"
      },
      "source": [
        "# check empty cells\n",
        "review_data.isnull().sum()"
      ],
      "execution_count": 4,
      "outputs": [
        {
          "output_type": "execute_result",
          "data": {
            "text/plain": [
              "review_id          0  \n",
              "title              0  \n",
              "year               178\n",
              "user_review        0  \n",
              "user_suggestion    0  \n",
              "dtype: int64"
            ]
          },
          "metadata": {
            "tags": []
          },
          "execution_count": 4
        }
      ]
    },
    {
      "cell_type": "markdown",
      "metadata": {
        "id": "4GMQ-83uBf-f"
      },
      "source": [
        "No Duplicates were found in Data. We have around 17,500 reviews to analyze. The empty cells in year have no impact on our sentiment analysis."
      ]
    },
    {
      "cell_type": "code",
      "metadata": {
        "colab": {
          "base_uri": "https://localhost:8080/"
        },
        "id": "JPATtLvfg82U",
        "outputId": "69a2e2a5-27b4-4108-d6bf-42b60538dd2e"
      },
      "source": [
        "review_data['length'] = review_data['user_review'].apply(len) # number of characters\n",
        "review_data['length'].describe() # info()\n",
        "# the describe function shows the mean, std, min, max of length of the reviews"
      ],
      "execution_count": 5,
      "outputs": [
        {
          "output_type": "execute_result",
          "data": {
            "text/plain": [
              "count    17494.000000\n",
              "mean     760.905167  \n",
              "std      902.864197  \n",
              "min      6.000000    \n",
              "25%      274.000000  \n",
              "50%      449.000000  \n",
              "75%      851.000000  \n",
              "max      8000.000000 \n",
              "Name: length, dtype: float64"
            ]
          },
          "metadata": {
            "tags": []
          },
          "execution_count": 5
        }
      ]
    },
    {
      "cell_type": "markdown",
      "metadata": {
        "id": "EylQWubVx-3b"
      },
      "source": [
        "Average review length is 760 characters.\n",
        "Smallest review is 6 characters. Longest Review is 8000 Characters."
      ]
    },
    {
      "cell_type": "code",
      "metadata": {
        "colab": {
          "base_uri": "https://localhost:8080/"
        },
        "id": "qf6--yAioeqY",
        "outputId": "5072c124-505c-4f8d-ed48-cca624acbdbc"
      },
      "source": [
        "#Checking amount of Positive and Negative Reviews\n",
        "review_data.user_suggestion.value_counts()"
      ],
      "execution_count": 6,
      "outputs": [
        {
          "output_type": "execute_result",
          "data": {
            "text/plain": [
              "Yes    9968\n",
              "No     7526\n",
              "Name: user_suggestion, dtype: int64"
            ]
          },
          "metadata": {
            "tags": []
          },
          "execution_count": 6
        }
      ]
    },
    {
      "cell_type": "code",
      "metadata": {
        "colab": {
          "base_uri": "https://localhost:8080/",
          "height": 298
        },
        "id": "sJeP0HFN1Ibw",
        "outputId": "30e0405a-d0a4-4bc4-f0ea-444481ae4aff"
      },
      "source": [
        "#show bar graph of positive vs negative reviews\n",
        "sns.countplot(review_data[\"user_suggestion\"])"
      ],
      "execution_count": 7,
      "outputs": [
        {
          "output_type": "execute_result",
          "data": {
            "text/plain": [
              "<matplotlib.axes._subplots.AxesSubplot at 0x7f7a65bd9490>"
            ]
          },
          "metadata": {
            "tags": []
          },
          "execution_count": 7
        },
        {
          "output_type": "display_data",
          "data": {
            "image/png": "[encoded data removed]",
            "text/plain": [
              "<Figure size 432x288 with 1 Axes>"
            ]
          },
          "metadata": {
            "tags": [],
            "needs_background": "light"
          }
        }
      ]
    },
    {
      "cell_type": "markdown",
      "metadata": {
        "id": "wRq9eCckiyH_"
      },
      "source": [
        "Dataset is slightly imbalanced in favor of positive reviews, but its not horrible as long as we shuffle the dataset."
      ]
    },
    {
      "cell_type": "code",
      "metadata": {
        "colab": {
          "base_uri": "https://localhost:8080/",
          "height": 295
        },
        "id": "6qRFaBO99J56",
        "outputId": "0dd9cdba-fb32-49ae-89c5-6bd75ef021f6"
      },
      "source": [
        "#show character length of negative and positive reviews\n",
        "review_data.hist(column='length', by='user_suggestion',bins=30, figsize=(12,4),rwidth=0.9)\n",
        "plt.show()"
      ],
      "execution_count": 8,
      "outputs": [
        {
          "output_type": "display_data",
          "data": {
            "image/png": "[encoded data removed]",
            "text/plain": [
              "<Figure size 864x288 with 2 Axes>"
            ]
          },
          "metadata": {
            "tags": [],
            "needs_background": "light"
          }
        }
      ]
    },
    {
      "cell_type": "markdown",
      "metadata": {
        "id": "reOhyixViImk"
      },
      "source": [
        "Length does not have any impact on a positive or negative review."
      ]
    },
    {
      "cell_type": "markdown",
      "metadata": {
        "id": "oVpL_r0zJjP4"
      },
      "source": [
        "# Pre-Processing"
      ]
    },
    {
      "cell_type": "code",
      "metadata": {
        "colab": {
          "base_uri": "https://localhost:8080/",
          "height": 109
        },
        "id": "Jz4YCHCFJm0i",
        "outputId": "0e7b6c2a-c4ea-49ec-87d5-645291d4fb58"
      },
      "source": [
        "review_data.user_review[3000]\n",
        "#An example review data\n",
        "#We need to get rid of numbers, contracted phrases, urls, non-alphabet letters, and stopwards."
      ],
      "execution_count": 9,
      "outputs": [
        {
          "output_type": "execute_result",
          "data": {
            "application/vnd.google.colaboratory.intrinsic+json": {
              "type": "string"
            },
            "text/plain": [
              "\"At it current state(1.81) is to expensive to play the game, if you don't have premium account you can't progress at all because of the repair cost and even if you do have you can't make mistakes if you want to have enough Silver Lions to buy another vehicle, stock vehicle are the worst, planes isn't that much but you still can feel a difference, the big problem here are mainly tanks were if you don't have repairs and FPE(extinguisher) you are useless if they get any of the parts of the tank unless you get to the capture point to repair (if they get your engine you can't do anything), matchmaking is too compressed so sometimes you get games where your tank or your plane lacks too much compared to others and still with the compression  takes some time to get into battle depending on your Rank(if you don't get a small game with 6-8 people, wich are decided on the first 3min of the game), this game have become a P2W or even worst than that because at it current state premium isn't helping that much, a premium vehicle and account are a must if you want to grind anything or even play(keep in mind that you can only reasearch vehicles of the same nation that your premium vehicle is), can't recommend this game at all anymore if you want to have fun and even spend money into something i would recommend World of Tanks(Warships or Planes) those games aren't perfect too,  but are in a better state or even buy a game from steam that will be better.\""
            ]
          },
          "metadata": {
            "tags": []
          },
          "execution_count": 9
        }
      ]
    },
    {
      "cell_type": "code",
      "metadata": {
        "id": "M_WOVYLAKTSd"
      },
      "source": [
        "from tqdm import tqdm\n",
        "import re\n",
        "from bs4 import BeautifulSoup\n",
        "from nltk.stem import PorterStemmer\n",
        "\n",
        "def decontracted(phrase):\n",
        "    \"\"\"\n",
        "    We first define a function to expand the contracted phrase into normal words\n",
        "    \"\"\"\n",
        "    # specific\n",
        "    phrase = re.sub(r\"won't\", \"will not\", phrase)\n",
        "    phrase = re.sub(r\"can\\'t\", \"can not\", phrase)\n",
        "    phrase = re.sub(r\"don't\", \"do not\", phrase)\n",
        "    phrase = re.sub(r\"haven\\'t\", \"have not\", phrase)\n",
        "\n",
        "    # general\n",
        "    phrase = re.sub(r\"n\\'t\", \" not\", phrase)\n",
        "    phrase = re.sub(r\"\\'re\", \" are\", phrase)\n",
        "    phrase = re.sub(r\"\\'s\", \" is\", phrase) # prime \n",
        "    phrase = re.sub(r\"\\'d\", \" would\", phrase)\n",
        "    phrase = re.sub(r\"\\'ll\", \" will\", phrase)\n",
        "    phrase = re.sub(r\"\\'t\", \" not\", phrase)\n",
        "    phrase = re.sub(r\"\\'ve\", \" have\", phrase)\n",
        "    phrase = re.sub(r\"\\'m\", \" am\", phrase)\n",
        "    \n",
        "    return phrase\n",
        "\n",
        "#lecture 10 pre-processing\n",
        "def stopword_remove(phrase):\n",
        "    #Exluding NO, NOR, NOT from the stop words as they play keyrole\n",
        "    stopwords= set(['br', 'the', 'i', 'me', 'my', 'myself', 'we', 'our', 'ours', 'ourselves', 'you', \"you're\", \"you've\",\\\n",
        "              \"you'll\", \"you'd\", 'your', 'yours', 'yourself', 'yourselves', 'he', 'him', 'his', 'himself', \\\n",
        "              'she', \"she's\", 'her', 'hers', 'herself', 'it', \"it's\", 'its', 'itself', 'they', 'them', 'their',\\\n",
        "              'theirs', 'themselves', 'what', 'which', 'who', 'whom', 'this', 'that', \"that'll\", 'these', 'those', \\\n",
        "              'am', 'is', 'are', 'was', 'were', 'be', 'been', 'being', 'have', 'has', 'had', 'having', 'do', 'does', \\\n",
        "              'did', 'doing', 'a', 'an', 'the', 'and', 'but', 'if', 'or', 'because', 'as', 'until', 'while', 'of', \\\n",
        "              'at', 'by', 'for', 'with', 'about', 'against', 'between', 'into', 'through', 'during', 'before', 'after',\\\n",
        "              'above', 'below', 'to', 'from', 'up', 'down', 'in', 'out', 'on', 'off', 'over', 'under', 'again', 'further',\\\n",
        "              'then', 'once', 'here', 'there', 'when', 'where', 'why', 'how', 'all', 'any', 'both', 'each', 'few', 'more',\\\n",
        "              'most', 'other', 'some', 'such', 'only', 'own', 'same', 'so', 'than', 'too', 'very', \\\n",
        "              's', 't', 'can', 'will', 'just', 'don', \"don't\", 'should', \"should've\", 'now', 'd', 'll', 'm', 'o', 're', \\\n",
        "              've', 'y', 'ain', 'aren', \"aren't\", 'couldn', \"couldn't\", 'didn', \"didn't\", 'doesn', \"doesn't\", 'hadn',\\\n",
        "              \"hadn't\", 'hasn', \"hasn't\", 'haven', \"haven't\", 'isn', \"isn't\", 'ma', 'mightn', \"mightn't\", 'mustn',\\\n",
        "              \"mustn't\", 'needn', \"needn't\", 'shan', \"shan't\", 'shouldn', \"shouldn't\", 'wasn', \"wasn't\", 'weren', \"weren't\", \\\n",
        "              'won', \"won't\", 'wouldn', \"wouldn't\"])\n",
        "    tokens = word_tokenize(phrase)\n",
        "    nonstop_token_list = [word for word in tokens if not word in stopwords] \n",
        "    phrase = TreebankWordDetokenizer().detokenize(nonstop_token_list)\n",
        "\n",
        "    return phrase"
      ],
      "execution_count": 10,
      "outputs": []
    },
    {
      "cell_type": "code",
      "metadata": {
        "colab": {
          "base_uri": "https://localhost:8080/",
          "height": 416
        },
        "id": "hKqJtG8YMCHs",
        "outputId": "303868ad-73ea-4214-9d82-0b3d411e8206"
      },
      "source": [
        "def clean_text(df):\n",
        "    \"\"\"\n",
        "    Clean the review texts\n",
        "    \"\"\"\n",
        "    cleaned_review = []\n",
        "\n",
        "    for review_text in tqdm(df['user_review']):\n",
        "\n",
        "        #lowercase words if they haven't been yet\n",
        "        review_text = str.lower(review_text)\n",
        "        \n",
        "        # expand the contracted words\n",
        "        review_text = decontracted(review_text)\n",
        "\n",
        "        #remove stopwords\n",
        "        review_text = stopword_remove(review_text)\n",
        "        \n",
        "        #remove non-alphabetic characters\n",
        "        review_text = re.sub(\"[^a-zA-Z]\",\" \", review_text)\n",
        "\n",
        "        #Removing punctutation, string.punctuation in python consists of !\"#$%&\\'()*+,-./:;<=>?@[\\\\]^_{|}~`\n",
        "        review_text = review_text.translate(str.maketrans('', '', string.punctuation))\n",
        "        # ''.join([char for char in movie_text_data if char not in string.punctuation])\n",
        "\n",
        "        #remove url \n",
        "        review_text = re.sub(r'https?://\\S+|www\\.\\S+', '', review_text)\n",
        "\n",
        "        # remove emails\n",
        "        review_text = re.sub(r\"(^[a-zA-Z0-9_.+-]+@[a-zA-Z0-9-]+\\.[a-zA-Z0-9-.]+$)\", '', review_text)\n",
        "    \n",
        "        cleaned_review.append(review_text)\n",
        "\n",
        "    return cleaned_review\n",
        "\n",
        "review_data['cleaned_review'] = clean_text(review_data)\n",
        "# review_data['cleaned_review'] = review_data.apply(clean_text)\n",
        "review_data = review_data.drop(columns=['review_id','title','year'])\n",
        "\n",
        "review_data.head()\n",
        "# After the cleaning process, we get the cleaned_reviews"
      ],
      "execution_count": 11,
      "outputs": [
        {
          "output_type": "stream",
          "text": [
            "100%|██████████| 17494/17494 [00:34<00:00, 511.58it/s]\n"
          ],
          "name": "stderr"
        },
        {
          "output_type": "execute_result",
          "data": {
            "text/html": [
              "<div>\n",
              "<style scoped>\n",
              "    .dataframe tbody tr th:only-of-type {\n",
              "        vertical-align: middle;\n",
              "    }\n",
              "\n",
              "    .dataframe tbody tr th {\n",
              "        vertical-align: top;\n",
              "    }\n",
              "\n",
              "    .dataframe thead th {\n",
              "        text-align: right;\n",
              "    }\n",
              "</style>\n",
              "<table border=\"1\" class=\"dataframe\">\n",
              "  <thead>\n",
              "    <tr style=\"text-align: right;\">\n",
              "      <th></th>\n",
              "      <th>user_review</th>\n",
              "      <th>user_suggestion</th>\n",
              "      <th>length</th>\n",
              "      <th>cleaned_review</th>\n",
              "    </tr>\n",
              "  </thead>\n",
              "  <tbody>\n",
              "    <tr>\n",
              "      <th>0</th>\n",
              "      <td>I'm scared and hearing creepy voices.  So I'll pause for a moment and write a review while I wait for my heart beat to return to atleast somewhat calmer times.  This game is adorable and creepy like my happy tree friends but with the graphics sceme of my childhood (but more bubble and 'clean').  Hello 1990's.What charactes there are (that isnot trying to kill me) were likable and a bit odd.  I did do a few noob things though, such as:Oh look a class room full of ghosts from dead children, lets shine my flashlight on them and stand there staring at them..Or, hmm creepy music, I'll turn around and see if I can see what's chasing me.Never before in a game have I been this afraid of finding a locked door.</td>\n",
              "      <td>Yes</td>\n",
              "      <td>710</td>\n",
              "      <td>scared hearing creepy voices   pause moment write review wait heart beat return atleast somewhat calmer times   game adorable creepy like happy tree friends graphics sceme childhood  bubble  clean    hello      is what charactes  isnot trying kill  likable bit odd   noob things though    oh look class room full ghosts dead children  lets shine flashlight stand staring them  or  hmm creepy music  turn around see see chasing me never game afraid finding locked door</td>\n",
              "    </tr>\n",
              "    <tr>\n",
              "      <th>1</th>\n",
              "      <td>Best game, more better than Sam Pepper's YouTube account. 10/10What you'll need to play:A computerSome extra pants.Pros:Scary as hell.Fun.Adventure.Spooky.Did I forgot to mention that its scary as hell?You'll get more pants/briefs in your wardrobe.Time consuming if you're bored.Cons:Buying pants/briefs. You haven't downloaded it yet.</td>\n",
              "      <td>Yes</td>\n",
              "      <td>335</td>\n",
              "      <td>best game  better sam pepper youtube account        what need play  computersome extra pants pros  scary hell fun adventure spooky did forgot mention scary hell  get pants briefs wardrobe time consuming bored cons  buying pants briefs   not downloaded yet</td>\n",
              "    </tr>\n",
              "    <tr>\n",
              "      <th>2</th>\n",
              "      <td>A littly iffy on the controls, but once you know how to play, very easy to master. I've made it to floor 1000 before, but due to certain circumstances was unable to finish. Was not game related, don't worry, not a bug/glitch or antyhing.I highly recommend this for casual play, maybe with a friend or two watching. Hilarity ensues, especially once you hit floor 150. Have fun my fellow fleshlings!</td>\n",
              "      <td>Yes</td>\n",
              "      <td>397</td>\n",
              "      <td>littly iffy controls  know play  easy master   made floor       due certain circumstances unable finish   not game related  not worry  not bug glitch antyhing i highly recommend casual play  maybe friend two watching   hilarity ensues  especially hit floor      fun fellow fleshlings</td>\n",
              "    </tr>\n",
              "    <tr>\n",
              "      <th>3</th>\n",
              "      <td>Great game, fun and colorful and all that.A side note, though: When are we getting windowed mode? My computer hates fullscreen so.... yeah. The computer doesn't like to run this. Shame, because this is really enjoyable. But until then, I guess I'll settle for more Skyrim. Cheers!</td>\n",
              "      <td>Yes</td>\n",
              "      <td>280</td>\n",
              "      <td>great game  fun colorful that a side note  though  getting windowed mode  computer hates fullscreen     yeah   computer not like run   shame  really enjoyable    guess settle skyrim   cheers</td>\n",
              "    </tr>\n",
              "    <tr>\n",
              "      <th>4</th>\n",
              "      <td>Not many games have the cute tag right next to the horror tag on Steam.I first played this game in late 2014 and coming back to it for the first time since. This game is so good for it being free, take advantage and experience it. Try and get to  room 1000 or as close as you can. The further you progress the darker the game becomes.</td>\n",
              "      <td>Yes</td>\n",
              "      <td>334</td>\n",
              "      <td>not many games cute tag right next horror tag steam i first played game late      coming back first time since   game good free  take advantage experience   try get room      close   progress darker game becomes</td>\n",
              "    </tr>\n",
              "  </tbody>\n",
              "</table>\n",
              "</div>"
            ],
            "text/plain": [
              "                                                                                                                                                                                                                                                                                                                                                                                                                                                                                                                                                                                                                                                                                                                              user_review  ...                                                                                                                                                                                                                                                                                                                                                                                                                                                                        cleaned_review\n",
              "0  I'm scared and hearing creepy voices.  So I'll pause for a moment and write a review while I wait for my heart beat to return to atleast somewhat calmer times.  This game is adorable and creepy like my happy tree friends but with the graphics sceme of my childhood (but more bubble and 'clean').  Hello 1990's.What charactes there are (that isnot trying to kill me) were likable and a bit odd.  I did do a few noob things though, such as:Oh look a class room full of ghosts from dead children, lets shine my flashlight on them and stand there staring at them..Or, hmm creepy music, I'll turn around and see if I can see what's chasing me.Never before in a game have I been this afraid of finding a locked door.  ...  scared hearing creepy voices   pause moment write review wait heart beat return atleast somewhat calmer times   game adorable creepy like happy tree friends graphics sceme childhood  bubble  clean    hello      is what charactes  isnot trying kill  likable bit odd   noob things though    oh look class room full ghosts dead children  lets shine flashlight stand staring them  or  hmm creepy music  turn around see see chasing me never game afraid finding locked door \n",
              "1  Best game, more better than Sam Pepper's YouTube account. 10/10What you'll need to play:A computerSome extra pants.Pros:Scary as hell.Fun.Adventure.Spooky.Did I forgot to mention that its scary as hell?You'll get more pants/briefs in your wardrobe.Time consuming if you're bored.Cons:Buying pants/briefs. You haven't downloaded it yet.                                                                                                                                                                                                                                                                                                                                                                                         ...  best game  better sam pepper youtube account        what need play  computersome extra pants pros  scary hell fun adventure spooky did forgot mention scary hell  get pants briefs wardrobe time consuming bored cons  buying pants briefs   not downloaded yet                                                                                                                                                                                                                     \n",
              "2  A littly iffy on the controls, but once you know how to play, very easy to master. I've made it to floor 1000 before, but due to certain circumstances was unable to finish. Was not game related, don't worry, not a bug/glitch or antyhing.I highly recommend this for casual play, maybe with a friend or two watching. Hilarity ensues, especially once you hit floor 150. Have fun my fellow fleshlings!                                                                                                                                                                                                                                                                                                                           ...  littly iffy controls  know play  easy master   made floor       due certain circumstances unable finish   not game related  not worry  not bug glitch antyhing i highly recommend casual play  maybe friend two watching   hilarity ensues  especially hit floor      fun fellow fleshlings                                                                                                                                                                                         \n",
              "3  Great game, fun and colorful and all that.A side note, though: When are we getting windowed mode? My computer hates fullscreen so.... yeah. The computer doesn't like to run this. Shame, because this is really enjoyable. But until then, I guess I'll settle for more Skyrim. Cheers!                                                                                                                                                                                                                                                                                                                                                                                                                                                ...  great game  fun colorful that a side note  though  getting windowed mode  computer hates fullscreen     yeah   computer not like run   shame  really enjoyable    guess settle skyrim   cheers                                                                                                                                                                                                                                                                                      \n",
              "4  Not many games have the cute tag right next to the horror tag on Steam.I first played this game in late 2014 and coming back to it for the first time since. This game is so good for it being free, take advantage and experience it. Try and get to  room 1000 or as close as you can. The further you progress the darker the game becomes.                                                                                                                                                                                                                                                                                                                                                                                          ...  not many games cute tag right next horror tag steam i first played game late      coming back first time since   game good free  take advantage experience   try get room      close   progress darker game becomes                                                                                                                                                                                                                                                                 \n",
              "\n",
              "[5 rows x 4 columns]"
            ]
          },
          "metadata": {
            "tags": []
          },
          "execution_count": 11
        }
      ]
    },
    {
      "cell_type": "markdown",
      "metadata": {
        "id": "3YsnF4m-B658"
      },
      "source": [
        "Next, I apply the binary labels and we will be ready for Features."
      ]
    },
    {
      "cell_type": "code",
      "metadata": {
        "colab": {
          "base_uri": "https://localhost:8080/",
          "height": 258
        },
        "id": "zeXcyjsuyrmE",
        "outputId": "80f45e77-9505-4096-ba62-ddf189a3e7bd"
      },
      "source": [
        "#binary labels are applied and now we can train a classifier\n",
        "review_data['label'] = review_data['user_suggestion'].map({'Yes':1,'No':0})\n",
        "review_data.head()[['cleaned_review','user_suggestion','label']]"
      ],
      "execution_count": 13,
      "outputs": [
        {
          "output_type": "execute_result",
          "data": {
            "text/html": [
              "<div>\n",
              "<style scoped>\n",
              "    .dataframe tbody tr th:only-of-type {\n",
              "        vertical-align: middle;\n",
              "    }\n",
              "\n",
              "    .dataframe tbody tr th {\n",
              "        vertical-align: top;\n",
              "    }\n",
              "\n",
              "    .dataframe thead th {\n",
              "        text-align: right;\n",
              "    }\n",
              "</style>\n",
              "<table border=\"1\" class=\"dataframe\">\n",
              "  <thead>\n",
              "    <tr style=\"text-align: right;\">\n",
              "      <th></th>\n",
              "      <th>cleaned_review</th>\n",
              "      <th>user_suggestion</th>\n",
              "      <th>label</th>\n",
              "    </tr>\n",
              "  </thead>\n",
              "  <tbody>\n",
              "    <tr>\n",
              "      <th>0</th>\n",
              "      <td>scared hearing creepy voices   pause moment write review wait heart beat return atleast somewhat calmer times   game adorable creepy like happy tree friends graphics sceme childhood  bubble  clean    hello      is what charactes  isnot trying kill  likable bit odd   noob things though    oh look class room full ghosts dead children  lets shine flashlight stand staring them  or  hmm creepy music  turn around see see chasing me never game afraid finding locked door</td>\n",
              "      <td>Yes</td>\n",
              "      <td>1</td>\n",
              "    </tr>\n",
              "    <tr>\n",
              "      <th>1</th>\n",
              "      <td>best game  better sam pepper youtube account        what need play  computersome extra pants pros  scary hell fun adventure spooky did forgot mention scary hell  get pants briefs wardrobe time consuming bored cons  buying pants briefs   not downloaded yet</td>\n",
              "      <td>Yes</td>\n",
              "      <td>1</td>\n",
              "    </tr>\n",
              "    <tr>\n",
              "      <th>2</th>\n",
              "      <td>littly iffy controls  know play  easy master   made floor       due certain circumstances unable finish   not game related  not worry  not bug glitch antyhing i highly recommend casual play  maybe friend two watching   hilarity ensues  especially hit floor      fun fellow fleshlings</td>\n",
              "      <td>Yes</td>\n",
              "      <td>1</td>\n",
              "    </tr>\n",
              "    <tr>\n",
              "      <th>3</th>\n",
              "      <td>great game  fun colorful that a side note  though  getting windowed mode  computer hates fullscreen     yeah   computer not like run   shame  really enjoyable    guess settle skyrim   cheers</td>\n",
              "      <td>Yes</td>\n",
              "      <td>1</td>\n",
              "    </tr>\n",
              "    <tr>\n",
              "      <th>4</th>\n",
              "      <td>not many games cute tag right next horror tag steam i first played game late      coming back first time since   game good free  take advantage experience   try get room      close   progress darker game becomes</td>\n",
              "      <td>Yes</td>\n",
              "      <td>1</td>\n",
              "    </tr>\n",
              "  </tbody>\n",
              "</table>\n",
              "</div>"
            ],
            "text/plain": [
              "                                                                                                                                                                                                                                                                                                                                                                                                                                                                         cleaned_review  ... label\n",
              "0  scared hearing creepy voices   pause moment write review wait heart beat return atleast somewhat calmer times   game adorable creepy like happy tree friends graphics sceme childhood  bubble  clean    hello      is what charactes  isnot trying kill  likable bit odd   noob things though    oh look class room full ghosts dead children  lets shine flashlight stand staring them  or  hmm creepy music  turn around see see chasing me never game afraid finding locked door   ...  1   \n",
              "1  best game  better sam pepper youtube account        what need play  computersome extra pants pros  scary hell fun adventure spooky did forgot mention scary hell  get pants briefs wardrobe time consuming bored cons  buying pants briefs   not downloaded yet                                                                                                                                                                                                                       ...  1   \n",
              "2  littly iffy controls  know play  easy master   made floor       due certain circumstances unable finish   not game related  not worry  not bug glitch antyhing i highly recommend casual play  maybe friend two watching   hilarity ensues  especially hit floor      fun fellow fleshlings                                                                                                                                                                                           ...  1   \n",
              "3  great game  fun colorful that a side note  though  getting windowed mode  computer hates fullscreen     yeah   computer not like run   shame  really enjoyable    guess settle skyrim   cheers                                                                                                                                                                                                                                                                                        ...  1   \n",
              "4  not many games cute tag right next horror tag steam i first played game late      coming back first time since   game good free  take advantage experience   try get room      close   progress darker game becomes                                                                                                                                                                                                                                                                   ...  1   \n",
              "\n",
              "[5 rows x 3 columns]"
            ]
          },
          "metadata": {
            "tags": []
          },
          "execution_count": 13
        }
      ]
    },
    {
      "cell_type": "markdown",
      "metadata": {
        "id": "k8eEcjo8-cli"
      },
      "source": [
        "# Text Features\n"
      ]
    },
    {
      "cell_type": "markdown",
      "metadata": {
        "id": "qLdG8tXPmodb"
      },
      "source": [
        "## Parameter Tuning: Grid search"
      ]
    },
    {
      "cell_type": "markdown",
      "metadata": {
        "id": "HGA5xwz9Shy3"
      },
      "source": [
        "I did parameter tuning first because it made the most sense for me to check out what parameters worked best before doing feature engineering."
      ]
    },
    {
      "cell_type": "markdown",
      "metadata": {
        "id": "maxT5WcdGVqG"
      },
      "source": [
        "I orignally used ngram_range = (1,1) before improving my performance by swapping to ngram(1,2)."
      ]
    },
    {
      "cell_type": "code",
      "metadata": {
        "colab": {
          "base_uri": "https://localhost:8080/"
        },
        "id": "SbpZ6z8F2NG_",
        "outputId": "d0db1d3a-3f93-4ba6-8e29-15d046d8ed74"
      },
      "source": [
        "#This grid search takes 700 seconds or 11 minutes so I will just screenshot the results for ngram_range(1,1) and (1,2)\n",
        "from sklearn.model_selection import GridSearchCV\n",
        "from sklearn.pipeline import Pipeline\n",
        "\n",
        "vectorizer = CountVectorizer(lowercase=True, stop_words=('early', 'access', 'is'), ngram_range=(1,1)) #change to ngram_range(1,2) if you want to see its output\n",
        "logistic = LogisticRegression() # , tol=0.1\n",
        "\n",
        "# build a pipeline\n",
        "pipe = Pipeline(steps = [\n",
        "       ('vectorizer', vectorizer),\n",
        "       ('classifier', logistic)])\n",
        "\n",
        "# creat a dictionary of model parameters and corresponding values\n",
        "# For example, in countvectorizer, we want to explore the suitable value for min_df, select from 1,3,5,10\n",
        "param_grid = {\n",
        "    'vectorizer__min_df': [10, 15, 20, 0.05],\n",
        "    'vectorizer__max_df': [0.6, 0.7, 0.8],\n",
        "    'classifier__penalty': ['l1','l2']}\n",
        "\n",
        "# run GridSearchCV, cv, f1\n",
        "search_result = GridSearchCV(pipe, param_grid, cv=5, scoring='f1').fit(review_data.cleaned_review.values, review_data.label.values)\n",
        "\n",
        "\n",
        "print(\"Best parameter (CV score=%0.3f):\" % search_result.best_score_) # scoring: accuracy by default\n",
        "print(search_result.best_params_)\n",
        "# with 5 fold cv, the best f1 score is 0.784, and the corresponding parameter values are as follows:"
      ],
      "execution_count": 14,
      "outputs": [
        {
          "output_type": "stream",
          "text": [
            "Best parameter (CV score=0.784):\n",
            "{'classifier__penalty': 'l2', 'vectorizer__max_df': 0.7, 'vectorizer__min_df': 10}\n"
          ],
          "name": "stdout"
        }
      ]
    },
    {
      "cell_type": "markdown",
      "metadata": {
        "id": "OJ5UN9d1qlTR"
      },
      "source": [
        "Results for ngram_range(1,1)"
      ]
    },
    {
      "cell_type": "markdown",
      "metadata": {
        "id": "2Uy5YOiZqq9C"
      },
      "source": [
        "![image.png](data:image/png;base64,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)"
      ]
    },
    {
      "cell_type": "markdown",
      "metadata": {
        "id": "SZmfr4Hwp_Zc"
      },
      "source": [
        "Result for ngram_range=(1,2)"
      ]
    },
    {
      "cell_type": "markdown",
      "metadata": {
        "id": "IUw-dwRMX7r7"
      },
      "source": [
        "![Screenshot 2021-04-14 121321.png](data:image/png;base64,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)"
      ]
    },
    {
      "cell_type": "markdown",
      "metadata": {
        "id": "Rky8_wThU5qM"
      },
      "source": [
        "Since ngram_range(1,2) has a higher CV score than ngram_range(1,1), I only will show a preview of the features for ngram_range(1,2)"
      ]
    },
    {
      "cell_type": "markdown",
      "metadata": {
        "id": "_AKrGQIO4mnI"
      },
      "source": [
        "## Feature Engineering"
      ]
    },
    {
      "cell_type": "code",
      "metadata": {
        "colab": {
          "base_uri": "https://localhost:8080/"
        },
        "id": "oChexJ7wcx84",
        "outputId": "f4a30138-013a-4dc2-8576-c3a82c6f87f9"
      },
      "source": [
        "#Count vectorizer for bag of words and 2-gram features\n",
        "vectorizer = CountVectorizer(lowercase=True, stop_words=('early', 'access', 'is'), max_df=0.6, min_df=10, ngram_range=(1,2)) ##early access is not part of the review it just means the game is in early access\n",
        "X = vectorizer.fit_transform(review_data['cleaned_review'])\n",
        "y = review_data.label.values\n",
        "\n",
        "#I will also include the count vectorizer for 1-gram features for performance comparison\n",
        "vectorizer2 = CountVectorizer(lowercase=True, stop_words=('early', 'access', 'is'), max_df=0.7, min_df=10, ngram_range=(1,1))\n",
        "X2 = vectorizer2.fit_transform(review_data['cleaned_review'])\n",
        "\n",
        "print(X.toarray())\n",
        "print(\"X.shape : \",X.shape)\n",
        "print(\"y.shape : \",y.shape)"
      ],
      "execution_count": 15,
      "outputs": [
        {
          "output_type": "stream",
          "text": [
            "[[0 0 0 ... 0 0 0]\n",
            " [0 0 0 ... 0 0 0]\n",
            " [0 0 0 ... 0 0 0]\n",
            " ...\n",
            " [0 0 0 ... 0 0 0]\n",
            " [0 0 0 ... 0 0 0]\n",
            " [0 0 0 ... 0 0 0]]\n",
            "X.shape :  (17494, 18039)\n",
            "y.shape :  (17494,)\n"
          ],
          "name": "stdout"
        }
      ]
    },
    {
      "cell_type": "markdown",
      "metadata": {
        "id": "CPaO-FSkktWe"
      },
      "source": [
        "With my current parameters \"CountVectorizer(lowercase=True, stop_words=('early', 'access', 'is'), max_df=0.6, min_df=10, ngram_range=(1,2))\", my feature list is 18,039."
      ]
    },
    {
      "cell_type": "code",
      "metadata": {
        "colab": {
          "base_uri": "https://localhost:8080/"
        },
        "id": "3yoGt6mRdJOk",
        "outputId": "7c1964e4-b8e9-49d8-9068-39f9348a85ec"
      },
      "source": [
        "print(vectorizer.get_feature_names())"
      ],
      "execution_count": 16,
      "outputs": [
        {
          "output_type": "stream",
          "text": [
            "['aa', 'aaa', 'aaa game', 'aaa title', 'ab', 'abandon', 'abandoned', 'abilites', 'abilities', 'abilities not', 'abilities weapons', 'ability', 'ability play', 'ability use', 'abit', 'able', 'able build', 'able buy', 'able compete', 'able enjoy', 'able find', 'able fly', 'able get', 'able hunt', 'able join', 'able keep', 'able make', 'able play', 'able run', 'able see', 'able take', 'able unlock', 'able use', 'abomination', 'about', 'above', 'abrams', 'absolute', 'absolute garbage', 'absolute trash', 'absolute worst', 'absolutely', 'absolutely amazing', 'absolutely fantastic', 'absolutely love', 'absolutely no', 'absolutely not', 'absolutely nothing', 'absolutely terrible', 'absolutly', 'absurd', 'absurdly', 'abundance', 'abuse', 'abused', 'abusing', 'abusive', 'abysmal', 'ac', 'acc', 'accept', 'acceptable', 'accepted', 'accepting', 'acces', 'accessed', 'accessibility', 'accessible', 'accessories', 'accident', 'accidentally', 'accidently', 'accomplish', 'accomplished', 'accomplishing', 'accomplishment', 'according', 'accordingly', 'account', 'account game', 'account not', 'account play', 'accounts', 'accross', 'accumulate', 'accumulated', 'accuracy', 'accurate', 'accurately', 'accused', 'ace', 'acess', 'achieve', 'achieved', 'achievement', 'achievements', 'achieving', 'achievments', 'acknowledge', 'acount', 'acquire', 'acquired', 'acquisition', 'across', 'across board', 'across map', 'act', 'act like', 'act together', 'acted', 'acting', 'acting like', 'action', 'action combat', 'action game', 'action packed', 'action rifle', 'action rpg', 'action rpgs', 'actions', 'activate', 'activated', 'active', 'active community', 'active players', 'actively', 'activities', 'activity', 'actors', 'acts', 'actual', 'actual game', 'actual gameplay', 'actual money', 'actual review', 'actually', 'actually able', 'actually buy', 'actually care', 'actually enjoy', 'actually enjoying', 'actually feel', 'actually free', 'actually fun', 'actually game', 'actually get', 'actually give', 'actually good', 'actually got', 'actually like', 'actually made', 'actually make', 'actually need', 'actually no', 'actually not', 'actually one', 'actually play', 'actually played', 'actually playing', 'actually pretty', 'actually quite', 'actually really', 'actually see', 'actually something', 'actually think', 'actually use', 'actually want', 'actually win', 'actually work', 'actually works', 'actualy', 'ad', 'adapt', 'adapted', 'add', 'add content', 'add game', 'add lot', 'add new', 'add ons', 'add stuff', 'add things', 'added', 'added every', 'added game', 'added new', 'addict', 'addicted', 'addicted game', 'addicting', 'addicting game', 'addiction', 'addictive', 'addictive fun', 'addictive game', 'adding', 'adding content', 'adding new', 'addition', 'addition game', 'additional', 'additionally', 'additions', 'addon', 'addons', 'address', 'address issues', 'addressed', 'adds', 'adds new', 'adjust', 'adjusted', 'adjusting', 'adjustments', 'admin', 'admins', 'admit', 'admittedly', 'adn', 'adorable', 'adore', 'adrenaline', 'adress', 'ads', 'adult', 'adults', 'advance', 'advance game', 'advanced', 'advancement', 'advancing', 'advantage', 'advantage players', 'advantages', 'adventure', 'adventure quest', 'adventurequest', 'adventures', 'adventuring', 'advertise', 'advertised', 'advertisement', 'advertising', 'advice', 'advice not', 'advise', 'ae', 'ae games', 'aerial', 'aeroflak', 'aesthetic', 'aesthetically', 'aesthetics', 'af', 'affect', 'affect game', 'affect gameplay', 'affected', 'affects', 'afford', 'affordable', 'afk', 'aforementioned', 'afraid', 'after', 'afterwards', 'again', 'again the', 'against', 'age', 'aged', 'agent', 'ages', 'aggressive', 'aggro', 'aggro decks', 'agian', 'agile', 'agility', 'ago', 'ago game', 'ago not', 'ago played', 'ago still', 'ago would', 'agree', 'agreed', 'agressive', 'ah', 'ahead', 'ahead try', 'ai', 'ai not', 'ai opponents', 'aid', 'aids', 'aim', 'aimbot', 'aimed', 'aiming', 'aint', 'air', 'air battles', 'air combat', 'air ground', 'aircraft', 'aircraft game', 'aircraft not', 'aircraft tanks', 'aircrafts', 'airplane', 'airplanes', 'ak', 'aka', 'akin', 'al', 'alas', 'albeit', 'alert', 'algorithm', 'alien', 'alike', 'alive', 'all', 'all game', 'all in', 'all time', 'all would', 'alley', 'alliance', 'allied', 'allies', 'allot', 'allow', 'allow get', 'allow players', 'allowed', 'allowed hunt', 'allowing', 'allows', 'allows play', 'allows players', 'allready', 'allways', 'ally', 'almost', 'almost always', 'almost anything', 'almost completely', 'almost entirely', 'almost every', 'almost everyone', 'almost everything', 'almost hours', 'almost immediately', 'almost impossible', 'almost instantly', 'almost like', 'almost never', 'almost no', 'almost not', 'almost nothing', 'almost year', 'almost years', 'alone', 'alone friends', 'alone not', 'along', 'along lines', 'along side', 'along way', 'alongside', 'alot', 'alot better', 'alot fun', 'alot game', 'alot games', 'alot money', 'alot people', 'alot potential', 'alot things', 'alot time', 'alot work', 'alpha', 'alpha beta', 'alpha game', 'alpha not', 'alpha stage', 'alpha state', 'already', 'already dead', 'already done', 'already game', 'already got', 'already know', 'already not', 'already played', 'already said', 'already spent', 'alright', 'alright game', 'alright not', 'also', 'also add', 'also added', 'also another', 'also big', 'also bought', 'also buy', 'also community', 'also devs', 'also different', 'also dont', 'also enjoy', 'also extremely', 'also fact', 'also features', 'also feel', 'also feels', 'also free', 'also fun', 'also game', 'also get', 'also give', 'also go', 'also good', 'also got', 'also great', 'also includes', 'also keep', 'also like', 'also little', 'also lot', 'also love', 'also made', 'also make', 'also makes', 'also many', 'also need', 'also needs', 'also never', 'also new', 'also nice', 'also no', 'also not', 'also note', 'also one', 'also pay', 'also people', 'also play', 'also played', 'also pretty', 'also quite', 'also really', 'also say', 'also seems', 'also takes', 'also think', 'also use', 'also used', 'also want', 'also would', 'alt', 'alt tab', 'alter', 'altered', 'alternate', 'alternative', 'although', 'although game', 'although not', 'although still', 'although think', 'although would', 'altogether', 'always', 'always better', 'always come', 'always find', 'always fun', 'always get', 'always good', 'always loved', 'always new', 'always one', 'always play', 'always remember', 'always something', 'always wanted', 'am', 'amass', 'amateur', 'amazed', 'amazing', 'amazing community', 'amazing first', 'amazing free', 'amazing fun', 'amazing game', 'amazing gameplay', 'amazing graphics', 'amazing not', 'amazing things', 'amazingly', 'ambience', 'ambient', 'amd', 'america', 'american', 'american tanks', 'americans', 'ammo', 'ammount', 'ammunition', 'amon', 'among', 'amongst', 'amount', 'amount cards', 'amount content', 'amount damage', 'amount fun', 'amount game', 'amount gold', 'amount hours', 'amount money', 'amount players', 'amount things', 'amount time', 'amount times', 'amounts', 'amounts money', 'amusing', 'an', 'ancient', 'ancients', 'and', 'and not', 'and or', 'android', 'android version', 'angel', 'angels', 'anger', 'angle', 'angles', 'angry', 'animal', 'animals', 'animals game', 'animals hunt', 'animals not', 'animated', 'animation', 'animations', 'anime', 'anime girls', 'announced', 'announcer', 'annoy', 'annoyance', 'annoyed', 'annoying', 'annoying not', 'annoys', 'another', 'another battle', 'another big', 'another card', 'another chance', 'another character', 'another example', 'another free', 'another game', 'another go', 'another great', 'another hours', 'another issue', 'another match', 'another minecraft', 'another minutes', 'another mmo', 'another one', 'another pay', 'another player', 'another problem', 'another reason', 'another review', 'another server', 'another shot', 'another thing', 'another way', 'anoying', 'answer', 'answered', 'answers', 'anti', 'anti air', 'anti aircraft', 'anti cheat', 'anti tank', 'anticheat', 'antivirus', 'any', 'anybody', 'anyhow', 'anymore', 'anymore game', 'anymore not', 'anyone', 'anyone could', 'anyone else', 'anyone enjoys', 'anyone even', 'anyone ever', 'anyone interested', 'anyone like', 'anyone likes', 'anyone looking', 'anyone loves', 'anyone new', 'anyone not', 'anyone play', 'anyone played', 'anyone says', 'anyone wants', 'anyone would', 'anything', 'anything could', 'anything else', 'anything even', 'anything everything', 'anything except', 'anything free', 'anything game', 'anything get', 'anything good', 'anything like', 'anything need', 'anything new', 'anything not', 'anything play', 'anything really', 'anything want', 'anything without', 'anything would', 'anytime', 'anytime soon', 'anyway', 'anyway game', 'anyway not', 'anyways', 'anywhere', 'anywhere else', 'anywhere game', 'anywhere near', 'aoe', 'ap', 'apart', 'app', 'app discussions', 'apparent', 'apparently', 'apparently not', 'appdata', 'appeal', 'appealing', 'appear', 'appearance', 'appeared', 'appearing', 'appears', 'apple', 'application', 'applied', 'applies', 'apply', 'appreciate', 'appreciated', 'approach', 'approached', 'approaches', 'approaching', 'appropriate', 'approved', 'approx', 'approximately', 'april', 'april fools', 'aq', 'aq worlds', 'aquire', 'aquired', 'aqw', 'aqworlds', 'ar', 'ara', 'arbitrary', 'arc', 'arcade', 'arcade game', 'arcade mode', 'arcade realistic', 'arcade style', 'arcadey', 'archeage', 'archer', 'archetypes', 'are', 'area', 'areas', 'arena', 'arena game', 'arena mode', 'arenas', 'arent', 'arguably', 'argue', 'arguing', 'argument', 'arm', 'arma', 'armed', 'armor', 'armor weapons', 'armored', 'armors', 'armour', 'arms', 'arms ez', 'army', 'around', 'around corner', 'around corners', 'around edges', 'around game', 'around get', 'around hours', 'around level', 'around like', 'around long', 'around map', 'around minutes', 'around no', 'around not', 'around players', 'around see', 'around since', 'around time', 'around world', 'around would', 'around years', 'arpg', 'arpgs', 'array', 'arrive', 'arrived', 'arrives', 'arrow', 'arrows', 'arsenal', 'art', 'art direction', 'art style', 'artifact', 'artifacts', 'artillery', 'artistic', 'artists', 'artix', 'artix entertainment', 'artix games', 'artstyle', 'artwork', 'arty', 'as', 'as far', 'asap', 'ashamed', 'asia', 'asian', 'aside', 'aside game', 'ask', 'ask game', 'ask questions', 'ask well', 'asked', 'asking', 'asks', 'asleep', 'aspect', 'aspect game', 'aspect not', 'aspects', 'aspects game', 'assassin', 'assassins', 'assault', 'assault rifle', 'assault rifles', 'assemble', 'assembling', 'assembly', 'asses', 'assets', 'assetto', 'assetto corsa', 'assign', 'assigned', 'assist', 'assistance', 'assists', 'associated', 'assortment', 'assume', 'assuming', 'assure', 'asteroids', 'astonishing', 'astounding', 'astral', 'astral diamonds', 'aswell', 'at', 'at first', 'at least', 'at point', 'atk', 'atleast', 'atm', 'atmosphere', 'atrocious', 'attach', 'attached', 'attachment', 'attachments', 'attack', 'attack speed', 'attacked', 'attacker', 'attackers', 'attacking', 'attacks', 'attempt', 'attempted', 'attempting', 'attempts', 'attention', 'attention detail', 'attitude', 'attract', 'attractive', 'attribute', 'attributes', 'auction', 'auction house', 'audience', 'audience kids', 'audio', 'august', 'australia', 'australian', 'authentic', 'autistic', 'auto', 'auto duel', 'autoclicker', 'automated', 'automatic', 'automatic weapons', 'automatically', 'available', 'available free', 'available game', 'available purchase', 'available right', 'available steam', 'avaliable', 'avatar', 'average', 'average game', 'average good', 'average player', 'average refund', 'averaging', 'aviation', 'avid', 'avoid', 'avoid game', 'avoided', 'avoiding', 'award', 'awarded', 'awards', 'aware', 'awareness', 'away', 'away game', 'away not', 'awe', 'aweful', 'awesome', 'awesome community', 'awesome free', 'awesome game', 'awesome love', 'awesome not', 'awesome really', 'awful', 'awful game', 'awful not', 'awfull', 'awfully', 'awhile', 'awkward', 'awsome', 'axe', 'axis', 'ba', 'babies', 'baby', 'back', 'back could', 'back day', 'back days', 'back enjoy', 'back even', 'back every', 'back everything', 'back first', 'back forth', 'back fun', 'back game', 'back get', 'back good', 'back later', 'back main', 'back months', 'back new', 'back no', 'back not', 'back old', 'back one', 'back original', 'back play', 'back playing', 'back point', 'back see', 'back still', 'back time', 'back together', 'back way', 'back would', 'back years', 'backed', 'background', 'backgrounds', 'backing', 'backlash', 'backpack', 'backs', 'backstory', 'backup', 'backwards', 'bad', 'bad also', 'bad bad', 'bad could', 'bad design', 'bad enough', 'bad even', 'bad free', 'bad game', 'bad get', 'bad good', 'bad graphics', 'bad idea', 'bad like', 'bad luck', 'bad matchmaking', 'bad not', 'bad ok', 'bad one', 'bad optimization', 'bad part', 'bad people', 'bad players', 'bad really', 'bad review', 'bad reviews', 'bad still', 'bad stuff', 'bad thing', 'bad things', 'bad time', 'bad updates', 'bad would', 'badass', 'baddies', 'badge', 'badges', 'badly', 'baffling', 'bag', 'bags', 'bait', 'baked', 'balance', 'balance changes', 'balance game', 'balance issues', 'balance not', 'balanced', 'balanced fun', 'balanced game', 'balanced no', 'balanced not', 'balances', 'balancing', 'balancing game', 'balancing issues', 'balenced', 'ball', 'ballistics', 'balloon', 'balloons', 'balls', 'bam', 'ban', 'band', 'banding', 'bandwagon', 'bandwidth', 'bandwith', 'bang', 'bank', 'bank account', 'bankrupt', 'banned', 'banned no', 'banning', 'bans', 'bar', 'barbarian', 'bare', 'bare bones', 'barebones', 'barely', 'barrel', 'barrier', 'bars', 'base', 'base building', 'base game', 'base not', 'based', 'based around', 'based combat', 'based game', 'based gameplay', 'based games', 'based luck', 'based moba', 'based not', 'based player', 'based shooter', 'based skill', 'based upon', 'bases', 'bash', 'bashing', 'basic', 'basic game', 'basic mechanics', 'basically', 'basically everything', 'basically game', 'basically get', 'basically like', 'basically not', 'basicly', 'basics', 'basics game', 'basis', 'basketball', 'basketball game', 'bastard', 'bastards', 'bat', 'battery', 'battle', 'battle arena', 'battle field', 'battle game', 'battle not', 'battle pass', 'battle rating', 'battle ratings', 'battle royal', 'battle royale', 'battle royales', 'battlefield', 'battlefield game', 'battlefront', 'battleground', 'battlegrounds', 'battleon', 'battleroyale', 'battles', 'battles get', 'battles not', 'battleships', 'battleye', 'battling', 'bc', 'bdo', 'be', 'beach', 'beacuse', 'beams', 'bear', 'bearable', 'beast', 'beasts', 'beat', 'beat em', 'beat game', 'beaten', 'beating', 'beats', 'beautiful', 'beautiful game', 'beautiful graphics', 'beautiful masterpiece', 'beautifully', 'beauty', 'became', 'becasue', 'because', 'become', 'become even', 'become one', 'become pay', 'becomes', 'becoming', 'becouse', 'becuase', 'bed', 'beef', 'beefy', 'beeing', 'been', 'beer', 'before', 'beforehand', 'beg', 'began', 'begging', 'beggining', 'begin', 'begin game', 'begining', 'beginner', 'beginner friendly', 'beginner servers', 'beginners', 'beginning', 'beginning game', 'beginning not', 'begins', 'behave', 'behavior', 'behaviour', 'behind', 'behind game', 'behind pay', 'behind paywall', 'behold', 'being', 'beleive', 'belief', 'believe', 'believe game', 'believe not', 'believed', 'belive', 'belong', 'belongs', 'beloved', 'below', 'bend', 'benefit', 'benefit doubt', 'benefits', 'berserker', 'beside', 'besides', 'besides game', 'best', 'best arpg', 'best battle', 'best best', 'best card', 'best cards', 'best ccg', 'best clicker', 'best combat', 'best digital', 'best ever', 'best flight', 'best fps', 'best free', 'best friend', 'best game', 'best games', 'best gear', 'best get', 'best hunting', 'best mmo', 'best mmorpg', 'best moba', 'best not', 'best one', 'best online', 'best part', 'best parts', 'best played', 'best player', 'best players', 'best racing', 'best seen', 'best thing', 'best things', 'best time', 'best way', 'best weapons', 'best would', 'best ww', 'bet', 'beta', 'beta game', 'beta not', 'beta release', 'beta stage', 'beta still', 'beta test', 'bethesda', 'bethesda launcher', 'better', 'better armor', 'better better', 'better card', 'better cards', 'better could', 'better diablo', 'better equipment', 'better every', 'better expected', 'better experience', 'better fortnite', 'better fps', 'better free', 'better game', 'better gameplay', 'better games', 'better gear', 'better get', 'better graphics', 'better guns', 'better hearthstone', 'better items', 'better job', 'better like', 'better loot', 'better minecraft', 'better mobile', 'better not', 'better one', 'better ones', 'better others', 'better people', 'better play', 'better player', 'better playing', 'better pubg', 'better still', 'better stuff', 'better tank', 'better things', 'better time', 'better twilight', 'better vehicles', 'better version', 'better way', 'better weapons', 'better worse', 'better would', 'between', 'beware', 'beyond', 'beyond belief', 'bf', 'bi', 'bias', 'bias towards', 'biased', 'bicycle', 'big', 'big battles', 'big bug', 'big changes', 'big deal', 'big enough', 'big fan', 'big game', 'big issue', 'big one', 'big part', 'big plus', 'big problem', 'big ships', 'big thing', 'big time', 'big update', 'bigger', 'bigger better', 'biggest', 'biggest issue', 'biggest problem', 'biggest problems', 'biggest thing', 'bike', 'bikes', 'bill', 'billion', 'bin', 'bind', 'biome', 'biomes', 'bird', 'birds', 'birth', 'bis', 'bit', 'bit annoying', 'bit better', 'bit boring', 'bit confusing', 'bit different', 'bit expensive', 'bit faster', 'bit fun', 'bit game', 'bit grind', 'bit grindy', 'bit hard', 'bit laggy', 'bit less', 'bit like', 'bit longer', 'bit money', 'bit much', 'bit not', 'bit pay', 'bit slow', 'bit time', 'bits', 'bitter', 'black', 'black desert', 'black screen', 'black squad', 'blade', 'blades', 'blah', 'blah blah', 'blame', 'bland', 'blank', 'blast', 'blast play', 'blasted', 'blasting', 'blatant', 'blatantly', 'blazing', 'bleed', 'blend', 'bless', 'bless online', 'blew', 'blind', 'blink', 'blitz', 'blizzard', 'bloated', 'block', 'blocked', 'blocking', 'blocks', 'blocks build', 'blocks not', 'blocky', 'blood', 'bloody', 'bloom', 'bloon', 'bloons', 'bloons td', 'blow', 'blowing', 'blown', 'blown away', 'blows', 'blue', 'blue eyes', 'blueprint', 'blueprints', 'blur', 'bms', 'board', 'board game', 'boards', 'boast', 'boat', 'boats', 'bodies', 'body', 'boi', 'boils', 'bolt', 'bolt action', 'bomb', 'bombarded', 'bomber', 'bombers', 'bombing', 'bombs', 'bone', 'bones', 'bonus', 'bonuses', 'boobs', 'book', 'books', 'boom', 'boost', 'boosted', 'booster', 'booster pack', 'booster packs', 'boosters', 'boosts', 'boot', 'booted', 'boots', 'borderline', 'bore', 'bored', 'bored game', 'bored not', 'bored playing', 'boredom', 'boring', 'boring fast', 'boring game', 'boring no', 'boring not', 'boring play', 'boring repetitive', 'born', 'boss', 'boss battles', 'boss fights', 'bosses', 'bot', 'both', 'bother', 'bother game', 'bother much', 'bother playing', 'bothered', 'bothering', 'bothers', 'bots', 'bots not', 'bottle', 'bottom', 'bottom line', 'bought', 'bought game', 'bought pro', 'bought real', 'bounce', 'bouncing', 'bound', 'bounty', 'bout', 'bow', 'bowl', 'bows', 'box', 'box get', 'boxes', 'boy', 'boys', 'br', 'bragging', 'brain', 'braindead', 'brainless', 'brains', 'brake', 'brakes', 'branch', 'brand', 'brand new', 'brave', 'brawl', 'brawler', 'brawlhalla', 'breach', 'bread', 'break', 'break game', 'breakdown', 'breaker', 'breaking', 'breaking bug', 'breaking bugs', 'breaks', 'breath', 'breath fresh', 'breathing', 'breathtaking', 'breeze', 'brick', 'bricks', 'bridge', 'brief', 'bright', 'brilliant', 'brilliant game', 'bring', 'bring back', 'bring game', 'bring new', 'bringing', 'bringing back', 'brings', 'brings back', 'british', 'british tanks', 'bro', 'broke', 'broke game', 'broken', 'broken game', 'broken not', 'bronze', 'bros', 'brother', 'brotherhood', 'brothers', 'brought', 'brought back', 'brown', 'browser', 'browser game', 'browser version', 'brs', 'brutal', 'bs', 'bs game', 'btd', 'btw', 'bu', 'buck', 'bucks', 'bucks game', 'bucks get', 'buddies', 'buddy', 'budget', 'buff', 'buffed', 'buffing', 'buffs', 'bug', 'bug bugs', 'bug fixes', 'bug not', 'bugged', 'buggy', 'buggy not', 'bugs', 'bugs bugs', 'bugs destroying', 'bugs game', 'bugs get', 'bugs glitches', 'bugs like', 'bugs not', 'bugs nothing', 'bugs still', 'build', 'build character', 'build collection', 'build cool', 'build deck', 'build decks', 'build game', 'build good', 'build new', 'build not', 'build robot', 'build robots', 'build things', 'builder', 'builders', 'building', 'building blocks', 'building game', 'buildings', 'builds', 'built', 'buisness', 'bull', 'bullet', 'bullet drop', 'bullet hell', 'bullets', 'bullsh', 'bump', 'bumps', 'bunch', 'bunch people', 'bundle', 'bundles', 'bunny', 'burn', 'burned', 'burning', 'burnt', 'burst', 'bursts', 'bus', 'bush', 'bushes', 'business', 'business model', 'business tour', 'bust', 'busy', 'but', 'but game', 'but not', 'but still', 'butt', 'butter', 'button', 'button not', 'buttons', 'buy', 'buy ammo', 'buy anything', 'buy better', 'buy card', 'buy cards', 'buy classes', 'buy dlc', 'buy every', 'buy everything', 'buy extra', 'buy game', 'buy gear', 'buy gems', 'buy get', 'buy gold', 'buy golden', 'buy good', 'buy gun', 'buy guns', 'buy in', 'buy ingame', 'buy it', 'buy item', 'buy items', 'buy like', 'buy membership', 'buy new', 'buy next', 'buy not', 'buy one', 'buy packs', 'buy parts', 'buy play', 'buy premium', 'buy pro', 'buy real', 'buy skins', 'buy something', 'buy starter', 'buy stuff', 'buy tank', 'buy thing', 'buy things', 'buy want', 'buy way', 'buy weapon', 'buy weapons', 'buy zen', 'buyable', 'buying', 'buying anything', 'buying dlc', 'buying game', 'buying new', 'buying packs', 'buying premium', 'buying things', 'buys', 'by', 'bye', 'bypass', 'ca', 'cake', 'caliber', 'call', 'call duty', 'call game', 'call wild', 'called', 'called gaijin', 'callers', 'calling', 'calls', 'calm', 'cam', 'came', 'came across', 'came around', 'came back', 'came game', 'came not', 'came steam', 'camera', 'camera angle', 'camo', 'camos', 'camouflage', 'camp', 'campaign', 'campaigns', 'camped', 'campers', 'camping', 'camps', 'can', 'can not', 'cancel', 'cancer', 'cancerous', 'candy', 'cannon', 'cannons', 'cannot', 'cant', 'cant afford', 'cant anything', 'cant change', 'cant even', 'cant find', 'cant get', 'cant play', 'cant really', 'cant recommend', 'cant see', 'cant stop', 'cant use', 'cant wait', 'cap', 'capabilities', 'capable', 'capacity', 'capital', 'capital ship', 'capital ships', 'capitalist', 'capped', 'capping', 'caps', 'captain', 'capture', 'capture enemy', 'capture flag', 'capture point', 'capture points', 'captured', 'captures', 'capturing', 'car', 'car track', 'card', 'card art', 'card collection', 'card deck', 'card decks', 'card design', 'card draw', 'card game', 'card games', 'card not', 'card pack', 'card packs', 'card pool', 'cardboard', 'cardboard cut', 'cardboard cutouts', 'cardgame', 'cards', 'cards also', 'cards card', 'cards cards', 'cards deck', 'cards decks', 'cards draft', 'cards even', 'cards game', 'cards get', 'cards gold', 'cards hand', 'cards like', 'cards make', 'cards need', 'cards no', 'cards not', 'cards one', 'cards packs', 'cards per', 'cards pick', 'cards play', 'cards playing', 'cards really', 'cards want', 'cards well', 'cards without', 'cards would', 'care', 'care community', 'care enough', 'care game', 'care less', 'care money', 'care much', 'care players', 'cared', 'career', 'careful', 'carefully', 'cares', 'caring', 'carried', 'carrier', 'carries', 'carry', 'carrying', 'cars', 'cars free', 'cars not', 'cars tracks', 'cart', 'cartoon', 'cartoon like', 'cartoonish', 'cartoony', 'case', 'case game', 'case not', 'cases', 'cash', 'cash buy', 'cash cow', 'cash game', 'cash get', 'cash grab', 'cash grabs', 'cash not', 'cash shop', 'cashgrab', 'cast', 'casting', 'castle', 'casual', 'casual competitive', 'casual fun', 'casual game', 'casual gamer', 'casual gamers', 'casual games', 'casual hardcore', 'casual mode', 'casual play', 'casual player', 'casual players', 'casual ranked', 'casually', 'casuals', 'cat', 'catch', 'catches', 'catching', 'categories', 'category', 'cater', 'caught', 'cause', 'cause game', 'cause not', 'caused', 'causes', 'causing', 'caution', 'cave', 'caves', 'cc', 'ccg', 'ccgs', 'ceiling', 'cell', 'cells', 'censor', 'censored', 'censoring', 'censorship', 'cent', 'center', 'centered', 'centered around', 'central', 'cents', 'century', 'ceo', 'cert', 'certain', 'certain amount', 'certain cards', 'certain level', 'certain point', 'certain things', 'certainly', 'certainly not', 'certs', 'chain', 'chains', 'chair', 'challange', 'challenge', 'challenges', 'challenging', 'champion', 'champions', 'championship', 'championships', 'chance', 'chance get', 'chance getting', 'chance not', 'chance play', 'chance win', 'chance winning', 'chances', 'change', 'change anything', 'change game', 'change mind', 'change not', 'change pace', 'change resolution', 'change review', 'change things', 'change way', 'changed', 'changed game', 'changed much', 'changed since', 'changes', 'changes every', 'changes game', 'changes like', 'changes made', 'changes not', 'changing', 'channel', 'channels', 'chaos', 'chaotic', 'chapter', 'chapters', 'char', 'character', 'character class', 'character classes', 'character creation', 'character creator', 'character customization', 'character design', 'character different', 'character game', 'character get', 'character models', 'character movement', 'character not', 'character play', 'character progression', 'character slot', 'character slots', 'character unique', 'character want', 'characteristics', 'characters', 'characters choose', 'characters different', 'characters even', 'characters game', 'characters get', 'characters level', 'characters make', 'characters not', 'characters play', 'characters unique', 'characters use', 'charge', 'charged', 'charges', 'charging', 'charm', 'charming', 'chars', 'charts', 'chase', 'chased', 'chasing', 'chat', 'chat system', 'chats', 'chatting', 'cheap', 'cheaper', 'cheapest', 'cheat', 'cheat system', 'cheated', 'cheater', 'cheaters', 'cheating', 'cheats', 'check', 'check back', 'check game', 'checked', 'checking', 'checking game', 'checks', 'cheers', 'cheese', 'cheesy', 'chess', 'chest', 'chests', 'chick', 'chicken', 'chickens', 'child', 'childhood', 'childish', 'children', 'chill', 'chilling', 'china', 'chinese', 'ching', 'chips', 'choice', 'choice not', 'choices', 'choke', 'choose', 'choose class', 'choose different', 'choose from', 'choose not', 'choose one', 'choose play', 'choose want', 'choosing', 'chopper', 'choppy', 'chore', 'chose', 'chosen', 'christ', 'christmas', 'chung', 'chunk', 'cinematic', 'circle', 'circles', 'circuit', 'circumstances', 'cities', 'citizen', 'city', 'civilian', 'ck', 'cking', 'claim', 'claimed', 'claiming', 'claims', 'clan', 'clans', 'clash', 'class', 'class abilities', 'class balance', 'class based', 'class game', 'class not', 'class specific', 'class system', 'class weapons', 'classes', 'classes abilities', 'classes choose', 'classes different', 'classes feel', 'classes fun', 'classes game', 'classes not', 'classes play', 'classes unique', 'classic', 'classified', 'claws', 'clean', 'cleaning', 'clear', 'clear game', 'clear not', 'clearly', 'clearly not', 'clever', 'click', 'click click', 'click game', 'click not', 'clickable', 'clicked', 'clicker', 'clicker game', 'clicker games', 'clicker heroes', 'clicker idle', 'clickers', 'clicking', 'clicks', 'client', 'cliff', 'cliffs', 'climb', 'climber', 'climbing', 'clip', 'clipping', 'clips', 'cloak', 'clock', 'clocked', 'clone', 'clones', 'close', 'close enough', 'close game', 'close hours', 'close quarters', 'close range', 'closed', 'closed beta', 'closely', 'closer', 'closes', 'closest', 'closing', 'clothes', 'clothing', 'cloud', 'club', 'clubbing', 'clubs', 'clue', 'clueless', 'clumsy', 'clunky', 'cluster', 'cluttered', 'cm', 'co', 'co op', 'co store', 'coast', 'cobra', 'cockpit', 'cockpits', 'cod', 'cod cs', 'code', 'coded', 'codes', 'coding', 'coffee', 'coffin', 'coin', 'coins', 'cola', 'cold', 'cold war', 'collect', 'collect cards', 'collect resources', 'collected', 'collectible', 'collectible card', 'collecting', 'collection', 'collector', 'college', 'collision', 'color', 'colored', 'colorful', 'colors', 'colour', 'colours', 'com', 'com app', 'com sharedfiles', 'com watch', 'combat', 'combat arms', 'combat feels', 'combat flight', 'combat fun', 'combat game', 'combat games', 'combat great', 'combat mechanics', 'combat not', 'combat pretty', 'combat really', 'combat sim', 'combat simulator', 'combat style', 'combat system', 'combination', 'combinations', 'combine', 'combined', 'combined arms', 'combines', 'combining', 'combo', 'combo system', 'combos', 'come', 'come across', 'come back', 'come close', 'come free', 'come game', 'come long', 'come new', 'come not', 'come play', 'come top', 'come true', 'comeback', 'comedy', 'comes', 'comes along', 'comes close', 'comes game', 'comes play', 'comfort', 'comfortable', 'comfortably', 'comic', 'comical', 'comics', 'coming', 'coming back', 'coming game', 'coming someone', 'coming soon', 'command', 'commander', 'commands', 'commend', 'comment', 'commentary', 'comments', 'comming', 'commit', 'commitment', 'committed', 'common', 'common sense', 'common uncommon', 'commonly', 'commons', 'communicate', 'communicating', 'communication', 'communist', 'communities', 'community', 'community also', 'community always', 'community community', 'community devs', 'community ever', 'community feedback', 'community friendly', 'community full', 'community game', 'community good', 'community great', 'community like', 'community mostly', 'community nice', 'community not', 'community one', 'community people', 'community players', 'community pretty', 'community really', 'community seems', 'community servers', 'community support', 'community toxic', 'community well', 'community would', 'comp', 'companies', 'companion', 'companions', 'company', 'company not', 'comparable', 'compare', 'compare game', 'compared', 'compared games', 'compared hearthstone', 'compared others', 'comparing', 'comparison', 'comparisons', 'compatible', 'compelling', 'compensate', 'compensation', 'competative', 'compete', 'competent', 'competetive', 'competing', 'competition', 'competitions', 'competitive', 'competitive casual', 'competitive deck', 'competitive decks', 'competitive game', 'competitive mode', 'competitive play', 'competitive player', 'competitive players', 'competitive scene', 'competitively', 'competitor', 'competitors', 'competitve', 'complain', 'complained', 'complaining', 'complains', 'complaint', 'complaint game', 'complaints', 'complaints game', 'complete', 'complete game', 'complete lack', 'complete mess', 'complete quest', 'complete quests', 'complete utter', 'complete waste', 'completed', 'completely', 'completely broken', 'completely destroyed', 'completely different', 'completely free', 'completely optional', 'completely random', 'completely ruined', 'completely unbalanced', 'completely useless', 'completing', 'completion', 'completly', 'complex', 'complex game', 'complexity', 'complicated', 'component', 'components', 'composed', 'composition', 'comprehensive', 'compressed', 'compromise', 'computer', 'computer difficulty', 'computer even', 'computer game', 'computer not', 'computer play', 'computer run', 'computers', 'comrades', 'comunity', 'con', 'concept', 'concept game', 'concept great', 'concepts', 'concern', 'concerned', 'concerning', 'concerns', 'conclude', 'conclusion', 'conclusion game', 'condition', 'conditions', 'confidence', 'confident', 'config', 'configuration', 'configure', 'confirm', 'confirmation', 'confirmed', 'conflict', 'confused', 'confusing', 'confusion', 'conga', 'conglomerate', 'congrats', 'congratulations', 'connect', 'connect server', 'connected', 'connecting', 'connection', 'connection issues', 'connections', 'connectivity', 'conquer', 'conquest', 'cons', 'cons game', 'cons no', 'cons not', 'cons pay', 'cons pros', 'cons the', 'conscience', 'consecutive', 'consequences', 'consider', 'consider game', 'considerable', 'considerably', 'consideration', 'considered', 'considering', 'considering free', 'considering game', 'consist', 'consistency', 'consistent', 'consistently', 'consists', 'console', 'consoles', 'constant', 'constant updates', 'constantly', 'constantly get', 'constantly updated', 'constantly updating', 'construct', 'constructed', 'construction', 'constructive', 'constructive criticism', 'consumables', 'consume', 'consumer', 'consumers', 'consuming', 'contact', 'contacted', 'contacting', 'contain', 'containing', 'contains', 'contender', 'content', 'content added', 'content also', 'content available', 'content even', 'content every', 'content free', 'content game', 'content get', 'content keep', 'content like', 'content no', 'content not', 'content really', 'content updates', 'content would', 'contents', 'contest', 'context', 'continent', 'continents', 'continually', 'continue', 'continue play', 'continue playing', 'continued', 'continues', 'continuing', 'continuous', 'continuously', 'contrary', 'contrast', 'contribute', 'contributing', 'control', 'control character', 'control game', 'control point', 'control points', 'controlled', 'controller', 'controller support', 'controllers', 'controlling', 'controlls', 'controls', 'controls easy', 'controls feel', 'controls game', 'controls not', 'controls pretty', 'controls simple', 'controversial', 'convenience', 'conversations', 'conversion', 'convert', 'converted', 'convince', 'convinced', 'convoluted', 'cookie', 'cookie clicker', 'cookie cutter', 'cooking', 'cool', 'cool features', 'cool fun', 'cool game', 'cool idea', 'cool items', 'cool looking', 'cool new', 'cool not', 'cool play', 'cool stuff', 'cool things', 'cooldown', 'cooldowns', 'cooler', 'coolest', 'coop', 'cooperation', 'coordinated', 'coordination', 'copied', 'copies', 'copies card', 'copy', 'copy paste', 'copy pasted', 'copying', 'core', 'core game', 'core gameplay', 'core mechanics', 'cores', 'corner', 'corners', 'cornerstone', 'corp', 'corpse', 'correct', 'corrected', 'correctly', 'corrupted', 'corruption', 'corsa', 'cos', 'cosmetic', 'cosmetic items', 'cosmetics', 'cosmetics not', 'cost', 'cost around', 'cost game', 'cost like', 'cost lot', 'cost money', 'cost much', 'cost real', 'costing', 'costly', 'costs', 'costs money', 'costs much', 'costs real', 'costume', 'costumes', 'cottontail', 'couch', 'cough', 'cough cough', 'could', 'could actually', 'could add', 'could also', 'could argue', 'could become', 'could better', 'could build', 'could buy', 'could change', 'could choose', 'could done', 'could easily', 'could even', 'could ever', 'could find', 'could fix', 'could fun', 'could get', 'could give', 'could go', 'could good', 'could great', 'could help', 'could improved', 'could make', 'could much', 'could never', 'could no', 'could not', 'could one', 'could pay', 'could play', 'could possibly', 'could probably', 'could really', 'could run', 'could say', 'could see', 'could spend', 'could still', 'could take', 'could use', 'could used', 'could want', 'could write', 'couldnt', 'count', 'counted', 'counter', 'counter strike', 'countered', 'counterpart', 'counterparts', 'counters', 'counterstrike', 'counting', 'countless', 'countless hours', 'countries', 'country', 'counts', 'couple', 'couple days', 'couple friends', 'couple games', 'couple hours', 'couple hundred', 'couple minutes', 'couple months', 'couple things', 'couple times', 'couple weeks', 'couple years', 'coupled', 'courier', 'course', 'course game', 'course like', 'course not', 'cousin', 'cover', 'covered', 'covering', 'covers', 'cow', 'coz', 'cpu', 'cr', 'crack', 'craft', 'craft cards', 'craftable', 'crafted', 'crafting', 'crafting items', 'crafting system', 'crap', 'crap game', 'crap not', 'crappy', 'crash', 'crashed', 'crashed times', 'crashes', 'crashes every', 'crashing', 'crate', 'crate system', 'crates', 'crates not', 'crawl', 'crawler', 'crawling', 'crazy', 'crazy amount', 'create', 'create character', 'create new', 'created', 'creates', 'creating', 'creating game', 'creation', 'creations', 'creative', 'creative mode', 'creativerse', 'creativity', 'creator', 'creators', 'creature', 'creatures', 'creatures not', 'credit', 'credit card', 'credits', 'credits buy', 'credits get', 'creep', 'creeps', 'creepy', 'crew', 'crew members', 'crews', 'cried', 'cringe', 'crippling', 'crisp', 'crit', 'critical', 'critical hits', 'criticism', 'critique', 'crits', 'cross', 'cross platform', 'crossbow', 'crossed', 'crosshair', 'crossout', 'crouch', 'crowd', 'crowded', 'crown', 'crucial', 'cruel', 'crusaders', 'crush', 'crushed', 'crushing', 'cry', 'crying', 'cryptic', 'crystal', 'crystals', 'cs', 'cs go', 'csgo', 'ctf', 'ctrl', 'cube', 'cubes', 'cubeworld', 'cubits', 'cuisine', 'cuisine royale', 'culture', 'cultures', 'cumbersome', 'cup', 'cup tea', 'curency', 'curiosity', 'curious', 'currencies', 'currency', 'currency also', 'currency buy', 'currency called', 'currency earn', 'currency earned', 'currency game', 'currency get', 'currency not', 'currency system', 'currency used', 'current', 'current meta', 'current state', 'currently', 'currently available', 'currently game', 'currently not', 'curse', 'cursor', 'curve', 'curve not', 'custom', 'custom game', 'custom games', 'customer', 'customer service', 'customer support', 'customers', 'customisation', 'customise', 'customizable', 'customization', 'customization options', 'customizations', 'customize', 'customize character', 'customized', 'cut', 'cut outs', 'cut scenes', 'cute', 'cutesy', 'cutouts', 'cuts', 'cutscenes', 'cutter', 'cutting', 'cuz', 'cyber', 'cycle', 'da', 'dad', 'dailies', 'daily', 'daily basis', 'daily login', 'daily missions', 'daily quest', 'daily quests', 'daily rewards', 'dam', 'damage', 'damage enemy', 'damage model', 'damage models', 'damage no', 'damage not', 'damage output', 'damage per', 'damage system', 'damaged', 'damages', 'damaging', 'damn', 'damn game', 'damn good', 'damn near', 'damn thing', 'damned', 'dance', 'dancing', 'danger', 'dangerous', 'dank', 'dare', 'dark', 'dark brotherhood', 'dark souls', 'darker', 'darkness', 'darn', 'dart', 'das', 'dash', 'data', 'date', 'dated', 'daunting', 'day', 'day day', 'day every', 'day game', 'day get', 'day long', 'day night', 'day not', 'day one', 'day playing', 'day two', 'daybreak', 'days', 'days ago', 'days game', 'days get', 'days later', 'days not', 'days playing', 'dayz', 'dc', 'dcs', 'dcs not', 'dcs world', 'ddr', 'de', 'dead', 'dead game', 'dead not', 'deadly', 'deal', 'deal breaker', 'deal damage', 'dealing', 'deals', 'dealt', 'dear', 'death', 'death game', 'death match', 'death not', 'deathclaw', 'deathclaws', 'deathmatch', 'deaths', 'dec', 'deca', 'deca games', 'decade', 'decades', 'decals', 'december', 'decent', 'decent amount', 'decent computer', 'decent deck', 'decent enough', 'decent fps', 'decent game', 'decent graphics', 'decently', 'decide', 'decide make', 'decide play', 'decide want', 'decide whether', 'decided', 'decided give', 'decided go', 'decided make', 'decided not', 'decided play', 'decided take', 'decided try', 'decides', 'deciding', 'decision', 'decision making', 'decisions', 'deck', 'deck building', 'deck cards', 'deck game', 'deck get', 'deck like', 'deck no', 'deck not', 'deck play', 'deck size', 'deck types', 'deck without', 'deckbuilding', 'decks', 'decks game', 'decks like', 'decks not', 'decks play', 'decline', 'decorative', 'decrease', 'decreased', 'decreases', 'decreasing', 'dedicate', 'dedicated', 'dedication', 'deep', 'deep enough', 'deep strategy', 'deeper', 'deeply', 'deer', 'deer rabbits', 'deers', 'def', 'default', 'defeat', 'defeated', 'defeating', 'defeats', 'defence', 'defend', 'defender', 'defenders', 'defending', 'defense', 'defenses', 'defensive', 'definately', 'definately worth', 'definatly', 'defined', 'definetely', 'definetly', 'defining', 'definite', 'definitely', 'definitely game', 'definitely get', 'definitely give', 'definitely not', 'definitely one', 'definitely recommend', 'definitely try', 'definitely worth', 'definition', 'definitive', 'definitly', 'degree', 'degrees', 'delay', 'delayed', 'delays', 'delete', 'delete game', 'deleted', 'deleting', 'deliberately', 'deliver', 'delivered', 'delivering', 'delivers', 'delve', 'dem', 'demand', 'demanding', 'demands', 'demise', 'demo', 'demolition', 'demoman', 'demon', 'denied', 'deny', 'denying', 'department', 'depend', 'dependant', 'dependent', 'depending', 'depending game', 'depends', 'deploy', 'deployed', 'depressing', 'depression', 'depth', 'depth game', 'depths', 'descent', 'describe', 'describe game', 'described', 'describing', 'description', 'descriptions', 'desert', 'desert online', 'deserve', 'deserved', 'deserves', 'design', 'design choices', 'design decisions', 'design game', 'designated', 'designed', 'designed game', 'designed make', 'designer', 'designers', 'designing', 'designs', 'desire', 'desired', 'desk', 'desktop', 'desperate', 'desperately', 'despise', 'despite', 'despite fact', 'despite game', 'destination', 'destiny', 'destroy', 'destroy enemy', 'destroy game', 'destroyed', 'destroyed game', 'destroyer', 'destroyers', 'destroying', 'destroying enemy', 'destroying game', 'destroys', 'destruction', 'desync', 'detail', 'detailed', 'details', 'detect', 'detected', 'detection', 'determine', 'determined', 'determines', 'dev', 'dev not', 'dev team', 'develop', 'developed', 'developement', 'developer', 'developer not', 'developers', 'developers actually', 'developers decided', 'developers dont', 'developers fix', 'developers game', 'developers keep', 'developers made', 'developers make', 'developers need', 'developers not', 'developers please', 'developers really', 'developers seem', 'developers want', 'developers would', 'developing', 'developing game', 'development', 'development game', 'development team', 'develops', 'device', 'devices', 'devil', 'devolved', 'devs', 'devs active', 'devs actually', 'devs constantly', 'devs decided', 'devs dont', 'devs fix', 'devs game', 'devs got', 'devs great', 'devs keep', 'devs know', 'devs listen', 'devs made', 'devs make', 'devs money', 'devs need', 'devs no', 'devs not', 'devs put', 'devs really', 'devs ruined', 'devs said', 'devs seem', 'devs still', 'devs trying', 'devs want', 'devs working', 'devs would', 'di', 'diablo', 'diablo ii', 'diablo iii', 'diablo not', 'dialog', 'dialogue', 'diamond', 'diamonds', 'dice', 'dice roll', 'dice rolls', 'did', 'did mention', 'didnt', 'didnt even', 'didnt know', 'didnt like', 'didnt play', 'die', 'die alot', 'die die', 'die game', 'die hard', 'die lose', 'die lot', 'die not', 'died', 'dieing', 'dies', 'diferent', 'diff', 'differ', 'difference', 'differences', 'different', 'different abilities', 'different areas', 'different biomes', 'different character', 'different characters', 'different class', 'different classes', 'different decks', 'different different', 'different enough', 'different factions', 'different game', 'different guns', 'different items', 'different kinds', 'different maps', 'different not', 'different one', 'different options', 'different others', 'different play', 'different playstyles', 'different roles', 'different ships', 'different story', 'different styles', 'different things', 'different types', 'different unique', 'different ways', 'different weapons', 'differentiate', 'differently', 'differnt', 'difficulity', 'difficult', 'difficult get', 'difficult not', 'difficult play', 'difficulties', 'difficulty', 'diffrent', 'dig', 'digging', 'digital', 'digital card', 'digital ccg', 'digital game', 'dime', 'dime game', 'dimensional', 'dinner', 'dip', 'dire', 'dire wolf', 'direct', 'direction', 'direction game', 'directions', 'directly', 'directx', 'direwolf', 'dirt', 'dirty', 'dis', 'disable', 'disabled', 'disadvantage', 'disadvantages', 'disagree', 'disapointed', 'disapointing', 'disappear', 'disappears', 'disappoint', 'disappointed', 'disappointed game', 'disappointing', 'disappointment', 'disassemble', 'disassemble reassemble', 'disassembling', 'disassembly', 'disaster', 'discard', 'disclaimer', 'disconnect', 'disconnected', 'disconnected server', 'disconnecting', 'disconnects', 'discord', 'discount', 'discounts', 'discourage', 'discouraged', 'discover', 'discovered', 'discovering', 'discuss', 'discussion', 'discussions', 'disgrace', 'disguise', 'disgusting', 'dish', 'dislike', 'dislike game', 'disliked', 'dislikes', 'display', 'displayed', 'displays', 'disposal', 'disregard', 'dissapointed', 'dissapointing', 'dissapointment', 'distance', 'distances', 'distant', 'distinct', 'distraction', 'distribution', 'disturbing', 'dive', 'diverse', 'diversity', 'divide', 'divided', 'divine', 'dlc', 'dlc game', 'dlc not', 'dlcs', 'dmg', 'dnd', 'do', 'do not', 'doable', 'doctor', 'dodge', 'dodging', 'doe', 'does', 'does not', 'doesnt', 'doesnt even', 'doesnt feel', 'doesnt get', 'doesnt make', 'doesnt matter', 'doesnt mean', 'doesnt really', 'doesnt take', 'doesnt work', 'dog', 'dogfight', 'dogfighting', 'dogfights', 'dogs', 'doing', 'dollar', 'dollars', 'dollars game', 'dominate', 'dominated', 'dominating', 'domination', 'don', 'donate', 'done', 'done anything', 'done better', 'done game', 'done good', 'done great', 'done like', 'done much', 'done not', 'done nothing', 'done really', 'done right', 'done well', 'dont', 'dont anything', 'dont bother', 'dont buy', 'dont care', 'dont download', 'dont even', 'dont expect', 'dont feel', 'dont forget', 'dont get', 'dont give', 'dont install', 'dont know', 'dont let', 'dont like', 'dont listen', 'dont look', 'dont make', 'dont mean', 'dont mind', 'dont much', 'dont need', 'dont pay', 'dont play', 'dont really', 'dont recommend', 'dont see', 'dont seem', 'dont spend', 'dont take', 'dont think', 'dont touch', 'dont try', 'dont understand', 'dont use', 'dont want', 'dont waste', 'dont worry', 'doom', 'door', 'doors', 'dope', 'dos', 'dos not', 'dose', 'dose not', 'dosent', 'dot', 'dota', 'dota community', 'dota dota', 'dota league', 'dota like', 'dota lol', 'dota not', 'dota player', 'dota since', 'double', 'double jump', 'doubles', 'doubt', 'doubt best', 'down', 'downed', 'downfall', 'downhill', 'download', 'download free', 'download game', 'download not', 'download play', 'download try', 'downloaded', 'downloaded game', 'downloading', 'downloading game', 'downloads', 'downright', 'downs', 'downside', 'downside game', 'downsides', 'downtime', 'downvote', 'dozen', 'dozens', 'dps', 'dr', 'dr game', 'dr not', 'draft', 'draft forge', 'draft mode', 'drafted', 'drafting', 'drafts', 'drag', 'dragged', 'dragging', 'dragon', 'dragonfable', 'dragons', 'drain', 'drama', 'dramatically', 'drastic', 'drastically', 'draw', 'draw card', 'draw cards', 'draw mana', 'draw power', 'drawback', 'drawbacks', 'drawing', 'drawn', 'draws', 'dreadful', 'dreadnought', 'dream', 'dreams', 'dress', 'dressed', 'drew', 'drink', 'drinking', 'drive', 'drive cars', 'drive space', 'driven', 'driver', 'drivers', 'drives', 'driving', 'drm', 'drone', 'drones', 'drop', 'drop money', 'drop rate', 'drop rates', 'drop system', 'dropped', 'dropping', 'drops', 'drops not', 'drought', 'drove', 'drug', 'drugs', 'drunk', 'dry', 'ds', 'dtm', 'dtm experience', 'dual', 'duck', 'dude', 'dudes', 'due', 'due fact', 'due game', 'due lack', 'due not', 'due server', 'duel', 'duel links', 'dueling', 'duelist', 'duelists', 'duels', 'duelyst', 'dull', 'dumb', 'dumbed', 'dumbest', 'dump', 'dumped', 'dumping', 'dumpster', 'dungeon', 'dungeon crawler', 'dungeons', 'dungeons dragons', 'dungeons get', 'dungeons not', 'dunno', 'duo', 'duos', 'duping', 'duplicate', 'duplicates', 'duplication', 'duration', 'during', 'dust', 'duty', 'dwd', 'dweller', 'dwellers', 'dx', 'dying', 'dynamic', 'dynamics', 'ea', 'eac', 'each', 'eachother', 'eagle', 'eagle dynamics', 'eagles', 'earlier', 'earn', 'earn cards', 'earn credits', 'earn enough', 'earn game', 'earn gold', 'earn in', 'earn money', 'earn playing', 'earn points', 'earned', 'earned game', 'earned money', 'earning', 'earnings', 'earns', 'ears', 'earth', 'ease', 'easier', 'easier get', 'easier play', 'easiest', 'easily', 'easily best', 'easily get', 'easily one', 'easily play', 'east', 'easter', 'eastern', 'easy', 'easy enough', 'easy find', 'easy fun', 'easy game', 'easy get', 'easy kill', 'easy learn', 'easy make', 'easy not', 'easy pick', 'easy play', 'easy run', 'easy see', 'easy understand', 'easy use', 'easy way', 'eat', 'eating', 'eats', 'ecg', 'economic', 'economy', 'economy game', 'ect', 'ed', 'ed game', 'edge', 'edges', 'edgy', 'edit', 'edit game', 'edit review', 'edited', 'editing', 'edition', 'editor', 'edits', 'educational', 'effect', 'effective', 'effectively', 'effectiveness', 'effects', 'efficient', 'efficiently', 'effort', 'effort put', 'efforts', 'eg', 'egg', 'eggs', 'eh', 'eight', 'either', 'either get', 'either make', 'either not', 'either pay', 'either play', 'either wait', 'either way', 'el', 'elaborate', 'elder', 'elder scroll', 'elder scrolls', 'electronic', 'element', 'element game', 'elemental', 'elements', 'elements game', 'elements not', 'elevator', 'elf', 'eliminate', 'eliminated', 'elite', 'elo', 'else', 'else game', 'else not', 'else play', 'else say', 'else would', 'elsewhere', 'elsword', 'elysium', 'em', 'email', 'emergency', 'emotes', 'emotional', 'emphasis', 'empire', 'employees', 'empty', 'en', 'enable', 'enabled', 'enables', 'enchantments', 'encounter', 'encountered', 'encounters', 'encourage', 'encouraged', 'encourages', 'encouraging', 'end', 'end computers', 'end day', 'end game', 'end getting', 'end goal', 'end like', 'end match', 'end nasa', 'end not', 'end pc', 'end playing', 'end turn', 'ended', 'endgame', 'endgame content', 'ending', 'endless', 'endless hours', 'endless story', 'endlessly', 'ends', 'endurance', 'endure', 'enemies', 'enemies not', 'enemy', 'enemy base', 'enemy not', 'enemy player', 'enemy players', 'enemy ships', 'enemy tank', 'enemy tanks', 'enemy team', 'enemys', 'energy', 'engage', 'engaged', 'engagement', 'engaging', 'engine', 'engine not', 'engineer', 'engineers', 'engines', 'english', 'enhance', 'enhancements', 'enjoy', 'enjoy game', 'enjoy games', 'enjoy getting', 'enjoy good', 'enjoy it', 'enjoy lot', 'enjoy much', 'enjoy not', 'enjoy one', 'enjoy playing', 'enjoy time', 'enjoyable', 'enjoyable experience', 'enjoyable game', 'enjoyable not', 'enjoyable play', 'enjoyed', 'enjoyed every', 'enjoyed game', 'enjoyed playing', 'enjoyed time', 'enjoying', 'enjoying far', 'enjoying game', 'enjoyment', 'enjoyment game', 'enjoys', 'enormous', 'enough', 'enough buy', 'enough cards', 'enough content', 'enough even', 'enough game', 'enough get', 'enough give', 'enough gold', 'enough keep', 'enough make', 'enough money', 'enough not', 'enough people', 'enough play', 'enough players', 'enough said', 'enough time', 'enought', 'ensure', 'enter', 'enter game', 'entered', 'entering', 'entertain', 'entertained', 'entertaining', 'entertainment', 'entertainment games', 'enthusiast', 'enthusiasts', 'enticing', 'entire', 'entire game', 'entire life', 'entire map', 'entire match', 'entire team', 'entire time', 'entirely', 'entirely different', 'entirely free', 'entirety', 'entitled', 'entrance', 'entries', 'entry', 'enviroment', 'environment', 'environments', 'epic', 'epic loot', 'epics', 'eq', 'equal', 'equally', 'equals', 'equip', 'equipment', 'equipment not', 'equipments', 'equipped', 'equipping', 'equips', 'equivalent', 'er', 'era', 'erased', 'error', 'error message', 'error not', 'errors', 'ers', 'es', 'esc', 'escape', 'escaping', 'esl', 'eso', 'esp', 'especially', 'especially considering', 'especially free', 'especially friends', 'especially new', 'especially not', 'especially people', 'especially play', 'especially since', 'esports', 'esque', 'essence', 'essential', 'essentially', 'est', 'establish', 'established', 'esteem', 'et', 'etc', 'etc also', 'etc etc', 'etc game', 'etc not', 'etc really', 'etc would', 'eternal', 'eternal great', 'eternal not', 'eternity', 'eu', 'eu servers', 'euro', 'europe', 'european', 'euros', 'eve', 'eve online', 'even', 'even able', 'even added', 'even bad', 'even basic', 'even begin', 'even best', 'even better', 'even bigger', 'even bit', 'even bother', 'even bought', 'even buy', 'even care', 'even close', 'even consider', 'even could', 'even dont', 'even feel', 'even find', 'even finished', 'even first', 'even free', 'even fun', 'even game', 'even get', 'even getting', 'even give', 'even go', 'even going', 'even good', 'even got', 'even harder', 'even high', 'even hours', 'even ing', 'even kill', 'even know', 'even less', 'even let', 'even level', 'even like', 'even little', 'even longer', 'even look', 'even low', 'even lowest', 'even make', 'even money', 'even more', 'even need', 'even new', 'even no', 'even not', 'even old', 'even one', 'even pay', 'even people', 'even play', 'even played', 'even playing', 'even point', 'even premium', 'even put', 'even really', 'even remotely', 'even run', 'even say', 'even see', 'even slightly', 'even someone', 'even spend', 'even start', 'even steam', 'even still', 'even take', 'even tell', 'even think', 'even tho', 'even though', 'even time', 'even top', 'even tried', 'even try', 'even trying', 'even unlock', 'even use', 'even using', 'even want', 'even win', 'even without', 'even work', 'even worse', 'even worth', 'even years', 'evening', 'evenly', 'event', 'events', 'eventually', 'eventually get', 'ever', 'ever come', 'ever encountered', 'ever ever', 'ever game', 'ever get', 'ever got', 'ever made', 'ever need', 'ever not', 'ever play', 'ever played', 'ever see', 'ever seen', 'ever since', 'ever want', 'ever wanted', 'everquest', 'everthing', 'every', 'every animal', 'every aspect', 'every battle', 'every bit', 'every card', 'every character', 'every class', 'every couple', 'every day', 'every days', 'every detail', 'every faction', 'every free', 'every game', 'every god', 'every gun', 'every hero', 'every hour', 'every hours', 'every ing', 'every item', 'every level', 'every major', 'every map', 'every match', 'every minute', 'every minutes', 'every mmo', 'every moment', 'every month', 'every months', 'every new', 'every often', 'every one', 'every patch', 'every penny', 'every person', 'every plane', 'every player', 'every possible', 'every round', 'every second', 'every seconds', 'every server', 'every ship', 'every shot', 'every single', 'every step', 'every tank', 'every thing', 'every time', 'every turn', 'every two', 'every update', 'every vehicle', 'every way', 'every weapon', 'every week', 'every weeks', 'everybody', 'everybody else', 'everyday', 'everyone', 'everyone casual', 'everyone else', 'everyone enjoy', 'everyone game', 'everyone get', 'everyone gets', 'everyone knows', 'everyone loves', 'everyone not', 'everyone play', 'everyone plays', 'everyone try', 'everyone wants', 'everyones', 'everything', 'everything costs', 'everything could', 'everything else', 'everything even', 'everything except', 'everything feels', 'everything free', 'everything fun', 'everything game', 'everything get', 'everything good', 'everything like', 'everything made', 'everything need', 'everything not', 'everything one', 'everything right', 'everything unlocked', 'everything want', 'everything would', 'everytime', 'everytime play', 'everywhere', 'everywhere not', 'evidence', 'evident', 'evil', 'evolution', 'evolve', 'evolved', 'evolves', 'evolving', 'ex', 'exact', 'exact thing', 'exactly', 'exactly like', 'example', 'example game', 'example not', 'examples', 'exceedingly', 'excel', 'excellent', 'excellent game', 'except', 'except not', 'except one', 'exception', 'exceptional', 'exceptionally', 'exceptions', 'excess', 'excessive', 'exchange', 'excited', 'excited game', 'excited see', 'excitement', 'exciting', 'exciting game', 'excluding', 'exclusive', 'exclusively', 'excuse', 'excuse game', 'excuse not', 'excuses', 'exe', 'executed', 'execution', 'exept', 'exile', 'exist', 'existance', 'existant', 'existed', 'existence', 'existent', 'existing', 'exists', 'exit', 'exit game', 'exited', 'exp', 'expand', 'expanded', 'expanding', 'expansion', 'expansions', 'expansive', 'expect', 'expect free', 'expect game', 'expect get', 'expect much', 'expect pay', 'expectation', 'expectations', 'expected', 'expected game', 'expecting', 'expects', 'expense', 'expensive', 'expensive game', 'expensive not', 'experiance', 'experience', 'experience even', 'experience far', 'experience game', 'experience get', 'experience like', 'experience not', 'experience one', 'experience play', 'experience playing', 'experience points', 'experience really', 'experience would', 'experienced', 'experienced game', 'experienced players', 'experiences', 'experiencing', 'experiment', 'experimenting', 'experince', 'expert', 'expierence', 'expirience', 'explain', 'explained', 'explaining', 'explains', 'explanation', 'explode', 'explodes', 'exploit', 'exploited', 'exploiting', 'exploits', 'exploration', 'explore', 'explored', 'exploring', 'explosion', 'explosions', 'explosive', 'explosives', 'exponentially', 'express', 'extend', 'extended', 'extensive', 'extensively', 'extent', 'external', 'extra', 'extra money', 'extract', 'extras', 'extreamly', 'extreme', 'extremely', 'extremely annoying', 'extremely difficult', 'extremely easy', 'extremely fun', 'extremely generous', 'extremely good', 'extremely grindy', 'extremely hard', 'extremely high', 'extremely limited', 'extremely rare', 'extremely unbalanced', 'extremely well', 'extremly', 'eye', 'eye candy', 'eyes', 'ez', 'ez easy', 'face', 'face not', 'facebook', 'facebook game', 'faced', 'faces', 'facing', 'fact', 'fact free', 'fact game', 'fact no', 'fact not', 'fact people', 'fact would', 'faction', 'factions', 'factor', 'factor game', 'factors', 'factory', 'facts', 'faeria', 'fail', 'failed', 'failing', 'fails', 'failure', 'failures', 'fair', 'fair amount', 'fair balanced', 'fair bit', 'fair chance', 'fair enough', 'fair free', 'fair game', 'fair not', 'fair play', 'fair share', 'fairly', 'fairly balanced', 'fairly decent', 'fairly easy', 'fairly good', 'fairly quickly', 'fairly well', 'fairness', 'fairy', 'faith', 'faithful', 'fake', 'falcon', 'fall', 'fall love', 'fallen', 'falling', 'fallout', 'fallout fans', 'fallout game', 'fallout games', 'fallout series', 'fallout shelter', 'fallout universe', 'falls', 'falls short', 'false', 'fame', 'familiar', 'family', 'famous', 'fan', 'fan base', 'fan card', 'fan game', 'fanbase', 'fanboy', 'fanboys', 'fancy', 'fans', 'fantastic', 'fantastic bugs', 'fantastic game', 'fantasy', 'fap', 'far', 'far away', 'far best', 'far better', 'far concerned', 'far enough', 'far favorite', 'far game', 'far good', 'far know', 'far less', 'far like', 'far many', 'far much', 'far not', 'far one', 'far perfect', 'far played', 'far really', 'far say', 'far superior', 'far tell', 'far worst', 'fare', 'farm', 'farmed', 'farming', 'farmville', 'farther', 'fascinating', 'fashion', 'fast', 'fast enough', 'fast forward', 'fast game', 'fast get', 'fast high', 'fast not', 'fast pace', 'fast paced', 'fast possible', 'fast spells', 'faster', 'faster not', 'faster paced', 'fastest', 'fat', 'fate', 'father', 'fault', 'faults', 'fav', 'favor', 'favorite', 'favorite game', 'favorite games', 'favorite part', 'favorites', 'favors', 'favour', 'favourite', 'favourite game', 'favourite games', 'fc', 'fear', 'feat', 'feature', 'feature game', 'featured', 'features', 'features game', 'features like', 'features make', 'features not', 'featuring', 'february', 'fed', 'fee', 'feed', 'feedback', 'feedback game', 'feeding', 'feel', 'feel bad', 'feel bit', 'feel comfortable', 'feel different', 'feel free', 'feel game', 'feel good', 'feel great', 'feel like', 'feel little', 'feel need', 'feel not', 'feel really', 'feel right', 'feel though', 'feel unique', 'feel way', 'feeling', 'feeling game', 'feeling like', 'feeling not', 'feelings', 'feels', 'feels bit', 'feels clunky', 'feels different', 'feels good', 'feels great', 'feels like', 'feels little', 'feels much', 'feels really', 'feels rewarding', 'fees', 'feet', 'fell', 'fell love', 'fellow', 'felt', 'felt like', 'female', 'fence', 'fest', 'fetch', 'few', 'fewer', 'ff', 'ffa', 'ffb', 'ffs', 'ffxiv', 'fi', 'fidelity', 'field', 'field strip', 'fields', 'fifteen', 'fifth', 'fight', 'fight back', 'fight game', 'fight people', 'fighter', 'fighters', 'fighting', 'fighting game', 'fighting games', 'fighting not', 'fighting style', 'fighting system', 'fights', 'figure', 'figured', 'figured would', 'figuring', 'file', 'filedetails', 'filedetails id', 'files', 'fill', 'filled', 'filler', 'filling', 'fills', 'filter', 'filters', 'filthy', 'final', 'final boss', 'final fantasy', 'final thoughts', 'final verdict', 'finally', 'finally game', 'finally get', 'finally got', 'finaly', 'financial', 'find', 'find another', 'find anything', 'find better', 'find fun', 'find game', 'find good', 'find hard', 'find items', 'find lot', 'find many', 'find match', 'find new', 'find no', 'find not', 'find one', 'find people', 'find playing', 'find quite', 'find really', 'find right', 'find server', 'find someone', 'find something', 'find way', 'finder', 'finding', 'finding game', 'finds', 'fine', 'fine game', 'fine not', 'fine without', 'finest', 'finger', 'fingers', 'finish', 'finish game', 'finished', 'finished game', 'finishes', 'finishing', 'fire', 'fire rate', 'firearm', 'firearms', 'fireball', 'fireballs', 'fired', 'firefights', 'firepower', 'fires', 'firing', 'first', 'first came', 'first character', 'first couple', 'first day', 'first days', 'first ever', 'first foremost', 'first fun', 'first game', 'first games', 'first get', 'first glance', 'first got', 'first hand', 'first hour', 'first hours', 'first impression', 'first impressions', 'first levels', 'first match', 'first minutes', 'first need', 'first not', 'first one', 'first person', 'first place', 'first play', 'first played', 'first released', 'first review', 'first rooms', 'first saw', 'first start', 'first started', 'first thing', 'first things', 'first thought', 'first time', 'first times', 'first two', 'first want', 'first week', 'first win', 'first would', 'first year', 'firstly', 'fish', 'fishing', 'fist', 'fists', 'fit', 'fits', 'fitting', 'five', 'five minutes', 'five years', 'fix', 'fix anything', 'fix bug', 'fix bugs', 'fix game', 'fix issue', 'fix issues', 'fix not', 'fix problem', 'fix problems', 'fix things', 'fix would', 'fixed', 'fixed game', 'fixed not', 'fixed soon', 'fixes', 'fixes game', 'fixing', 'fixing bugs', 'fixing game', 'fixing issues', 'fj', 'flag', 'flags', 'flair', 'flak', 'flame', 'flames', 'flamethrower', 'flaming', 'flaming cliffs', 'flank', 'flanking', 'flash', 'flash game', 'flashing', 'flashlight', 'flashy', 'flat', 'flavor', 'flavour', 'flaw', 'flawed', 'flawless', 'flaws', 'flaws game', 'fleet', 'flesh', 'fleshed', 'flew', 'flexibility', 'flexible', 'flies', 'flight', 'flight combat', 'flight model', 'flight models', 'flight sim', 'flight sims', 'flight simulation', 'flight simulator', 'flight simulators', 'flight stick', 'flip', 'flipping', 'flips', 'floating', 'floating around', 'floaty', 'flood', 'flooded', 'floor', 'floors', 'flow', 'flowers', 'flowing', 'flown', 'flows', 'fluent', 'fluid', 'flux', 'fly', 'fly around', 'fly plane', 'fly planes', 'flyer', 'flying', 'flying around', 'fo', 'focus', 'focused', 'focuses', 'focusing', 'fodder', 'foe', 'foes', 'fog', 'folder', 'folks', 'follow', 'followed', 'following', 'follows', 'fond', 'font', 'food', 'food water', 'fool', 'fooled', 'fools', 'foot', 'footsteps', 'for', 'for example', 'for game', 'forbid', 'force', 'force feedback', 'force play', 'force players', 'forced', 'forced buy', 'forced play', 'forces', 'forces play', 'forcing', 'foreign', 'foremost', 'forest', 'forests', 'forever', 'forever get', 'forge', 'forge draft', 'forges', 'forget', 'forging', 'forgive', 'forgiving', 'forgot', 'forgot mention', 'forgotten', 'forgotten realms', 'fork', 'form', 'format', 'formation', 'formations', 'formats', 'former', 'former self', 'forms', 'formula', 'fornite', 'fort', 'forth', 'fortnite', 'fortnite pubg', 'fortress', 'fortress one', 'fortunately', 'fortune', 'forum', 'forums', 'forward', 'forward future', 'forward playing', 'forward seeing', 'forza', 'fought', 'found', 'found game', 'found one', 'found way', 'foundation', 'founder', 'founder pack', 'founders', 'founders pack', 'foundry', 'four', 'four years', 'fourth', 'fov', 'fox', 'fpe', 'fps', 'fps drop', 'fps drops', 'fps even', 'fps ever', 'fps game', 'fps games', 'fps issues', 'fps low', 'fps no', 'fps not', 'fps shooter', 'fr', 'fraction', 'fractured', 'fractured space', 'fragile', 'frame', 'frame drops', 'frame rate', 'frame rates', 'framerate', 'framerates', 'frames', 'franchise', 'frankly', 'frankly not', 'frantic', 'freak', 'freakin', 'freaking', 'fredaikis', 'free', 'free buy', 'free card', 'free cards', 'free cars', 'free charge', 'free content', 'free currency', 'free dont', 'free download', 'free even', 'free flight', 'free free', 'free fun', 'free game', 'free games', 'free gems', 'free get', 'free give', 'free go', 'free good', 'free great', 'free items', 'free like', 'free need', 'free no', 'free not', 'free one', 'free pack', 'free packs', 'free part', 'free pay', 'free play', 'free player', 'free players', 'free plays', 'free premium', 'free really', 'free start', 'free still', 'free stuff', 'free the', 'free time', 'free to', 'free try', 'free version', 'free want', 'free weekend', 'free well', 'free would', 'freedom', 'freeearly', 'freeearly review', 'freeearly reviewi', 'freeearly reviewthe', 'freeearly reviewthis', 'freei', 'freejam', 'freely', 'freemium', 'freethis', 'freeze', 'freezes', 'freezing', 'freinds', 'french', 'frequent', 'frequent updates', 'frequently', 'fresh', 'fresh air', 'friday', 'friend', 'friend mine', 'friend play', 'friend playing', 'friend told', 'friend two', 'friendly', 'friendly community', 'friendly fire', 'friendly game', 'friendly not', 'friends', 'friends alone', 'friends also', 'friends even', 'friends family', 'friends free', 'friends fun', 'friends game', 'friends get', 'friends good', 'friends got', 'friends great', 'friends join', 'friends like', 'friends love', 'friends make', 'friends no', 'friends not', 'friends people', 'friends play', 'friends playing', 'friends really', 'friends started', 'friends still', 'friends want', 'friends would', 'friendships', 'friggin', 'frog', 'from', 'front', 'frontal', 'frontline', 'froze', 'frozen', 'frustrate', 'frustrated', 'frustrating', 'frustrating game', 'frustrating not', 'frustrating play', 'frustrating times', 'frustration', 'frustrations', 'fs', 'fsx', 'ft', 'ftp', 'fu', 'fu ing', 'fuel', 'fulfilling', 'full', 'full armor', 'full bugs', 'full experience', 'full game', 'full hackers', 'full health', 'full people', 'full potential', 'full price', 'full release', 'full screen', 'full time', 'fullest', 'fullscreen', 'fully', 'fully upgraded', 'fun', 'fun action', 'fun add', 'fun addicting', 'fun addictive', 'fun also', 'fun anymore', 'fun back', 'fun balanced', 'fun battle', 'fun best', 'fun bit', 'fun build', 'fun building', 'fun casual', 'fun challenging', 'fun combat', 'fun community', 'fun competitive', 'fun could', 'fun different', 'fun dont', 'fun easy', 'fun end', 'fun engaging', 'fun enjoy', 'fun enjoyable', 'fun enough', 'fun entertaining', 'fun especially', 'fun even', 'fun everything', 'fun exciting', 'fun experience', 'fun factor', 'fun far', 'fun fast', 'fun first', 'fun free', 'fun friends', 'fun fun', 'fun game', 'fun gameplay', 'fun games', 'fun get', 'fun going', 'fun good', 'fun got', 'fun great', 'fun grind', 'fun grinding', 'fun hell', 'fun highly', 'fun hours', 'fun however', 'fun interactive', 'fun interesting', 'fun it', 'fun keep', 'fun know', 'fun lasted', 'fun learn', 'fun like', 'fun little', 'fun long', 'fun lot', 'fun love', 'fun made', 'fun make', 'fun many', 'fun mechanics', 'fun mmo', 'fun much', 'fun need', 'fun new', 'fun no', 'fun not', 'fun one', 'fun opinion', 'fun overall', 'fun part', 'fun pay', 'fun people', 'fun play', 'fun played', 'fun players', 'fun playing', 'fun pretty', 'fun pvp', 'fun really', 'fun recommend', 'fun rewarding', 'fun right', 'fun see', 'fun simple', 'fun since', 'fun sometimes', 'fun start', 'fun still', 'fun story', 'fun sure', 'fun take', 'fun team', 'fun the', 'fun thing', 'fun think', 'fun though', 'fun time', 'fun times', 'fun try', 'fun unique', 'fun use', 'fun used', 'fun want', 'fun way', 'fun well', 'fun without', 'fun would', 'fun yes', 'fun yet', 'function', 'functional', 'functionality', 'functioning', 'functions', 'fund', 'fundamental', 'fundamentally', 'funds', 'funny', 'funny game', 'fur', 'furniture', 'further', 'furthermore', 'fury', 'fusion', 'future', 'future game', 'future gods', 'future updates', 'futuristic', 'fw', 'fx', 'fyi', 'ga', 'gabe', 'gaben', 'gadgets', 'gaem', 'gaijin', 'gaijin net', 'gaijin not', 'gain', 'gained', 'gaining', 'gains', 'gajin', 'galaxy', 'gam', 'gamble', 'gambling', 'game able', 'game absolute', 'game absolutely', 'game account', 'game actual', 'game actually', 'game add', 'game added', 'game addicting', 'game addictive', 'game adds', 'game again', 'game ages', 'game ai', 'game alive', 'game all', 'game allows', 'game almost', 'game alot', 'game alpha', 'game already', 'game alright', 'game also', 'game although', 'game always', 'game amazing', 'game amount', 'game and', 'game another', 'game anybody', 'game anymore', 'game anyone', 'game anything', 'game anyway', 'game anyways', 'game apart', 'game around', 'game as', 'game ask', 'game available', 'game average', 'game awesome', 'game awful', 'game back', 'game bad', 'game badly', 'game balance', 'game balanced', 'game barely', 'game based', 'game basic', 'game basically', 'game battle', 'game beautiful', 'game became', 'game become', 'game becomes', 'game becoming', 'game begin', 'game beginning', 'game believe', 'game besides', 'game best', 'game beta', 'game better', 'game beyond', 'game big', 'game biggest', 'game bit', 'game blast', 'game bless', 'game bored', 'game boring', 'game bought', 'game breaking', 'game bring', 'game brings', 'game broken', 'game brought', 'game buggy', 'game bugs', 'game build', 'game building', 'game built', 'game bunch', 'game but', 'game buy', 'game buying', 'game called', 'game came', 'game cant', 'game card', 'game cards', 'game cash', 'game casual', 'game cause', 'game certain', 'game certainly', 'game challenging', 'game chance', 'game change', 'game changed', 'game changes', 'game changing', 'game character', 'game characters', 'game chat', 'game check', 'game choose', 'game class', 'game classes', 'game clearly', 'game click', 'game client', 'game close', 'game closed', 'game combat', 'game come', 'game comes', 'game coming', 'game community', 'game company', 'game compared', 'game competitive', 'game complete', 'game completely', 'game complex', 'game computer', 'game concept', 'game cons', 'game considering', 'game constant', 'game constantly', 'game contains', 'game content', 'game continue', 'game continues', 'game controls', 'game cool', 'game core', 'game cost', 'game costs', 'game could', 'game couple', 'game course', 'game crap', 'game crash', 'game crashed', 'game crashes', 'game crashing', 'game created', 'game credits', 'game currencies', 'game currency', 'game current', 'game currently', 'game cute', 'game cuz', 'game daily', 'game damn', 'game day', 'game days', 'game dead', 'game decent', 'game decided', 'game deep', 'game definitely', 'game depth', 'game deserves', 'game design', 'game designed', 'game despite', 'game dev', 'game developed', 'game developer', 'game developers', 'game development', 'game devs', 'game diablo', 'game didnt', 'game die', 'game different', 'game difficult', 'game dlc', 'game do', 'game doesnt', 'game done', 'game dont', 'game dota', 'game download', 'game downloaded', 'game due', 'game dungeons', 'game dying', 'game earn', 'game easier', 'game easily', 'game easy', 'game economy', 'game edit', 'game either', 'game end', 'game ended', 'game endless', 'game ends', 'game engine', 'game enjoy', 'game enjoyable', 'game enjoyed', 'game enough', 'game entirely', 'game epic', 'game especially', 'game essentially', 'game even', 'game events', 'game eventually', 'game ever', 'game every', 'game everyone', 'game everything', 'game everytime', 'game example', 'game excellent', 'game except', 'game excited', 'game expect', 'game expected', 'game experience', 'game extremely', 'game fact', 'game failed', 'game fair', 'game fairly', 'game fallout', 'game fan', 'game fans', 'game fantastic', 'game far', 'game fast', 'game favorite', 'game features', 'game feel', 'game feeling', 'game feels', 'game felt', 'game fighting', 'game files', 'game filled', 'game finally', 'game find', 'game fine', 'game finished', 'game first', 'game fix', 'game fixed', 'game flaws', 'game fly', 'game for', 'game force', 'game forces', 'game forever', 'game found', 'game fps', 'game free', 'game freezes', 'game fresh', 'game friend', 'game friends', 'game frustrating', 'game full', 'game fully', 'game fun', 'game funny', 'game future', 'game gaijin', 'game game', 'game gameplay', 'game games', 'game garbage', 'game gave', 'game general', 'game generous', 'game genre', 'game get', 'game gets', 'game getting', 'game give', 'game given', 'game gives', 'game giving', 'game glad', 'game go', 'game god', 'game goes', 'game going', 'game gold', 'game gone', 'game gonna', 'game good', 'game got', 'game gotten', 'game graphics', 'game great', 'game grind', 'game grinding', 'game grindy', 'game grow', 'game grown', 'game guess', 'game gun', 'game guns', 'game guys', 'game half', 'game happy', 'game hard', 'game hate', 'game hearthstone', 'game heavily', 'game hell', 'game help', 'game hi', 'game high', 'game highly', 'game hit', 'game honest', 'game honestly', 'game hope', 'game hopefully', 'game horrible', 'game hour', 'game hours', 'game however', 'game hrs', 'game huge', 'game hunt', 'game idea', 'game if', 'game im', 'game improve', 'game in', 'game includes', 'game including', 'game incredible', 'game incredibly', 'game ing', 'game insanely', 'game install', 'game installed', 'game installs', 'game instead', 'game interesting', 'game isnt', 'game issue', 'game issues', 'game it', 'game items', 'game its', 'game ive', 'game join', 'game joke', 'game jump', 'game keep', 'game keeps', 'game kept', 'game kill', 'game kind', 'game kinda', 'game know', 'game known', 'game lack', 'game lacking', 'game lacks', 'game lag', 'game laggy', 'game lags', 'game large', 'game last', 'game late', 'game later', 'game launch', 'game launched', 'game launcher', 'game learn', 'game learning', 'game least', 'game leave', 'game left', 'game less', 'game let', 'game lets', 'game level', 'game leveling', 'game library', 'game life', 'game like', 'game liked', 'game likely', 'game limited', 'game list', 'game literally', 'game little', 'game load', 'game loading', 'game loads', 'game lol', 'game long', 'game longer', 'game look', 'game looked', 'game looking', 'game looks', 'game loot', 'game lose', 'game losing', 'game lost', 'game lot', 'game lots', 'game love', 'game loved', 'game low', 'game luck', 'game made', 'game magic', 'game main', 'game mainly', 'game major', 'game make', 'game makes', 'game making', 'game managed', 'game many', 'game map', 'game maps', 'game market', 'game massive', 'game match', 'game matchmaking', 'game may', 'game maybe', 'game mean', 'game means', 'game meant', 'game mechanic', 'game mechanics', 'game mess', 'game micro', 'game microtransactions', 'game might', 'game minecraft', 'game minutes', 'game missing', 'game moba', 'game mobile', 'game mode', 'game modes', 'game moment', 'game money', 'game months', 'game mostly', 'game movement', 'game moving', 'game much', 'game multiplayer', 'game multiple', 'game music', 'game must', 'game my', 'game nearly', 'game need', 'game needs', 'game negative', 'game never', 'game new', 'game next', 'game nice', 'game no', 'game non', 'game none', 'game nor', 'game normal', 'game not', 'game note', 'game nothing', 'game now', 'game obviously', 'game offer', 'game offers', 'game often', 'game oh', 'game ok', 'game okay', 'game old', 'game one', 'game online', 'game open', 'game opinion', 'game order', 'game original', 'game originally', 'game others', 'game otherwise', 'game overall', 'game paid', 'game part', 'game pass', 'game past', 'game pay', 'game pc', 'game people', 'game perfect', 'game perfectly', 'game performance', 'game period', 'game personally', 'game physics', 'game pick', 'game piece', 'game plan', 'game play', 'game playable', 'game played', 'game player', 'game players', 'game playing', 'game plays', 'game please', 'game plenty', 'game plus', 'game point', 'game poor', 'game poorly', 'game popular', 'game ported', 'game positive', 'game potential', 'game premium', 'game pretty', 'game price', 'game pro', 'game probably', 'game problem', 'game problems', 'game progress', 'game progresses', 'game progression', 'game promising', 'game properly', 'game pros', 'game provides', 'game pubg', 'game purchase', 'game purchases', 'game pure', 'game purely', 'game put', 'game puts', 'game putting', 'game pvp', 'game quality', 'game quickly', 'game quite', 'game ran', 'game random', 'game randomly', 'game rather', 'game rating', 'game reach', 'game read', 'game real', 'game realistic', 'game really', 'game reason', 'game recent', 'game recently', 'game recomend', 'game recommend', 'game recommended', 'game regular', 'game release', 'game released', 'game remember', 'game reminds', 'game removed', 'game require', 'game requires', 'game review', 'game reviews', 'game rewards', 'game rigged', 'game right', 'game rip', 'game rng', 'game ruined', 'game run', 'game running', 'game runs', 'game sad', 'game sadly', 'game said', 'game saw', 'game say', 'game saying', 'game says', 'game second', 'game see', 'game seeing', 'game seem', 'game seemed', 'game seems', 'game seen', 'game self', 'game serious', 'game seriously', 'game server', 'game servers', 'game set', 'game settings', 'game several', 'game shame', 'game shines', 'game shop', 'game shot', 'game show', 'game shows', 'game similar', 'game simple', 'game simply', 'game since', 'game single', 'game skill', 'game slow', 'game slowly', 'game small', 'game so', 'game solid', 'game someone', 'game something', 'game sometimes', 'game somewhat', 'game soon', 'game sorry', 'game sort', 'game sound', 'game space', 'game spawn', 'game special', 'game spend', 'game spent', 'game stand', 'game stands', 'game start', 'game started', 'game starting', 'game starts', 'game state', 'game stay', 'game steam', 'game steep', 'game still', 'game stop', 'game stopped', 'game store', 'game story', 'game straight', 'game strongly', 'game stuff', 'game stupid', 'game style', 'game succeed', 'game suck', 'game sucks', 'game suffers', 'game suggest', 'game super', 'game support', 'game supposed', 'game sure', 'game surprisingly', 'game system', 'game take', 'game taken', 'game takes', 'game tanks', 'game team', 'game tell', 'game terrible', 'game test', 'game thank', 'game thanks', 'game that', 'game thats', 'game the', 'game there', 'game they', 'game thing', 'game things', 'game think', 'game thinking', 'game this', 'game tho', 'game though', 'game thought', 'game thumbs', 'game thus', 'game till', 'game time', 'game times', 'game today', 'game ton', 'game tons', 'game took', 'game top', 'game total', 'game totally', 'game toxic', 'game trash', 'game tried', 'game tries', 'game true', 'game truly', 'game trust', 'game try', 'game trying', 'game turn', 'game turned', 'game turns', 'game tutorial', 'game twice', 'game two', 'game type', 'game types', 'game unbalanced', 'game understand', 'game unfair', 'game unfortunately', 'game uninstall', 'game uninstalled', 'game unique', 'game unless', 'game unlike', 'game unlock', 'game unplayable', 'game untill', 'game update', 'game updated', 'game updates', 'game us', 'game use', 'game used', 'game uses', 'game using', 'game usually', 'game valve', 'game via', 'game voice', 'game wait', 'game waiting', 'game want', 'game wanted', 'game wants', 'game war', 'game waste', 'game way', 'game weapons', 'game week', 'game well', 'game went', 'game whatever', 'game whether', 'game whole', 'game willing', 'game win', 'game window', 'game wish', 'game within', 'game without', 'game wonderful', 'game wont', 'game work', 'game works', 'game world', 'game worse', 'game worst', 'game worth', 'game would', 'game wow', 'game year', 'game years', 'game yes', 'game yet', 'game you', 'gamebreaking', 'gamei', 'gamemode', 'gamemodes', 'gamepad', 'gameplay', 'gameplay also', 'gameplay amazing', 'gameplay awesome', 'gameplay decent', 'gameplay even', 'gameplay experience', 'gameplay free', 'gameplay fun', 'gameplay game', 'gameplay good', 'gameplay graphics', 'gameplay great', 'gameplay like', 'gameplay mechanics', 'gameplay much', 'gameplay nice', 'gameplay no', 'gameplay not', 'gameplay nothing', 'gameplay one', 'gameplay pretty', 'gameplay really', 'gameplay smooth', 'gameplay solid', 'gameplay still', 'gameplay the', 'gameplay well', 'gameplay wise', 'gameplay would', 'gamepros', 'gamer', 'gamers', 'games', 'games actually', 'games also', 'games always', 'games available', 'games better', 'games could', 'games days', 'games decided', 'games dont', 'games either', 'games even', 'games ever', 'games far', 'games feel', 'games find', 'games first', 'games free', 'games friends', 'games fun', 'games game', 'games games', 'games general', 'games genre', 'games get', 'games give', 'games go', 'games going', 'games good', 'games got', 'games graphics', 'games great', 'games hearthstone', 'games however', 'games ive', 'games like', 'games lot', 'games love', 'games made', 'games make', 'games many', 'games market', 'games may', 'games much', 'games need', 'games never', 'games new', 'games no', 'games not', 'games one', 'games pay', 'games pc', 'games people', 'games play', 'games played', 'games pretty', 'games probably', 'games really', 'games right', 'games row', 'games similar', 'games since', 'games steam', 'games still', 'games take', 'games the', 'games think', 'games time', 'games try', 'games usually', 'games want', 'games well', 'games without', 'games would', 'games years', 'gametime', 'gaming', 'gaming community', 'gaming experience', 'gaming industry', 'gaming pc', 'gamma', 'gamplay', 'gang', 'gap', 'gaps', 'garage', 'garand', 'garbage', 'garbage game', 'garbage not', 'gas', 'gate', 'gated', 'gather', 'gathered', 'gathering', 'gathering hearthstone', 'gauge', 'gauntlet', 'gauntlet forge', 'gauntlet mode', 'gave', 'gave game', 'gave shot', 'gave try', 'gave us', 'gay', 'gb', 'gb ddr', 'gb ram', 'gc', 'ge', 'gear', 'gear game', 'gear games', 'gear get', 'gear not', 'gear weapons', 'geared', 'gears', 'geforce', 'gem', 'gem game', 'gem system', 'gems', 'gems buy', 'gems game', 'gems get', 'gems not', 'gen', 'gender', 'general', 'general game', 'generally', 'generals', 'generate', 'generated', 'generating', 'generation', 'generator', 'generic', 'generous', 'generous free', 'generous game', 'generous rewards', 'genius', 'genre', 'genre game', 'genre games', 'genre not', 'genres', 'gentle', 'gently', 'genuine', 'genuinely', 'german', 'german tanks', 'germans', 'germany', 'get', 'get absolutely', 'get addicted', 'get advantage', 'get ahead', 'get almost', 'get alot', 'get also', 'get angry', 'get annoying', 'get another', 'get anything', 'get anywhere', 'get around', 'get away', 'get back', 'get bad', 'get balanced', 'get banned', 'get basic', 'get behind', 'get best', 'get better', 'get big', 'get bit', 'get bored', 'get boring', 'get buy', 'get card', 'get cards', 'get caught', 'get chance', 'get characters', 'get choose', 'get close', 'get closer', 'get coins', 'get cool', 'get couple', 'get crates', 'get credits', 'get daily', 'get decent', 'get destroyed', 'get disconnected', 'get dlc', 'get done', 'get dragon', 'get easy', 'get end', 'get enough', 'get even', 'get every', 'get everything', 'get experience', 'get extra', 'get fair', 'get far', 'get feel', 'get feeling', 'get first', 'get fixed', 'get fps', 'get free', 'get friends', 'get frustrated', 'get full', 'get fun', 'get game', 'get games', 'get gear', 'get gems', 'get get', 'get go', 'get going', 'get gold', 'get good', 'get great', 'get gun', 'get guns', 'get half', 'get hang', 'get head', 'get high', 'get higher', 'get hit', 'get hooked', 'get hours', 'get idea', 'get in', 'get ing', 'get ingame', 'get involved', 'get it', 'get item', 'get items', 'get keep', 'get kicked', 'get kill', 'get killed', 'get kills', 'get know', 'get later', 'get least', 'get legendary', 'get less', 'get level', 'get like', 'get little', 'get loot', 'get lost', 'get lot', 'get lucky', 'get mad', 'get main', 'get mana', 'get many', 'get match', 'get matched', 'get matches', 'get max', 'get membership', 'get money', 'get much', 'get need', 'get nerfed', 'get new', 'get next', 'get nice', 'get no', 'get not', 'get nothing', 'get old', 'get one', 'get paid', 'get part', 'get parts', 'get passed', 'get past', 'get pay', 'get people', 'get plane', 'get play', 'get playing', 'get point', 'get points', 'get premium', 'get pretty', 'get put', 'get quite', 'get random', 'get rank', 'get rare', 'get ready', 'get real', 'get really', 'get refund', 'get rekt', 'get repetitive', 'get reported', 'get resources', 'get reward', 'get rewarded', 'get rewards', 'get rid', 'get right', 'get scared', 'get see', 'get server', 'get shot', 'get since', 'get single', 'get skins', 'get small', 'get sniped', 'get something', 'get start', 'get started', 'get steam', 'get straight', 'get stuck', 'get stuff', 'get sucked', 'get super', 'get tank', 'get team', 'get things', 'get this', 'get thrown', 'get tier', 'get time', 'get tired', 'get together', 'get top', 'get two', 'get upgrades', 'get use', 'get used', 'get want', 'get way', 'get weapon', 'get weapons', 'get without', 'get work', 'get worse', 'get would', 'get wrong', 'get xp', 'geting', 'gets', 'gets annoying', 'gets better', 'gets boring', 'gets even', 'gets fixed', 'gets fun', 'gets good', 'gets little', 'gets much', 'gets old', 'gets one', 'gets really', 'gets repetitive', 'gets worse', 'getting', 'getting back', 'getting better', 'getting bored', 'getting boring', 'getting fps', 'getting free', 'getting game', 'getting good', 'getting hit', 'getting killed', 'getting kills', 'getting money', 'getting new', 'getting one', 'getting rid', 'getting shot', 'getting stuck', 'getting used', 'getting worse', 'gfx', 'gg', 'ggg', 'ghost', 'ghost girl', 'ghosts', 'ghz', 'gi', 'gi oh', 'giant', 'gift', 'gifts', 'gig', 'gigantic', 'gigs', 'gimmick', 'gimmicks', 'girl', 'girlfriend', 'girls', 'git', 'git gud', 'give', 'give about', 'give advantage', 'give another', 'give away', 'give back', 'give bad', 'give better', 'give chance', 'give damn', 'give enough', 'give free', 'give game', 'give go', 'give good', 'give little', 'give money', 'give much', 'give negative', 'give no', 'give not', 'give one', 'give people', 'give players', 'give positive', 'give shot', 'give solid', 'give something', 'give thumbs', 'give time', 'give try', 'give us', 'given', 'given free', 'given game', 'given time', 'gives', 'gives advantage', 'gives feeling', 'gives free', 'gives game', 'gives lot', 'gives no', 'gives players', 'giving', 'giving game', 'giving try', 'gl', 'glad', 'glad not', 'glad see', 'gladly', 'gladly pay', 'glance', 'glaring', 'glass', 'glide', 'glider', 'glider snowboard', 'gliders', 'gliding', 'glitch', 'glitched', 'glitches', 'glitches bugs', 'glitching', 'glitchy', 'global', 'global chat', 'glock', 'glorious', 'glory', 'gloves', 'glowing', 'glyph', 'gm', 'go', 'go ahead', 'go along', 'go also', 'go around', 'go away', 'go back', 'go buy', 'go detail', 'go download', 'go far', 'go fast', 'go find', 'go first', 'go free', 'go game', 'go get', 'go kill', 'go like', 'go long', 'go make', 'go much', 'go not', 'go one', 'go outside', 'go play', 'go read', 'go right', 'go see', 'go to', 'go try', 'go want', 'go way', 'go would', 'go wrong', 'goal', 'goals', 'god', 'god awful', 'god damn', 'god forbid', 'god game', 'god knows', 'god not', 'god pack', 'goddamn', 'goddess', 'gods', 'gods game', 'goes', 'goes away', 'goin', 'going', 'going around', 'going back', 'going buy', 'going change', 'going die', 'going downhill', 'going free', 'going game', 'going get', 'going give', 'going go', 'going great', 'going happen', 'going keep', 'going kill', 'going like', 'going lose', 'going make', 'going need', 'going not', 'going one', 'going pay', 'going play', 'going say', 'going spend', 'going start', 'going strong', 'going take', 'gold', 'gold buy', 'gold cards', 'gold game', 'gold get', 'gold gold', 'gold packs', 'gold play', 'golden', 'golden eagles', 'gone', 'gone game', 'gonna', 'gonna get', 'gonna give', 'gonna go', 'gonna make', 'gonna play', 'gonna take', 'good', 'good also', 'good although', 'good amount', 'good bad', 'good balance', 'good battle', 'good beautiful', 'good bit', 'good bye', 'good card', 'good cards', 'good chance', 'good combat', 'good community', 'good computer', 'good concept', 'good content', 'good could', 'good deal', 'good decent', 'good deck', 'good devs', 'good enough', 'good even', 'good example', 'good experience', 'good fantastic', 'good far', 'good feel', 'good first', 'good fps', 'good free', 'good friends', 'good fun', 'good game', 'good gameplay', 'good games', 'good gear', 'good get', 'good go', 'good good', 'good graphics', 'good great', 'good hours', 'good however', 'good hunting', 'good idea', 'good ideas', 'good internet', 'good items', 'good job', 'good level', 'good like', 'good long', 'good looking', 'good loot', 'good lots', 'good luck', 'good mechanics', 'good mmo', 'good moba', 'good mobile', 'good need', 'good new', 'good no', 'good not', 'good ol', 'good old', 'good one', 'good ones', 'good overall', 'good part', 'good pay', 'good pc', 'good people', 'good performance', 'good physics', 'good place', 'good play', 'good played', 'good player', 'good players', 'good point', 'good potential', 'good price', 'good really', 'good reason', 'good review', 'good reviews', 'good right', 'good see', 'good selection', 'good solid', 'good sound', 'good start', 'good still', 'good story', 'good stuff', 'good system', 'good team', 'good the', 'good thing', 'good things', 'good think', 'good though', 'good time', 'good times', 'good try', 'good update', 'good value', 'good variety', 'good way', 'good weapons', 'good well', 'good work', 'good would', 'goodbye', 'goodies', 'goodness', 'goods', 'goofy', 'google', 'google translate', 'gorgeous', 'got', 'got back', 'got bad', 'got banned', 'got better', 'got bored', 'got boring', 'got chance', 'got disconnected', 'got far', 'got first', 'got free', 'got friends', 'got game', 'got good', 'got hit', 'got hooked', 'got hours', 'got killed', 'got lot', 'got many', 'got money', 'got much', 'got new', 'got no', 'got not', 'got nothing', 'got one', 'got play', 'got point', 'got pretty', 'got really', 'got rid', 'got say', 'got shot', 'got steam', 'got stuck', 'got time', 'got worse', 'gotta', 'gotta say', 'gotten', 'gotten lot', 'gotten worse', 'gpu', 'grab', 'grab game', 'grabbing', 'grabs', 'grace', 'grade', 'grades', 'gradually', 'grain', 'grain salt', 'grammar', 'gran', 'grand', 'grandma', 'grant', 'granted', 'grants', 'graphic', 'graphic settings', 'graphical', 'graphically', 'graphics', 'graphics also', 'graphics amazing', 'graphics bad', 'graphics beautiful', 'graphics better', 'graphics card', 'graphics decent', 'graphics free', 'graphics fun', 'graphics game', 'graphics gameplay', 'graphics good', 'graphics great', 'graphics like', 'graphics look', 'graphics nice', 'graphics no', 'graphics not', 'graphics ok', 'graphics okay', 'graphics potato', 'graphics pretty', 'graphics really', 'graphics settings', 'graphics sound', 'graphics still', 'grasp', 'grass', 'grateful', 'grave', 'graveyard', 'gravity', 'gray', 'great', 'great addition', 'great also', 'great art', 'great card', 'great combat', 'great community', 'great concept', 'great deal', 'great developers', 'great even', 'great experience', 'great first', 'great free', 'great friends', 'great fun', 'great game', 'great gameplay', 'great games', 'great get', 'great graphics', 'great idea', 'great job', 'great like', 'great love', 'great mechanics', 'great mmo', 'great new', 'great no', 'great not', 'great one', 'great people', 'great play', 'great potential', 'great really', 'great story', 'great team', 'great thing', 'great things', 'great time', 'great variety', 'great way', 'great well', 'great work', 'great would', 'greater', 'greatest', 'greatly', 'greatness', 'greed', 'greedy', 'green', 'greeted', 'grenade', 'grenade launcher', 'grenades', 'grew', 'grey', 'grid', 'grief', 'grim', 'grind', 'grind even', 'grind fest', 'grind game', 'grind get', 'grind grind', 'grind hours', 'grind level', 'grind like', 'grind not', 'grind pay', 'grind unlock', 'grind way', 'grinded', 'grinder', 'grinders', 'grindfest', 'grinding', 'grinding game', 'grinding gear', 'grinding get', 'grinding hours', 'grinding not', 'grinding unlock', 'grinds', 'grindy', 'grip', 'gripe', 'gripe game', 'gripes', 'gripes game', 'gritty', 'ground', 'ground forces', 'ground targets', 'ground vehicles', 'grounds', 'group', 'group friends', 'group people', 'grouped', 'groups', 'grow', 'growing', 'grown', 'grows', 'growth', 'gt', 'gta', 'gtr', 'gtx', 'gtx gb', 'gtx ti', 'guarantee', 'guaranteed', 'guard', 'guardian', 'gud', 'guess', 'guess could', 'guess game', 'guess not', 'guessed', 'guessing', 'guest', 'gui', 'guide', 'guided', 'guides', 'guild', 'guild wars', 'guilds', 'guilty', 'gun', 'gun disassembly', 'gun game', 'gun not', 'gun one', 'gun play', 'gunfire', 'gunned', 'gunner', 'gunplay', 'guns', 'guns equipment', 'guns feel', 'guns game', 'guns get', 'guns gun', 'guns like', 'guns not', 'guns vehicles', 'guns work', 'gunslinger', 'guy', 'guys', 'guys could', 'guys not', 'gw', 'gwent', 'gx', 'ha', 'habit', 'hack', 'hack slash', 'hacked', 'hacker', 'hackers', 'hackers game', 'hackers not', 'hacking', 'hacks', 'had', 'haha', 'hahaha', 'hair', 'hale', 'half', 'half baked', 'half decent', 'half game', 'half hour', 'half life', 'half time', 'half way', 'half year', 'halfway', 'hall', 'halloween', 'halo', 'hammer', 'hand', 'hand not', 'handed', 'handful', 'handing', 'handle', 'handled', 'handles', 'handling', 'hands', 'hands best', 'handy', 'hang', 'hanging', 'happen', 'happen every', 'happen game', 'happen not', 'happend', 'happened', 'happened game', 'happening', 'happens', 'happier', 'happily', 'happiness', 'happy', 'happy game', 'harass', 'hard', 'hard drive', 'hard earn', 'hard earned', 'hard even', 'hard find', 'hard first', 'hard game', 'hard get', 'hard keep', 'hard learn', 'hard like', 'hard make', 'hard master', 'hard new', 'hard not', 'hard play', 'hard tell', 'hard time', 'hard way', 'hard work', 'hardcore', 'harder', 'harder get', 'harder play', 'hardest', 'hardly', 'hardly ever', 'hardware', 'harm', 'harmless', 'harsh', 'harshly', 'harvest', 'has', 'hasnt', 'hassle', 'hat', 'hat simulator', 'hatch', 'hate', 'hate game', 'hate relationship', 'hated', 'haters', 'hates', 'hating', 'hating game', 'hatred', 'hats', 'hav', 'have', 'have fun', 'have still', 'havent', 'havent played', 'havent seen', 'having', 'havnt', 'havoc', 'hd', 'hdd', 'he', 'he she', 'head', 'head start', 'headache', 'headed', 'heading', 'heads', 'headset', 'headshot', 'headshots', 'headstart', 'heal', 'healed', 'healer', 'healers', 'healing', 'heals', 'health', 'health bar', 'healthy', 'heap', 'heaps', 'hear', 'heard', 'heard game', 'hearing', 'heart', 'heart game', 'hearted', 'hearthstone', 'hearthstone also', 'hearthstone game', 'hearthstone gwent', 'hearthstone magic', 'hearthstone mtg', 'hearthstone much', 'hearthstone not', 'hearthstone shadowverse', 'hearts', 'heartstone', 'heat', 'heaven', 'heavies', 'heavily', 'heavy', 'heavy tank', 'heavy tanks', 'heck', 'hectic', 'hefty', 'height', 'held', 'heli', 'helicopter', 'helicopters', 'hell', 'hell even', 'hell game', 'hell lot', 'hell no', 'hell not', 'hell would', 'hell yeah', 'hella', 'hello', 'helmet', 'helmets', 'help', 'help game', 'help get', 'help learn', 'help make', 'help much', 'help new', 'help not', 'help people', 'help team', 'helped', 'helpful', 'helping', 'helpless', 'helps', 'hence', 'hentai', 'her', 'here', 'heres', 'hero', 'heroes', 'heroes generals', 'heroes storm', 'heroic', 'heroin', 'heros', 'hes', 'hesitant', 'hesitate', 'hex', 'hey', 'hey free', 'hey guys', 'hi', 'hi rez', 'hiccups', 'hidden', 'hide', 'hide behind', 'hideous', 'hideout', 'hiding', 'hiding behind', 'high', 'high amount', 'high cost', 'high damage', 'high end', 'high enough', 'high hopes', 'high level', 'high levels', 'high lvl', 'high not', 'high ping', 'high price', 'high quality', 'high ranks', 'high school', 'high settings', 'high skill', 'high speed', 'high tier', 'higher', 'higher level', 'higher levels', 'higher rank', 'higher ranks', 'higher tier', 'higher tiers', 'highest', 'highest level', 'highest tier', 'highlight', 'highly', 'highly addictive', 'highly detailed', 'highly reccomend', 'highly recomend', 'highly recommend', 'highly recommended', 'highly suggest', 'highschool', 'hilarious', 'hilariously', 'hill', 'hills', 'him', 'hinder', 'hint', 'hints', 'hip', 'hire', 'hired', 'hirez', 'his', 'his her', 'historical', 'historical accuracy', 'historically', 'historically accurate', 'history', 'hit', 'hit boxes', 'hit detection', 'hit kill', 'hit level', 'hit miss', 'hit not', 'hit registration', 'hit wall', 'hitbox', 'hitboxes', 'hits', 'hitting', 'hmm', 'hmmm', 'ho', 'hobby', 'hog', 'hold', 'hold back', 'holding', 'holding back', 'holds', 'hole', 'holes', 'holiday', 'holidays', 'hollow', 'holy', 'holy crap', 'home', 'home base', 'hon', 'honest', 'honest game', 'honest not', 'honest opinion', 'honest review', 'honestly', 'honestly fun', 'honestly game', 'honestly not', 'honestly one', 'honestly really', 'honestly say', 'honestly think', 'honestly would', 'honesty', 'honor', 'hook', 'hooked', 'hop', 'hope', 'hope add', 'hope developers', 'hope devs', 'hope enjoy', 'hope fix', 'hope game', 'hope get', 'hope helped', 'hope helps', 'hope make', 'hope not', 'hope review', 'hope see', 'hoped', 'hopeful', 'hopefully', 'hopeless', 'hopes', 'hopes game', 'hoping', 'hoping get', 'hopping', 'hordes', 'horizon', 'horrendous', 'horrible', 'horrible game', 'horribly', 'horrid', 'horrific', 'horror', 'horror game', 'horror games', 'horror genre', 'horse', 'horses', 'host', 'hosted', 'hostile', 'hosts', 'hot', 'hot garbage', 'hotas', 'hotkey', 'hotkeys', 'hots', 'hour', 'hour game', 'hour get', 'hour not', 'hour play', 'hour playing', 'hour two', 'hours', 'hours already', 'hours day', 'hours days', 'hours dota', 'hours end', 'hours endless', 'hours enjoyment', 'hours even', 'hours far', 'hours first', 'hours free', 'hours friends', 'hours fun', 'hours game', 'hours gameplay', 'hours get', 'hours getting', 'hours got', 'hours grinding', 'hours hours', 'hours later', 'hours life', 'hours like', 'hours logged', 'hours long', 'hours no', 'hours non', 'hours not', 'hours play', 'hours played', 'hours playing', 'hours playtime', 'hours put', 'hours really', 'hours record', 'hours say', 'hours short', 'hours since', 'hours spent', 'hours steam', 'hours still', 'hours straight', 'hours time', 'hours trying', 'hours unlock', 'hours upon', 'hours week', 'hours without', 'hours would', 'house', 'house jump', 'house jumpscares', 'houses', 'housing', 'hover', 'hovers', 'how', 'however', 'however even', 'however find', 'however game', 'however get', 'however like', 'however many', 'however much', 'however no', 'however not', 'however one', 'however pay', 'however really', 'however still', 'however think', 'however want', 'however would', 'hp', 'hq', 'hr', 'hrs', 'hrs game', 'hs', 'http', 'http steamcommunity', 'http www', 'https', 'https www', 'https youtu', 'httyd', 'hub', 'hud', 'huey', 'huge', 'huge advantage', 'huge amount', 'huge difference', 'huge fan', 'huge grind', 'huge issue', 'huge learning', 'huge map', 'huge plus', 'huge potential', 'huge problem', 'huge variety', 'hugely', 'huh', 'hull', 'human', 'humanity', 'humans', 'humble', 'humor', 'humorous', 'humour', 'hundred', 'hundred hours', 'hundreds', 'hundreds dollars', 'hundreds hours', 'hundreds people', 'hundreds players', 'hundreds thousands', 'hungry', 'hunt', 'hunt animals', 'hunt anything', 'hunt every', 'hunt everything', 'hunt free', 'hunt mule', 'hunt one', 'hunted', 'hunter', 'hunters', 'hunting', 'hunting game', 'hunting games', 'hunting mule', 'hunting sim', 'hunting simulator', 'hunts', 'hurt', 'hurting', 'hurts', 'hybrid', 'hype', 'hyped', 'hyper', 'ice', 'icefrog', 'icing', 'icon', 'iconic', 'icons', 'id', 'id rather', 'id say', 'idea', 'idea behind', 'idea game', 'idea make', 'ideal', 'ideas', 'identical', 'identify', 'identity', 'idiot', 'idiotic', 'idiots', 'idk', 'idle', 'idle clicker', 'idle game', 'idle games', 'idling', 'idols', 'ie', 'if', 'if dont', 'if fan', 'if get', 'if like', 'if looking', 'if new', 'if not', 'if play', 'if want', 'iffy', 'ign', 'ignorance', 'ignorant', 'ignore', 'ignored', 'ignoring', 'ii', 'iii', 'il', 'ill', 'illegal', 'illusion', 'im', 'im done', 'im going', 'im gonna', 'im not', 'im playing', 'im pretty', 'im really', 'im sorry', 'im still', 'im stuck', 'im sure', 'im talking', 'im trying', 'image', 'images', 'imaginable', 'imagination', 'imagine', 'imagined', 'imbalance', 'imbalanced', 'imbalances', 'imgur', 'imgur com', 'imho', 'immature', 'immediate', 'immediately', 'immediatly', 'immense', 'immensely', 'immerse', 'immersed', 'immersion', 'immersive', 'immortal', 'imo', 'impact', 'impact game', 'impactful', 'impatient', 'implants', 'implement', 'implementation', 'implemented', 'implementing', 'importance', 'important', 'important game', 'important thing', 'important things', 'importantly', 'imposible', 'impossible', 'impossible get', 'impossible play', 'impossible win', 'impressed', 'impressed game', 'impression', 'impression game', 'impressions', 'impressive', 'improve', 'improve game', 'improved', 'improvement', 'improvements', 'improves', 'improving', 'improving game', 'improvments', 'in', 'in addition', 'in case', 'in conclusion', 'in depth', 'in end', 'in game', 'in order', 'in short', 'in the', 'inability', 'inaccurate', 'inbetween', 'incentive', 'inception', 'inch', 'inches', 'inclined', 'include', 'included', 'includes', 'including', 'income', 'incoming', 'incompetent', 'incomplete', 'inconsistent', 'incorrect', 'increase', 'increased', 'increases', 'increasing', 'increasingly', 'incredible', 'incredible game', 'incredibly', 'incredibly easy', 'incredibly fun', 'incredibly well', 'incremental', 'indar', 'indeed', 'indepth', 'indicate', 'indication', 'indicator', 'indie', 'indie game', 'individual', 'individually', 'individuals', 'inducing', 'industry', 'inevitable', 'inevitably', 'infact', 'infamous', 'infantry', 'infantry combat', 'inferior', 'infestation', 'infestation new', 'infestation survivor', 'infested', 'infiltrator', 'infinite', 'infinitely', 'infinity', 'influence', 'info', 'information', 'informative', 'informed', 'infront', 'infuriating', 'ing', 'ing game', 'ing good', 'ing love', 'ing stupid', 'ingame', 'ingame currency', 'ingame money', 'ingame store', 'ingredients', 'inherently', 'ini', 'ini file', 'ini files', 'initial', 'initially', 'injury', 'inner', 'inner workings', 'innocent', 'innovative', 'input', 'inputs', 'ins', 'insane', 'insane amount', 'insanely', 'insanely fun', 'insanity', 'insert', 'inside', 'inside game', 'insight', 'insist', 'inspiration', 'inspired', 'insta', 'install', 'install game', 'installation', 'installed', 'installed game', 'installing', 'installing game', 'installs', 'instance', 'instanced', 'instances', 'instant', 'instant action', 'instant kill', 'instantly', 'instants', 'instead', 'instead fixing', 'instead game', 'instead get', 'instead getting', 'instead going', 'instead making', 'instead one', 'instead using', 'instructions', 'insult', 'insult injury', 'insulted', 'insulting', 'insults', 'integrated', 'integration', 'intel', 'intelligence', 'intelligent', 'intend', 'intended', 'intense', 'intensive', 'intent', 'intention', 'intentional', 'intentionally', 'interact', 'interacting', 'interaction', 'interactions', 'interactive', 'interest', 'interest game', 'interested', 'interested game', 'interesting', 'interesting concept', 'interesting fun', 'interesting game', 'interesting gameplay', 'interesting mechanics', 'interesting play', 'interesting story', 'interests', 'interface', 'interface not', 'internal', 'international', 'internet', 'internet connection', 'internet not', 'intimidating', 'into', 'intresting', 'intricate', 'intrigued', 'intriguing', 'intro', 'introduce', 'introduce new', 'introduced', 'introduced game', 'introduces', 'introducing', 'introduction', 'intrusive', 'intuitive', 'invasion', 'inventory', 'inventory management', 'inventory space', 'invest', 'invest money', 'invest time', 'invested', 'invested game', 'investing', 'investing money', 'investing time', 'investment', 'invincibility', 'invincible', 'invisibility', 'invisible', 'invite', 'invite friends', 'invited', 'inviting', 'involve', 'involved', 'involved game', 'involves', 'involving', 'ion', 'ios', 'ios android', 'ip', 'ipad', 'iphone', 'iq', 'ir', 'iracing', 'irl', 'irl money', 'iron', 'iron sights', 'ironed', 'ironic', 'irrelevant', 'irritating', 'ish', 'island', 'islands', 'isn', 'isnt', 'isnt bad', 'isnt even', 'isnt really', 'isnt worth', 'isometric', 'iss', 'issue', 'issue game', 'issue not', 'issue would', 'issues', 'issues bugs', 'issues fixed', 'issues game', 'issues like', 'issues no', 'issues not', 'issues people', 'issues still', 'ist', 'it', 'it also', 'it but', 'it could', 'it feels', 'it free', 'it fun', 'it game', 'it good', 'it great', 'it hard', 'it if', 'it it', 'it like', 'it not', 'it now', 'it pros', 'it really', 'it shame', 'it still', 'it takes', 'it the', 'it there', 'it this', 'it worth', 'it would', 'it you', 'italian', 'itch', 'item', 'item drops', 'item mall', 'item not', 'items', 'items also', 'items buy', 'items character', 'items even', 'items game', 'items get', 'items give', 'items like', 'items make', 'items need', 'items no', 'items not', 'items pay', 'items real', 'items use', 'items want', 'items weapons', 'items would', 'its', 'its free', 'its not', 'itself', 'iv', 'ive', 'ive ever', 'ive played', 'ive playing', 'ive seen', 'jack', 'jam', 'janky', 'january', 'japan', 'japanese', 'jeep', 'jerk', 'jesus', 'jesus christ', 'jet', 'jets', 'jk', 'job', 'job devs', 'job keeping', 'job making', 'jobs', 'joey', 'john', 'join', 'join friends', 'join game', 'join match', 'join server', 'join us', 'joined', 'joining', 'joining server', 'joins', 'joke', 'joke game', 'joke not', 'jokes', 'joking', 'journey', 'joust', 'joy', 'joy play', 'joystick', 'jp', 'jsut', 'judge', 'judge game', 'judgement', 'judging', 'juicy', 'july', 'jump', 'jump right', 'jump scare', 'jump scares', 'jumped', 'jumping', 'jumps', 'jumpscare', 'jumpscares', 'june', 'jungle', 'junk', 'just', 'just not', 'justice', 'justify', 'ka', 'kabam', 'kaiba', 'kar', 'keen', 'keep', 'keep adding', 'keep busy', 'keep cards', 'keep coming', 'keep entertained', 'keep eye', 'keep game', 'keep getting', 'keep going', 'keep good', 'keep great', 'keep interested', 'keep mind', 'keep players', 'keep playing', 'keep short', 'keep things', 'keep track', 'keep trying', 'keeping', 'keeping game', 'keeps', 'keeps crashing', 'keeps game', 'keeps getting', 'keeps going', 'kept', 'kept going', 'kept playing', 'key', 'keyboard', 'keyboard controls', 'keyboard mouse', 'keys', 'keyword', 'keywords', 'kick', 'kicked', 'kicking', 'kicks', 'kickstarter', 'kid', 'kidding', 'kids', 'kids everyone', 'kids game', 'kill', 'kill anything', 'kill enemies', 'kill enemy', 'kill even', 'kill game', 'kill monsters', 'kill not', 'kill one', 'kill people', 'kill player', 'kill someone', 'kill tanks', 'kill things', 'kill time', 'killed', 'killed game', 'killer', 'killing', 'killing enemies', 'killing game', 'killing monsters', 'kills', 'kills game', 'kills get', 'kills one', 'kind', 'kind annoying', 'kind fun', 'kind game', 'kind games', 'kind like', 'kind person', 'kind thing', 'kinda', 'kinda fun', 'kinda game', 'kinda like', 'kindly', 'kinds', 'king', 'king hill', 'kingdom', 'kit', 'kitchen', 'kits', 'kiwi', 'km', 'knee', 'knew', 'knew would', 'knife', 'knight', 'knock', 'knocked', 'know', 'know could', 'know every', 'know everything', 'know exactly', 'know expect', 'know game', 'know get', 'know going', 'know good', 'know great', 'know im', 'know know', 'know like', 'know lot', 'know love', 'know make', 'know many', 'know mean', 'know much', 'know need', 'know not', 'know one', 'know people', 'know play', 'know say', 'know something', 'know start', 'know still', 'know talking', 'know think', 'know want', 'know whats', 'know would', 'knowing', 'knowledge', 'knowledge game', 'known', 'knows', 'kog', 'konami', 'kongregate', 'korea', 'korean', 'kr', 'kudos', 'kv', 'la', 'lab', 'labeled', 'lack', 'lack content', 'lack players', 'lacked', 'lacking', 'lackluster', 'lacks', 'ladder', 'ladders', 'ladies', 'lady', 'lag', 'lag issues', 'lag not', 'lag sometimes', 'lag spikes', 'lagged', 'lagging', 'laggs', 'laggy', 'laggy hell', 'lags', 'laid', 'laid back', 'lame', 'lan', 'land', 'landed', 'landing', 'lands', 'landscape', 'landscapes', 'lane', 'lane system', 'lanes', 'language', 'languages', 'lap', 'laptop', 'laptops', 'large', 'large amount', 'large amounts', 'large number', 'large scale', 'large variety', 'largely', 'larger', 'largest', 'las', 'laser', 'lasers', 'last', 'last couple', 'last days', 'last game', 'last hours', 'last long', 'last man', 'last minutes', 'last month', 'last months', 'last night', 'last not', 'last one', 'last patch', 'last played', 'last thing', 'last time', 'last two', 'last update', 'last week', 'last year', 'last years', 'lasted', 'lasting', 'lastly', 'lasts', 'late', 'late game', 'lately', 'latency', 'latency issues', 'later', 'later game', 'later not', 'later still', 'latest', 'latest patch', 'latest update', 'latter', 'laugh', 'laughable', 'laughed', 'laughing', 'laughs', 'launch', 'launch game', 'launched', 'launcher', 'launcher game', 'launcher not', 'launchers', 'launches', 'launching', 'launching game', 'lava', 'law', 'lay', 'layer', 'layers', 'laying', 'layout', 'lazy', 'le', 'lead', 'leader', 'leaderboard', 'leaderboards', 'leadership', 'leading', 'leads', 'leaf', 'league', 'league dota', 'league legends', 'leagues', 'leak', 'leaning', 'learn', 'learn basics', 'learn fly', 'learn game', 'learn hard', 'learn new', 'learn not', 'learn play', 'learn something', 'learn use', 'learned', 'learning', 'learning curve', 'learning game', 'learning play', 'learnt', 'least', 'least free', 'least game', 'least give', 'least hours', 'least make', 'least not', 'least one', 'least try', 'least trying', 'leave', 'leave game', 'leaves', 'leaving', 'leaving game', 'led', 'left', 'left click', 'left game', 'left not', 'left right', 'leg', 'legacy', 'legal', 'legend', 'legendaries', 'legendary', 'legendary card', 'legendary cards', 'legendary items', 'legendary weapons', 'legends', 'legends dota', 'legends not', 'legit', 'legitimate', 'legitimately', 'lego', 'legs', 'lem', 'lend', 'length', 'length really', 'length time', 'lengthy', 'less', 'less fun', 'less game', 'less half', 'less hours', 'less less', 'less like', 'less minutes', 'less people', 'less players', 'less rng', 'less time', 'lesser', 'lesson', 'let', 'let alone', 'let explain', 'let game', 'let get', 'let give', 'let go', 'let honest', 'let know', 'let make', 'let move', 'let not', 'let people', 'let play', 'let players', 'let put', 'let say', 'let see', 'let start', 'let talk', 'let tell', 'let try', 'let us', 'lethal', 'lets', 'lets get', 'lets go', 'lets not', 'lets play', 'lets say', 'lets start', 'lets talk', 'letter', 'letters', 'letting', 'level', 'level cap', 'level character', 'level characters', 'level design', 'level detail', 'level dungeons', 'level even', 'level game', 'level gear', 'level get', 'level level', 'level no', 'level not', 'level one', 'level people', 'level play', 'level player', 'level players', 'level playing', 'level still', 'level system', 'level up', 'leveled', 'leveling', 'leveling system', 'levelled', 'levelling', 'levels', 'levels game', 'levels not', 'levels play', 'library', 'licence', 'licences', 'license', 'license hunt', 'licenses', 'lie', 'lie game', 'lies', 'life', 'life game', 'life get', 'life money', 'life not', 'life points', 'life would', 'lifetime', 'lift', 'light', 'light tank', 'light tanks', 'lighter', 'lighting', 'lightly', 'lightning', 'lights', 'like', 'like able', 'like actually', 'like also', 'like always', 'like anime', 'like another', 'like aqw', 'like arcade', 'like arena', 'like bad', 'like battle', 'like battlefield', 'like best', 'like better', 'like big', 'like black', 'like build', 'like building', 'like buy', 'like call', 'like card', 'like cash', 'like challenge', 'like character', 'like clicker', 'like cod', 'like combat', 'like concept', 'like could', 'like counter', 'like crap', 'like crazy', 'like cs', 'like csgo', 'like dayz', 'like demo', 'like developers', 'like devs', 'like diablo', 'like different', 'like dont', 'like dota', 'like elder', 'like enjoy', 'like eternal', 'like even', 'like ever', 'like every', 'like everyone', 'like everything', 'like fact', 'like fallout', 'like fast', 'like feel', 'like fighting', 'like fine', 'like first', 'like flying', 'like fortnite', 'like fps', 'like free', 'like full', 'like fun', 'like game', 'like gameplay', 'like games', 'like get', 'like getting', 'like give', 'like go', 'like going', 'like gold', 'like good', 'like got', 'like graphics', 'like great', 'like grind', 'like grinding', 'like guns', 'like half', 'like hearthstone', 'like hell', 'like hours', 'like hs', 'like hunting', 'like idea', 'like im', 'like ing', 'like it', 'like kind', 'like know', 'like last', 'like league', 'like level', 'like like', 'like little', 'like lol', 'like long', 'like loot', 'like lot', 'like love', 'like made', 'like magic', 'like make', 'like making', 'like many', 'like maps', 'like maybe', 'like might', 'like minecraft', 'like minutes', 'like mmo', 'like mmos', 'like moba', 'like mobas', 'like mobile', 'like months', 'like mtg', 'like much', 'like need', 'like never', 'like new', 'like no', 'like normal', 'like not', 'like nothing', 'like oh', 'like old', 'like one', 'like open', 'like original', 'like others', 'like part', 'like pay', 'like paying', 'like people', 'like play', 'like played', 'like players', 'like playing', 'like point', 'like pretty', 'like pubg', 'like put', 'like pvp', 'like real', 'like realistic', 'like really', 'like rest', 'like review', 'like said', 'like say', 'like see', 'like seriously', 'like skins', 'like smash', 'like someone', 'like something', 'like space', 'like spend', 'like spending', 'like star', 'like start', 'like still', 'like super', 'like support', 'like sure', 'like taking', 'like tank', 'like tanks', 'like team', 'like tf', 'like that', 'like thing', 'like things', 'like think', 'like this', 'like time', 'like times', 'like top', 'like try', 'like trying', 'like use', 'like used', 'like valve', 'like want', 'like war', 'like waste', 'like way', 'like weapons', 'like well', 'like world', 'like wot', 'like would', 'like wow', 'like wtf', 'like year', 'like years', 'like yu', 'liked', 'liked game', 'likely', 'likely get', 'likely not', 'likes', 'liking', 'lil', 'limit', 'limitation', 'limitations', 'limited', 'limited amount', 'limited options', 'limited time', 'limiting', 'limitless', 'limits', 'line', 'linear', 'lines', 'lineup', 'link', 'linked', 'linking', 'links', 'linux', 'lions', 'list', 'list goes', 'list pros', 'listed', 'listen', 'listen community', 'listen people', 'listen players', 'listened', 'listening', 'listening community', 'listens', 'listing', 'lists', 'lit', 'lite', 'literal', 'literally', 'literally every', 'literally everything', 'literally game', 'literally no', 'literally not', 'literally nothing', 'litterally', 'little', 'little better', 'little bit', 'little brother', 'little bugs', 'little game', 'little kids', 'little less', 'little longer', 'little money', 'little much', 'little no', 'little things', 'little time', 'little work', 'live', 'lived', 'lively', 'lives', 'living', 'll', 'lmao', 'lmg', 'lo', 'load', 'load game', 'load time', 'load times', 'loaded', 'loading', 'loading game', 'loading screen', 'loading screens', 'loading time', 'loading times', 'loadout', 'loadouts', 'loads', 'loads fun', 'lobbies', 'lobby', 'local', 'localization', 'located', 'location', 'locations', 'lock', 'lock on', 'locked', 'locked behind', 'locking', 'locks', 'log', 'log back', 'logged', 'logging', 'logic', 'logical', 'login', 'logitech', 'logs', 'loki', 'lol', 'lol dota', 'lol game', 'lol not', 'lone', 'lonely', 'long', 'long ago', 'long boring', 'long enough', 'long game', 'long get', 'long grind', 'long hours', 'long lasting', 'long loading', 'long long', 'long no', 'long not', 'long one', 'long periods', 'long range', 'long review', 'long run', 'long story', 'long takes', 'long term', 'long time', 'long wait', 'long way', 'longer', 'longer fun', 'longer game', 'longer play', 'longer recommend', 'longest', 'longest time', 'longevity', 'look', 'look amazing', 'look around', 'look back', 'look bad', 'look better', 'look cool', 'look different', 'look elsewhere', 'look forward', 'look game', 'look good', 'look great', 'look like', 'look nice', 'look no', 'look past', 'look pretty', 'look really', 'look something', 'looked', 'looked back', 'looked like', 'looking', 'looking card', 'looking casual', 'looking forward', 'looking free', 'looking fun', 'looking game', 'looking get', 'looking good', 'looking like', 'looking new', 'looking play', 'looking something', 'looks', 'looks amazing', 'looks better', 'looks cool', 'looks feels', 'looks good', 'looks great', 'looks like', 'looks nice', 'looks pretty', 'looks really', 'loop', 'loose', 'loosing', 'loot', 'loot box', 'loot boxes', 'loot crate', 'loot crates', 'loot drops', 'loot game', 'loot not', 'loot system', 'loot update', 'lootboxes', 'looting', 'lord', 'lore', 'los', 'lose', 'lose everything', 'lose game', 'lose interest', 'lose money', 'lose not', 'lose time', 'loser', 'losers', 'loses', 'losing', 'losing game', 'loss', 'losses', 'lost', 'lost due', 'lost game', 'lost idols', 'lost interest', 'lost many', 'lot', 'lot better', 'lot bugs', 'lot cards', 'lot content', 'lot depth', 'lot different', 'lot easier', 'lot effort', 'lot even', 'lot free', 'lot fun', 'lot game', 'lot games', 'lot going', 'lot good', 'lot great', 'lot grinding', 'lot hours', 'lot issues', 'lot less', 'lot like', 'lot longer', 'lot money', 'lot negative', 'lot new', 'lot nice', 'lot not', 'lot offer', 'lot patience', 'lot people', 'lot players', 'lot potential', 'lot problems', 'lot strategy', 'lot stuff', 'lot things', 'lot time', 'lot times', 'lot variety', 'lot ways', 'lot weapons', 'lot work', 'lots', 'lots content', 'lots different', 'lots fun', 'lots grinding', 'lots lots', 'lots money', 'lots people', 'lots potential', 'lots stuff', 'lots things', 'lottery', 'loud', 'love', 'love able', 'love concept', 'love elder', 'love fact', 'love game', 'love god', 'love hate', 'love idea', 'love it', 'love love', 'love much', 'love not', 'love play', 'love playing', 'love see', 'love space', 'love way', 'loved', 'loved game', 'loved playing', 'lovely', 'lover', 'lovers', 'loves', 'loving', 'loving game', 'low', 'low end', 'low fps', 'low level', 'low levels', 'low price', 'low priority', 'low quality', 'low settings', 'low spec', 'low tier', 'low tiers', 'lower', 'lower level', 'lower levels', 'lower tier', 'lower tiers', 'lowered', 'lowering', 'lowest', 'lowest settings', 'lowly', 'loyal', 'lp', 'luck', 'luck based', 'luck draw', 'luck game', 'luck not', 'luckily', 'lucky', 'lucky enough', 'lucky get', 'lumena', 'lunch', 'lunch boxes', 'lunchboxes', 'lure', 'lv', 'lvl', 'lvl not', 'lvls', 'lying', 'mac', 'machine', 'machine gun', 'machine guns', 'machines', 'macro', 'mad', 'mad god', 'made', 'made community', 'made even', 'made feel', 'made free', 'made fun', 'made game', 'made games', 'made good', 'made great', 'made impossible', 'made many', 'made mistake', 'made new', 'made not', 'made pay', 'made people', 'made robocraft', 'made want', 'made way', 'made worse', 'madness', 'mag', 'magazine', 'magazines', 'mage', 'mages', 'magic', 'magic gathering', 'magic hearthstone', 'magic not', 'magic online', 'magical', 'magically', 'magicka', 'magnificent', 'mail', 'main', 'main character', 'main focus', 'main game', 'main issue', 'main menu', 'main problem', 'main reason', 'main reasons', 'main story', 'mainly', 'mainly play', 'mainstream', 'maintain', 'maintained', 'maintaining', 'maintenance', 'major', 'major bugs', 'major changes', 'major issue', 'major issues', 'major problem', 'major problems', 'major update', 'major updates', 'majority', 'majority people', 'majority players', 'majority time', 'make', 'make account', 'make another', 'make bad', 'make better', 'make buy', 'make changes', 'make character', 'make decent', 'make deck', 'make difference', 'make different', 'make easier', 'make easy', 'make even', 'make every', 'make feel', 'make free', 'make friends', 'make fun', 'make game', 'make gameplay', 'make games', 'make go', 'make good', 'make great', 'make harder', 'make jump', 'make like', 'make little', 'make look', 'make lot', 'make mistake', 'make money', 'make much', 'make new', 'make no', 'make not', 'make one', 'make pay', 'make people', 'make player', 'make profit', 'make progress', 'make quick', 'make real', 'make review', 'make sense', 'make something', 'make sure', 'make things', 'make think', 'make use', 'make want', 'make way', 'make work', 'make world', 'make worse', 'make worth', 'maker', 'makers', 'makes', 'makes easier', 'makes even', 'makes everything', 'makes feel', 'makes fun', 'makes game', 'makes games', 'makes good', 'makes great', 'makes hard', 'makes impossible', 'makes much', 'makes no', 'makes not', 'makes playing', 'makes pretty', 'makes really', 'makes sad', 'makes sense', 'makes things', 'makes think', 'makes want', 'makes wonder', 'makes worth', 'making', 'making changes', 'making game', 'making great', 'making money', 'making new', 'making not', 'making one', 'making people', 'making progress', 'making sure', 'making system', 'male', 'mall', 'malware', 'mammoth', 'man', 'man game', 'man standing', 'mana', 'mana cards', 'mana flood', 'mana screw', 'mana screwed', 'mana system', 'manage', 'manage get', 'manageable', 'managed', 'managed get', 'management', 'management game', 'manager', 'manages', 'managing', 'mandatory', 'maneuver', 'maneuvering', 'manga', 'manipulate', 'mann', 'mann co', 'mann vs', 'manner', 'mans', 'mansion', 'mantle', 'mantle power', 'manual', 'manually', 'manuals', 'manufacturer', 'many', 'many aspects', 'many bugs', 'many card', 'many cards', 'many changes', 'many characters', 'many classes', 'many different', 'many features', 'many free', 'many friends', 'many fun', 'many game', 'many games', 'many glitches', 'many gods', 'many good', 'many guns', 'many hackers', 'many hours', 'many issues', 'many items', 'many many', 'many maps', 'many matches', 'many months', 'many more', 'many new', 'many not', 'many options', 'many others', 'many people', 'many players', 'many problems', 'many reasons', 'many reviews', 'many things', 'many times', 'many updates', 'many ways', 'many weapons', 'many years', 'map', 'map design', 'map game', 'map no', 'map not', 'map one', 'map size', 'mapping', 'maps', 'maps big', 'maps game', 'maps not', 'maps really', 'maps small', 'march', 'margin', 'mario', 'mark', 'marked', 'markers', 'market', 'market not', 'marketed', 'marketing', 'marketplace', 'mas', 'mash', 'mashing', 'mask', 'masks', 'mass', 'masses', 'massive', 'massive amount', 'massive battles', 'massive grind', 'massive scale', 'massively', 'massively multiplayer', 'master', 'master game', 'master hard', 'mastered', 'mastering', 'masterpiece', 'masterpiece price', 'masters', 'mastery', 'match', 'match also', 'match even', 'match game', 'match get', 'match making', 'match match', 'match no', 'match not', 'match people', 'match play', 'match players', 'match takes', 'match team', 'match update', 'match would', 'matched', 'matched people', 'matched players', 'matches', 'matches game', 'matches get', 'matches not', 'matches played', 'matching', 'matchmaker', 'matchmaking', 'matchmaking not', 'matchmaking still', 'matchmaking system', 'matchmaking takes', 'matchup', 'mate', 'materia', 'material', 'materials', 'mates', 'math', 'matrix', 'mats', 'matter', 'matter fact', 'matter game', 'matter good', 'matter many', 'matter much', 'matter not', 'matters', 'mature', 'max', 'max level', 'max lvl', 'max settings', 'maxed', 'maximize', 'maximum', 'may', 'may ask', 'may come', 'may even', 'may find', 'may get', 'may look', 'may may', 'may need', 'may not', 'may say', 'may seem', 'may sound', 'may take', 'may think', 'may want', 'may well', 'maybe', 'maybe add', 'maybe change', 'maybe even', 'maybe game', 'maybe get', 'maybe like', 'maybe not', 'maybe one', 'maybe play', 'maybe try', 'maybe would', 'maze', 'mb', 'mc', 'me', 'me the', 'mean', 'mean anything', 'mean come', 'mean free', 'mean game', 'mean like', 'mean not', 'mean nothing', 'mean pay', 'mean really', 'mean would', 'meaning', 'meaning no', 'meaning not', 'meaningful', 'meaningless', 'means', 'means game', 'means get', 'means lot', 'means no', 'means not', 'means nothing', 'means play', 'meant', 'meant played', 'meantime', 'meanwhile', 'measure', 'measures', 'meat', 'mech', 'mechanic', 'mechanical', 'mechanically', 'mechanics', 'mechanics fun', 'mechanics game', 'mechanics good', 'mechanics great', 'mechanics like', 'mechanics make', 'mechanics not', 'mechanics pretty', 'mechanics really', 'mechanics well', 'mechanics would', 'mechanism', 'mechanisms', 'mechs', 'med', 'medal', 'medallions', 'medals', 'media', 'medic', 'medics', 'medieval', 'mediocre', 'medium', 'medium fast', 'medium tank', 'medium tanks', 'meet', 'meet match', 'meeting', 'meets', 'mega', 'mega bots', 'megabot', 'megabots', 'megas', 'meh', 'meh game', 'melee', 'melee weapons', 'melt', 'member', 'members', 'membership', 'membership not', 'memberships', 'meme', 'memes', 'memorable', 'memories', 'memory', 'men', 'ment', 'mental', 'mentality', 'mentally', 'mention', 'mention free', 'mention game', 'mentioned', 'mentioned earlier', 'mentioning', 'menu', 'menu game', 'menu not', 'menu system', 'menus', 'mercy', 'mere', 'merely', 'mess', 'mess around', 'mess game', 'message', 'messages', 'messed', 'messes', 'messing', 'messy', 'met', 'meta', 'meta deck', 'meta decks', 'meta game', 'metagame', 'metal', 'metas', 'meter', 'meters', 'meters away', 'method', 'methods', 'metric', 'mg', 'mhz', 'mi', 'mic', 'micro', 'micro transaction', 'micro transactions', 'microsoft', 'microtransaction', 'microtransaction system', 'microtransactions', 'microtransactions not', 'mid', 'mid air', 'mid game', 'mid tier', 'middle', 'midrange', 'mig', 'mig bis', 'might', 'might able', 'might actually', 'might add', 'might ask', 'might bit', 'might change', 'might enjoy', 'might even', 'might find', 'might fun', 'might get', 'might good', 'might like', 'might need', 'might not', 'might say', 'might seem', 'might take', 'might think', 'might want', 'might well', 'mighty', 'mil', 'mildly', 'mile', 'mile away', 'miles', 'miles away', 'military', 'milk', 'milking', 'mill', 'million', 'millions', 'min', 'min game', 'mind', 'mind game', 'mind grind', 'mind grinding', 'mind not', 'mind paying', 'minded', 'mindless', 'mindlessly', 'minds', 'mine', 'minecraft', 'minecraft better', 'minecraft clone', 'minecraft game', 'minecraft like', 'minecraft not', 'minecraft rip', 'mines', 'mini', 'mini game', 'mini games', 'minigame', 'minigames', 'minigun', 'minimal', 'minimap', 'minimize', 'minimum', 'minimum medium', 'mining', 'minion', 'minions', 'miniscule', 'minor', 'minor bugs', 'minor issues', 'minority', 'mins', 'mins game', 'minus', 'minute', 'minute game', 'minutes', 'minutes find', 'minutes game', 'minutes gameplay', 'minutes get', 'minutes later', 'minutes not', 'minutes playing', 'minutes time', 'minutes trying', 'miracle', 'mirror', 'miserable', 'misleading', 'miss', 'missed', 'misses', 'missile', 'missile launcher', 'missiles', 'missing', 'missing something', 'mission', 'mission editor', 'missions', 'missle', 'missles', 'mistake', 'mistaken', 'mistakes', 'mitigate', 'mix', 'mixed', 'mixed reviews', 'mixes', 'mixing', 'mixture', 'mk', 'mlg', 'mm', 'mmo', 'mmo ever', 'mmo fps', 'mmo game', 'mmo games', 'mmo launch', 'mmo like', 'mmo not', 'mmo play', 'mmo played', 'mmo rpg', 'mmofps', 'mmorpg', 'mmorpg game', 'mmorpg games', 'mmorpgs', 'mmos', 'mmr', 'moan', 'moaning', 'moans', 'mob', 'moba', 'moba ever', 'moba game', 'moba games', 'moba genre', 'moba like', 'moba not', 'moba space', 'moba style', 'mobas', 'mobile', 'mobile app', 'mobile device', 'mobile devices', 'mobile game', 'mobile games', 'mobile pc', 'mobile phone', 'mobile port', 'mobile version', 'mobility', 'mobs', 'mod', 'modded', 'modding', 'mode', 'mode also', 'mode even', 'mode fun', 'mode game', 'mode get', 'mode not', 'mode people', 'mode play', 'mode would', 'model', 'model game', 'model not', 'modeled', 'modeling', 'modelled', 'models', 'models game', 'moderate', 'moderation', 'moderators', 'modern', 'modern day', 'modes', 'modes like', 'modes maps', 'modes not', 'modes play', 'modifications', 'modified', 'modifiers', 'modify', 'mods', 'module', 'modules', 'mole', 'mole rats', 'mom', 'moment', 'moment not', 'moments', 'momentum', 'monetary', 'monetization', 'money', 'money able', 'money actually', 'money also', 'money back', 'money buy', 'money buying', 'money cosmetics', 'money could', 'money currency', 'money devs', 'money dont', 'money earn', 'money earned', 'money even', 'money free', 'money game', 'money games', 'money get', 'money getting', 'money go', 'money good', 'money got', 'money grab', 'money grabbing', 'money however', 'money hungry', 'money in', 'money it', 'money keep', 'money like', 'money make', 'money making', 'money money', 'money much', 'money need', 'money never', 'money new', 'money no', 'money not', 'money one', 'money order', 'money overall', 'money pay', 'money people', 'money play', 'money players', 'money playing', 'money point', 'money possible', 'money premium', 'money purchase', 'money put', 'money really', 'money regret', 'money somehow', 'money something', 'money spend', 'money spent', 'money still', 'money system', 'money the', 'money things', 'money think', 'money this', 'money time', 'money unlock', 'money want', 'money well', 'money worth', 'money would', 'moneys', 'monitor', 'monkey', 'monkey king', 'monkeys', 'monopoly', 'monopoly game', 'monotonous', 'monster', 'monster spell', 'monsters', 'month', 'month ago', 'month get', 'month membership', 'month not', 'month two', 'monthly', 'monthly subscription', 'months', 'months ago', 'months game', 'months get', 'months later', 'months membership', 'months not', 'months playing', 'mood', 'moon', 'moose', 'moral', 'more', 'moreover', 'morning', 'morons', 'morrowind', 'mosin', 'most', 'mostly', 'mostly negative', 'mother', 'motion', 'motivation', 'moto', 'motorcycles', 'mount', 'mountain', 'mountains', 'mounts', 'mounts pets', 'mouse', 'mouse button', 'mouse keyboard', 'mouse not', 'mouth', 'move', 'move around', 'move forward', 'move game', 'move next', 'moved', 'movement', 'movement feels', 'movement speed', 'movements', 'moves', 'moveset', 'movie', 'movies', 'moving', 'mp', 'mph', 'mr', 'ms', 'mtg', 'mtg arena', 'mtg game', 'mtg hearthstone', 'mtg player', 'mtgo', 'mtx', 'much', 'much also', 'much anymore', 'much anything', 'much better', 'much bigger', 'much buy', 'much changed', 'much content', 'much could', 'much damage', 'much deeper', 'much different', 'much easier', 'much effort', 'much else', 'much enjoy', 'much enjoyable', 'much even', 'much every', 'much everything', 'much faster', 'much free', 'much fun', 'much game', 'much gameplay', 'much get', 'much grind', 'much grinding', 'much harder', 'much hate', 'much higher', 'much hours', 'much lag', 'much larger', 'much learn', 'much less', 'much like', 'much little', 'much longer', 'much love', 'much money', 'much more', 'much much', 'much needed', 'much new', 'much no', 'much not', 'much nothing', 'much offer', 'much pay', 'much people', 'much play', 'much played', 'much possible', 'much potential', 'much problem', 'much rather', 'much really', 'much recommend', 'much rng', 'much say', 'much since', 'much slower', 'much spend', 'much still', 'much stuff', 'much time', 'much useless', 'much want', 'much worse', 'much worth', 'much would', 'mule', 'mule deer', 'mulligan', 'multi', 'multi player', 'multiplayer', 'multiplayer experience', 'multiplayer fps', 'multiplayer game', 'multiplayer games', 'multiplayer not', 'multiplayer online', 'multiple', 'multiple classes', 'multiple game', 'multiple times', 'multitude', 'murder', 'music', 'must', 'must buy', 'must get', 'must not', 'must pay', 'must play', 'must say', 'must try', 'mustang', 'mutch', 'mute', 'muted', 'mvm', 'my', 'myriad', 'myself', 'mysterious', 'mystery', 'mystic', 'mythology', 'na', 'na eu', 'na servers', 'nah', 'nail', 'nail coffin', 'nails', 'naked', 'name', 'name game', 'named', 'namely', 'names', 'narrow', 'nasa', 'nasa computer', 'nasty', 'nation', 'nations', 'natural', 'naturally', 'nature', 'nature game', 'naval', 'navigate', 'navigation', 'nc', 'nd', 'near', 'near future', 'near impossible', 'nearby', 'nearly', 'nearly every', 'nearly hours', 'nearly impossible', 'nearly years', 'neat', 'necessarily', 'necessary', 'necessity', 'need', 'need add', 'need arms', 'need better', 'need buy', 'need change', 'need decent', 'need farm', 'need fix', 'need fixed', 'need game', 'need get', 'need give', 'need go', 'need good', 'need grind', 'need help', 'need keep', 'need know', 'need learn', 'need least', 'need level', 'need license', 'need little', 'need lot', 'need make', 'need money', 'need much', 'need no', 'need not', 'need one', 'need pay', 'need play', 'need purchase', 'need put', 'need say', 'need something', 'need spend', 'need start', 'need take', 'need time', 'need try', 'need use', 'need wait', 'need win', 'need work', 'need worry', 'needed', 'needed get', 'needed make', 'needed play', 'needing', 'needless', 'needless say', 'needs', 'needs alot', 'needs better', 'needs bit', 'needs fixed', 'needs improvement', 'needs little', 'needs lot', 'needs work', 'negative', 'negative comments', 'negative game', 'negative points', 'negative review', 'negative reviews', 'negative things', 'negatively', 'negatives', 'negativity', 'neglected', 'neither', 'neon', 'neowiz', 'nerd', 'nerf', 'nerfed', 'nerfing', 'nerfs', 'nerves', 'net', 'net agent', 'net code', 'netcode', 'nets', 'network', 'neutral', 'never', 'never able', 'never actually', 'never buy', 'never come', 'never ending', 'never even', 'never ever', 'never experienced', 'never feel', 'never felt', 'never find', 'never fixed', 'never forget', 'never game', 'never get', 'never gets', 'never go', 'never going', 'never good', 'never got', 'never happen', 'never happened', 'never heard', 'never know', 'never pay', 'never play', 'never played', 'never really', 'never saw', 'never see', 'never seen', 'never spent', 'never thought', 'never tried', 'never used', 'never want', 'nevermind', 'nevertheless', 'neverwinter', 'neverwinter nights', 'neverwinter not', 'new', 'new account', 'new aircraft', 'new battle', 'new card', 'new cards', 'new changes', 'new character', 'new characters', 'new class', 'new classes', 'new client', 'new concept', 'new conglomerate', 'new content', 'new deck', 'new decks', 'new developer', 'new epic', 'new events', 'new exciting', 'new expansion', 'new features', 'new friends', 'new game', 'new games', 'new gear', 'new genre', 'new god', 'new gods', 'new gun', 'new guns', 'new hero', 'new heroes', 'new ideas', 'new items', 'new league', 'new leagues', 'new level', 'new loot', 'new map', 'new maps', 'new mechanics', 'new meta', 'new mmo', 'new not', 'new one', 'new ones', 'new parts', 'new patch', 'new pc', 'new people', 'new plane', 'new planes', 'new player', 'new players', 'new server', 'new servers', 'new set', 'new ships', 'new skills', 'new skins', 'new stuff', 'new system', 'new table', 'new take', 'new tank', 'new tanks', 'new thing', 'new things', 'new ui', 'new update', 'new updates', 'new vehicle', 'new vehicles', 'new way', 'new ways', 'new weapon', 'new weapons', 'new world', 'newbie', 'newbies', 'newcomer', 'newcomers', 'newer', 'newer players', 'newest', 'newest update', 'newly', 'news', 'newz', 'next', 'next big', 'next day', 'next game', 'next gen', 'next level', 'next months', 'next nothing', 'next one', 'next point', 'next room', 'next thing', 'next tier', 'next time', 'next turn', 'next update', 'next year', 'nexus', 'ni', 'nice', 'nice change', 'nice community', 'nice feature', 'nice game', 'nice gameplay', 'nice graphics', 'nice little', 'nice looking', 'nice not', 'nice people', 'nice play', 'nice see', 'nice thing', 'nice touch', 'nicely', 'nicer', 'niche', 'nickle', 'nigh', 'night', 'nightmare', 'nights', 'nine', 'ninja', 'ninja kiwi', 'ninjakiwi', 'nintendo', 'no', 'no actual', 'no armor', 'no arty', 'no balance', 'no better', 'no big', 'no bugs', 'no building', 'no challenge', 'no chance', 'no character', 'no choice', 'no clue', 'no content', 'no control', 'no damage', 'no different', 'no doubt', 'no effort', 'no end', 'no excuse', 'no explanation', 'no free', 'no fun', 'no game', 'no go', 'no good', 'no guns', 'no harm', 'no hope', 'no idea', 'no intention', 'no issue', 'no issues', 'no joke', 'no lag', 'no life', 'no longer', 'no main', 'no mana', 'no matter', 'no means', 'no money', 'no multiplayer', 'no near', 'no need', 'no new', 'no no', 'no not', 'no one', 'no option', 'no pay', 'no point', 'no problem', 'no problems', 'no purpose', 'no pvp', 'no real', 'no reason', 'no recoil', 'no reward', 'no sense', 'no skill', 'no sound', 'no story', 'no support', 'no surprise', 'no thanks', 'no thing', 'no time', 'no tutorial', 'no use', 'no voice', 'no way', 'no weapons', 'no wonder', 'no words', 'noble', 'nobody', 'nodes', 'noise', 'noises', 'non', 'non existant', 'non existent', 'non pay', 'non paying', 'non premium', 'non steam', 'non stop', 'none', 'nonetheless', 'nonexistent', 'nonsense', 'nonstop', 'noob', 'noobs', 'noone', 'nope', 'nope not', 'nor', 'norm', 'normal', 'normal game', 'normal players', 'normally', 'normally play', 'normally would', 'north', 'north america', 'nose', 'nostalgia', 'nostalgic', 'not able', 'not accept', 'not actually', 'not add', 'not affect', 'not afford', 'not afraid', 'not agree', 'not allow', 'not allowed', 'not already', 'not also', 'not always', 'not amazing', 'not another', 'not anymore', 'not anyone', 'not anything', 'not appear', 'not apply', 'not ask', 'not attack', 'not available', 'not bad', 'not balance', 'not balanced', 'not beat', 'not become', 'not believe', 'not best', 'not better', 'not big', 'not biggest', 'not blame', 'not bother', 'not bothered', 'not bought', 'not bring', 'not build', 'not buy', 'not buying', 'not call', 'not care', 'not case', 'not casual', 'not cause', 'not chance', 'not change', 'not changed', 'not charge', 'not cheap', 'not choose', 'not clear', 'not click', 'not close', 'not clunky', 'not combat', 'not come', 'not communicate', 'not compare', 'not compete', 'not competitive', 'not complain', 'not complaining', 'not complete', 'not completely', 'not complicated', 'not connect', 'not consider', 'not cool', 'not cost', 'not could', 'not count', 'not counting', 'not create', 'not cup', 'not damage', 'not deal', 'not deserve', 'not die', 'not difficult', 'not disappoint', 'not disappointed', 'not done', 'not dota', 'not download', 'not draw', 'not drawing', 'not drop', 'not earn', 'not easy', 'not either', 'not encountered', 'not end', 'not enjoy', 'not enjoyable', 'not enough', 'not entirely', 'not even', 'not ever', 'not every', 'not everyone', 'not everything', 'not exactly', 'not exist', 'not expect', 'not expecting', 'not expensive', 'not experienced', 'not explain', 'not fair', 'not fall', 'not familiar', 'not fan', 'not far', 'not fast', 'not fault', 'not favorite', 'not feature', 'not feel', 'not fight', 'not figure', 'not find', 'not finished', 'not fire', 'not first', 'not fit', 'not fix', 'not fixed', 'not fly', 'not follow', 'not fooled', 'not force', 'not forced', 'not forget', 'not found', 'not free', 'not friendly', 'not full', 'not fully', 'not fun', 'not funny', 'not game', 'not gameplay', 'not games', 'not get', 'not getting', 'not give', 'not given', 'not giving', 'not go', 'not going', 'not gone', 'not gonna', 'not good', 'not got', 'not gotten', 'not graphics', 'not great', 'not greatest', 'not grind', 'not guns', 'not handle', 'not happen', 'not happening', 'not happy', 'not hard', 'not hate', 'not have', 'not hear', 'not help', 'not hesitate', 'not high', 'not hit', 'not hold', 'not honestly', 'not however', 'not huge', 'not hunt', 'not hurt', 'not imagine', 'not implemented', 'not important', 'not impressed', 'not include', 'not including', 'not ing', 'not install', 'not interested', 'not interesting', 'not invest', 'not issue', 'not it', 'not join', 'not judge', 'not keep', 'not kidding', 'not kill', 'not killed', 'not kind', 'not know', 'not knowing', 'not lag', 'not last', 'not least', 'not leave', 'not let', 'not level', 'not lie', 'not life', 'not like', 'not limited', 'not listen', 'not live', 'not load', 'not log', 'not long', 'not look', 'not looking', 'not lose', 'not lot', 'not love', 'not made', 'not major', 'not make', 'not making', 'not many', 'not matter', 'not mean', 'not means', 'not meant', 'not mention', 'not mind', 'not minecraft', 'not miss', 'not mmo', 'not money', 'not move', 'not much', 'not nearly', 'not necessarily', 'not necessary', 'not need', 'not needed', 'not new', 'not nice', 'not no', 'not normal', 'not not', 'not notice', 'not noticed', 'not offer', 'not often', 'not one', 'not open', 'not optimized', 'not option', 'not overly', 'not paid', 'not particularly', 'not pay', 'not paying', 'not pc', 'not people', 'not perfect', 'not pick', 'not plan', 'not play', 'not playable', 'not played', 'not players', 'not playing', 'not point', 'not popular', 'not possible', 'not premium', 'not present', 'not pro', 'not problem', 'not problems', 'not progress', 'not properly', 'not provide', 'not purchase', 'not put', 'not pvp', 'not quit', 'not quite', 'not random', 'not read', 'not ready', 'not real', 'not realise', 'not realistic', 'not realize', 'not really', 'not reason', 'not reccomend', 'not reccommend', 'not recomend', 'not recommend', 'not recommended', 'not recommending', 'not register', 'not regret', 'not released', 'not remember', 'not remove', 'not removed', 'not require', 'not required', 'not respond', 'not review', 'not rewarding', 'not right', 'not run', 'not running', 'not said', 'not say', 'not saying', 'not scared', 'not scary', 'not see', 'not seem', 'not seems', 'not seen', 'not sell', 'not serious', 'not shoot', 'not show', 'not simple', 'not simply', 'not single', 'not sit', 'not skill', 'not smooth', 'not so', 'not something', 'not sound', 'not speak', 'not spend', 'not spending', 'not spent', 'not stand', 'not start', 'not stay', 'not steam', 'not stick', 'not still', 'not stop', 'not stress', 'not suck', 'not suggest', 'not super', 'not support', 'not supposed', 'not sure', 'not surprised', 'not take', 'not taking', 'not talk', 'not talking', 'not team', 'not tell', 'not terrible', 'not terribly', 'not the', 'not thing', 'not think', 'not thousands', 'not time', 'not top', 'not touch', 'not toxic', 'not trade', 'not tried', 'not true', 'not trust', 'not try', 'not trying', 'not turn', 'not type', 'not typical', 'not understand', 'not unless', 'not unlock', 'not upgrade', 'not use', 'not used', 'not user', 'not using', 'not usually', 'not wait', 'not want', 'not waste', 'not way', 'not well', 'not whole', 'not willing', 'not win', 'not without', 'not work', 'not working', 'not worry', 'not worst', 'not worth', 'not would', 'not write', 'not yet', 'not you', 'notable', 'notch', 'note', 'note game', 'note not', 'noted', 'notes', 'nothe', 'nothing', 'nothing bad', 'nothing better', 'nothing changed', 'nothing could', 'nothing else', 'nothing game', 'nothing get', 'nothing good', 'nothing happens', 'nothing left', 'nothing like', 'nothing lose', 'nothing new', 'nothing no', 'nothing not', 'nothing play', 'nothing really', 'nothing special', 'nothing still', 'nothing wrong', 'noticable', 'notice', 'notice not', 'noticeable', 'noticed', 'noticing', 'noting', 'notorious', 'nov', 'novel', 'novelty', 'november', 'novice', 'now', 'now game', 'now not', 'nowadays', 'nowhere', 'nowhere near', 'npc', 'npcs', 'nt', 'nuances', 'nuclear', 'nuff', 'nuff said', 'nuka', 'nuka cola', 'nuke', 'number', 'number cards', 'number one', 'number players', 'numbers', 'numerous', 'nut', 'nuts', 'nutshell', 'nvidia', 'nw', 'object', 'objective', 'objectively', 'objectives', 'objects', 'oblivion', 'obnoxious', 'obscene', 'obscure', 'obsessed', 'obsidian', 'obsolete', 'obstacles', 'obtain', 'obtainable', 'obtained', 'obtaining', 'obvious', 'obviously', 'obviously not', 'occasion', 'occasional', 'occasionally', 'occasions', 'occupied', 'occur', 'occurs', 'ocean', 'october', 'oculus', 'odd', 'oddly', 'odds', 'of', 'of course', 'of game', 'of the', 'ofc', 'ofcourse', 'off', 'offense', 'offensive', 'offer', 'offer not', 'offered', 'offering', 'offers', 'office', 'officer', 'official', 'official forums', 'official release', 'officially', 'offline', 'offline mode', 'often', 'often find', 'often game', 'often get', 'often not', 'often times', 'og', 'oh', 'oh also', 'oh boy', 'oh duel', 'oh game', 'oh games', 'oh god', 'oh man', 'oh mention', 'oh no', 'oh not', 'oh wait', 'oh well', 'oh yeah', 'oil', 'ok', 'ok game', 'ok good', 'ok not', 'okay', 'okay game', 'okay not', 'ol', 'old', 'old days', 'old game', 'old games', 'old man', 'old new', 'old not', 'old one', 'old ones', 'old players', 'old review', 'old robocraft', 'old school', 'old still', 'old system', 'old version', 'older', 'olds', 'omg', 'on', 'on top', 'once', 'one', 'one actually', 'one another', 'one area', 'one battle', 'one best', 'one better', 'one big', 'one biggest', 'one bit', 'one car', 'one card', 'one character', 'one class', 'one could', 'one day', 'one deck', 'one definitely', 'one different', 'one else', 'one enemy', 'one even', 'one ever', 'one example', 'one faction', 'one favorite', 'one favorites', 'one favourite', 'one first', 'one free', 'one friends', 'one fun', 'one game', 'one games', 'one get', 'one gets', 'one go', 'one good', 'one got', 'one greatest', 'one gun', 'one guy', 'one hand', 'one hell', 'one hit', 'one hour', 'one issue', 'one kind', 'one lane', 'one last', 'one level', 'one like', 'one likes', 'one main', 'one major', 'one make', 'one many', 'one map', 'one match', 'one might', 'one much', 'one new', 'one no', 'one not', 'one one', 'one part', 'one people', 'one person', 'one plane', 'one play', 'one played', 'one player', 'one players', 'one playing', 'one point', 'one problem', 'one rare', 'one really', 'one reasons', 'one room', 'one round', 'one second', 'one server', 'one shot', 'one shots', 'one shotted', 'one side', 'one sided', 'one single', 'one small', 'one step', 'one still', 'one team', 'one thing', 'one things', 'one three', 'one tier', 'one time', 'one top', 'one track', 'one try', 'one turn', 'one two', 'one type', 'one unique', 'one update', 'one want', 'one wants', 'one way', 'one weapon', 'one world', 'one worst', 'one would', 'one year', 'ones', 'ones game', 'ones not', 'oneshot', 'ongoing', 'online', 'online battle', 'online card', 'online ccg', 'online game', 'online games', 'online multiplayer', 'online not', 'online play', 'online players', 'online tcg', 'online version', 'only', 'ons', 'onto', 'ontop', 'op', 'op cards', 'op game', 'op weapons', 'open', 'open beta', 'open game', 'open mind', 'open world', 'opened', 'opening', 'opening game', 'openly', 'opens', 'operate', 'operating', 'operation', 'opinion', 'opinion best', 'opinion game', 'opinion not', 'opinions', 'opinon', 'oppinion', 'opponent', 'opponent not', 'opponent turn', 'opponents', 'opponents turn', 'opportunities', 'opportunity', 'opposed', 'opposing', 'opposing team', 'opposite', 'ops', 'optimal', 'optimisation', 'optimised', 'optimization', 'optimization issues', 'optimizations', 'optimize', 'optimized', 'optimized game', 'option', 'option buy', 'option not', 'option play', 'optional', 'options', 'options game', 'options not', 'or', 'orange', 'orbs', 'orchestra', 'order', 'order get', 'order make', 'order play', 'orders', 'ordinary', 'ore', 'ores', 'organised', 'organized', 'orginal', 'oriented', 'origin', 'original', 'original adventure', 'original game', 'original review', 'original world', 'original wot', 'originality', 'originally', 'oryx', 'os', 'ot', 'other', 'others', 'others game', 'others like', 'others may', 'others not', 'others play', 'others said', 'others would', 'otherwise', 'otherwise game', 'otherwise great', 'otherwise not', 'otherwise would', 'out', 'outcome', 'outdated', 'outer', 'outfit', 'outfits', 'outnumbered', 'outplay', 'output', 'outrage', 'outrageous', 'outright', 'outs', 'outside', 'outside steam', 'outstanding', 'outta', 'outweigh', 'over', 'overal', 'overall', 'overall amazing', 'overall experience', 'overall fun', 'overall game', 'overall gameplay', 'overall give', 'overall good', 'overall great', 'overall like', 'overall not', 'overall pretty', 'overall rating', 'overall really', 'overall still', 'overall think', 'overall though', 'overall would', 'overcome', 'overhaul', 'overlay', 'overlook', 'overlooked', 'overly', 'overnight', 'overpower', 'overpowered', 'overpriced', 'overseer', 'overtime', 'overview', 'overwatch', 'overwhelm', 'overwhelmed', 'overwhelming', 'overwhelmingly', 'ow', 'own', 'owned', 'owner', 'owners', 'owning', 'owns', 'pace', 'pace game', 'paced', 'paced action', 'paced game', 'paced gameplay', 'pacing', 'pack', 'pack game', 'pack get', 'pack gives', 'pack not', 'package', 'packages', 'packed', 'packet', 'packs', 'packs also', 'packs cards', 'packs game', 'packs get', 'packs give', 'packs not', 'pad', 'page', 'pages', 'paid', 'paid content', 'paid currency', 'paid game', 'paid money', 'pain', 'pain the', 'painful', 'painfully', 'pains', 'paint', 'pair', 'paired', 'paladin', 'paladins', 'pan', 'panel', 'panic', 'pans', 'pantheons', 'panther', 'pants', 'panzer', 'paper', 'paper scissors', 'par', 'para', 'parachute', 'paragon', 'paragraph', 'paratrooper', 'paratroopers', 'parent', 'parents', 'park', 'parody', 'part', 'part community', 'part game', 'part get', 'part not', 'partially', 'participate', 'participated', 'participating', 'particular', 'particularly', 'parties', 'partly', 'partner', 'parts', 'parts game', 'parts get', 'parts not', 'parts want', 'party', 'party system', 'pass', 'pass game', 'pass time', 'passed', 'passes', 'passing', 'passion', 'passive', 'passive skill', 'passive tree', 'passives', 'password', 'past', 'past first', 'past months', 'past year', 'past years', 'paste', 'pasted', 'patch', 'patch game', 'patch not', 'patch notes', 'patch patch', 'patched', 'patches', 'patches game', 'patches updates', 'patching', 'path', 'path exile', 'pathetic', 'paths', 'patience', 'patient', 'pattern', 'patterns', 'pause', 'pay', 'pay anything', 'pay attention', 'pay cash', 'pay enjoy', 'pay every', 'pay everything', 'pay fun', 'pay game', 'pay get', 'pay items', 'pay lot', 'pay membership', 'pay money', 'pay monthly', 'pay much', 'pay not', 'pay pay', 'pay play', 'pay premium', 'pay progress', 'pay real', 'pay to', 'pay unlock', 'pay wall', 'pay walls', 'pay win', 'payed', 'paying', 'paying anything', 'paying attention', 'paying dime', 'paying game', 'paying money', 'paying not', 'paying players', 'paying real', 'payload', 'payment', 'payment model', 'payments', 'pays', 'paywall', 'paywalls', 'pc', 'pc game', 'pc gamer', 'pc gamers', 'pc games', 'pc gaming', 'pc minimum', 'pc mobile', 'pc not', 'pc play', 'pc port', 'pc run', 'pc version', 'pcs', 'peace', 'peaceful', 'peak', 'pedals', 'peek', 'peeps', 'peice', 'pen', 'penalties', 'penalty', 'penetrate', 'penetration', 'penny', 'penny game', 'people', 'people actually', 'people also', 'people always', 'people around', 'people better', 'people buy', 'people come', 'people community', 'people complain', 'people complaining', 'people could', 'people different', 'people dont', 'people either', 'people enjoy', 'people game', 'people get', 'people getting', 'people give', 'people go', 'people going', 'people got', 'people hate', 'people keep', 'people know', 'people left', 'people level', 'people like', 'people looking', 'people love', 'people made', 'people make', 'people may', 'people might', 'people money', 'people need', 'people never', 'people new', 'people no', 'people not', 'people one', 'people online', 'people paid', 'people pay', 'people people', 'people play', 'people played', 'people playing', 'people put', 'people really', 'people running', 'people said', 'people say', 'people saying', 'people see', 'people seem', 'people spend', 'people spent', 'people start', 'people still', 'people take', 'people talk', 'people think', 'people time', 'people try', 'people trying', 'people use', 'people used', 'people using', 'people want', 'people willing', 'people would', 'peoples', 'per', 'per day', 'per deck', 'per game', 'per hour', 'per match', 'per month', 'per second', 'per turn', 'percent', 'percentage', 'perception', 'perfect', 'perfect example', 'perfect game', 'perfect not', 'perfect world', 'perfection', 'perfectly', 'perfectly balanced', 'perfectly fine', 'perform', 'performance', 'performance issues', 'performance not', 'performed', 'performing', 'performs', 'perhaps', 'period', 'period time', 'periodically', 'periods', 'periods time', 'perk', 'perks', 'perma', 'perma death', 'permadeath', 'permanent', 'permanently', 'permission', 'persistent', 'person', 'person game', 'person moba', 'person not', 'person perspective', 'person shooter', 'person shooters', 'person view', 'personal', 'personal experience', 'personal favorite', 'personal opinion', 'personalities', 'personality', 'personally', 'personally feel', 'personally like', 'personally love', 'personally not', 'personally think', 'personally would', 'personaly', 'perspective', 'pet', 'pets', 'pets mounts', 'phase', 'phases', 'pheasant', 'phenomenal', 'phone', 'phone game', 'phone not', 'phone tablet', 'phones', 'physical', 'physical card', 'physics', 'physics engine', 'pick', 'pick game', 'pick one', 'pick play', 'pick up', 'pickaxe', 'picked', 'picking', 'picks', 'pickup', 'picky', 'picture', 'pictures', 'piece', 'piece crap', 'piece garbage', 'piece of', 'pieces', 'piercing', 'pile', 'pile of', 'piles', 'pilot', 'pilot seat', 'piloting', 'pilots', 'pin', 'ping', 'pings', 'pirate', 'pisses', 'pistol', 'pistols', 'pit', 'pits', 'pitted', 'pity', 'pixel', 'pixelated', 'pixels', 'pl', 'place', 'place game', 'place heart', 'place not', 'place place', 'placed', 'placement', 'places', 'placing', 'plague', 'plagued', 'plain', 'plan', 'plan play', 'plan playing', 'plane', 'plane game', 'plane tank', 'planes', 'planes game', 'planes not', 'planes tanks', 'planet', 'planetside', 'planetside game', 'planetside not', 'planetside one', 'planned', 'planning', 'plans', 'plant', 'plants', 'plasma', 'plate', 'platform', 'platform game', 'platformer', 'platforms', 'platinum', 'platoon', 'platoons', 'play', 'play actual', 'play ai', 'play almost', 'play alone', 'play also', 'play another', 'play anymore', 'play anything', 'play arcade', 'play around', 'play aspect', 'play awesome', 'play bad', 'play battle', 'play best', 'play better', 'play bit', 'play bots', 'play button', 'play cant', 'play card', 'play cards', 'play casual', 'play casually', 'play certain', 'play character', 'play class', 'play community', 'play competitive', 'play computer', 'play could', 'play couple', 'play day', 'play deck', 'play definitely', 'play different', 'play dont', 'play dota', 'play earn', 'play easy', 'play either', 'play enjoy', 'play enough', 'play especially', 'play even', 'play ever', 'play every', 'play experience', 'play far', 'play feel', 'play feels', 'play fine', 'play first', 'play fps', 'play free', 'play friend', 'play friendly', 'play friends', 'play full', 'play fun', 'play game', 'play games', 'play get', 'play getting', 'play give', 'play go', 'play good', 'play great', 'play hearthstone', 'play high', 'play highly', 'play hour', 'play hours', 'play however', 'play ing', 'play instead', 'play it', 'play keep', 'play know', 'play least', 'play level', 'play like', 'play little', 'play long', 'play lot', 'play love', 'play low', 'play magic', 'play make', 'play makes', 'play many', 'play map', 'play match', 'play matches', 'play maybe', 'play minecraft', 'play minutes', 'play mmo', 'play mobile', 'play model', 'play modes', 'play much', 'play multiplayer', 'play need', 'play never', 'play new', 'play no', 'play normal', 'play not', 'play nothing', 'play one', 'play online', 'play option', 'play options', 'play others', 'play overall', 'play part', 'play pay', 'play pc', 'play people', 'play phone', 'play play', 'play played', 'play player', 'play players', 'play point', 'play pretty', 'play probably', 'play pubg', 'play pvp', 'play quite', 'play ranked', 'play real', 'play really', 'play recommend', 'play right', 'play robocraft', 'play russian', 'play say', 'play see', 'play shooter', 'play short', 'play since', 'play single', 'play smite', 'play solo', 'play something', 'play steam', 'play still', 'play story', 'play style', 'play styles', 'play sure', 'play system', 'play tank', 'play tanks', 'play team', 'play tf', 'play the', 'play thing', 'play think', 'play this', 'play though', 'play time', 'play title', 'play together', 'play try', 'play tutorial', 'play understand', 'play unless', 'play version', 'play vs', 'play want', 'play war', 'play way', 'play well', 'play whole', 'play win', 'play with', 'play without', 'play world', 'play wot', 'play would', 'play yes', 'play yet', 'playability', 'playable', 'playable characters', 'playable classes', 'playable without', 'played', 'played almost', 'played alot', 'played aq', 'played aqw', 'played around', 'played back', 'played beta', 'played bit', 'played card', 'played couple', 'played dota', 'played enough', 'played even', 'played every', 'played far', 'played first', 'played free', 'played friends', 'played fun', 'played game', 'played games', 'played good', 'played got', 'played hearthstone', 'played hour', 'played hours', 'played hrs', 'played like', 'played little', 'played long', 'played lot', 'played magic', 'played many', 'played matches', 'played minecraft', 'played minutes', 'played mobile', 'played mtg', 'played much', 'played neverwinter', 'played new', 'played not', 'played one', 'played original', 'played pc', 'played people', 'played played', 'played pretty', 'played pubg', 'played quite', 'played since', 'played smite', 'played steam', 'played time', 'played two', 'played world', 'played would', 'played year', 'played years', 'played yet', 'player', 'player also', 'player base', 'player campaign', 'player community', 'player content', 'player could', 'player count', 'player even', 'player experience', 'player feedback', 'player friendly', 'player game', 'player games', 'player get', 'player gets', 'player like', 'player made', 'player mode', 'player no', 'player not', 'player play', 'player played', 'player playing', 'player skill', 'player team', 'player vs', 'player would', 'playerbase', 'playerbase not', 'players', 'players able', 'players actually', 'players almost', 'players already', 'players also', 'players always', 'players around', 'players bad', 'players battle', 'players bought', 'players choose', 'players community', 'players could', 'players dont', 'players either', 'players enjoy', 'players even', 'players every', 'players find', 'players fun', 'players game', 'players get', 'players go', 'players going', 'players good', 'players got', 'players graphics', 'players help', 'players hours', 'players join', 'players keep', 'players know', 'players learn', 'players left', 'players like', 'players looking', 'players make', 'players may', 'players might', 'players much', 'players must', 'players need', 'players new', 'players no', 'players not', 'players one', 'players online', 'players pay', 'players people', 'players per', 'players play', 'players played', 'players players', 'players playing', 'players pro', 'players quit', 'players really', 'players say', 'players side', 'players since', 'players spend', 'players start', 'players still', 'players take', 'players team', 'players the', 'players think', 'players time', 'players try', 'players use', 'players used', 'players want', 'players well', 'players win', 'players would', 'playful', 'playin', 'playing', 'playing ai', 'playing alone', 'playing another', 'playing anymore', 'playing around', 'playing bit', 'playing card', 'playing couple', 'playing days', 'playing different', 'playing dota', 'playing eternal', 'playing even', 'playing every', 'playing field', 'playing first', 'playing free', 'playing friend', 'playing friends', 'playing fun', 'playing game', 'playing games', 'playing get', 'playing good', 'playing got', 'playing hours', 'playing it', 'playing least', 'playing like', 'playing long', 'playing lot', 'playing many', 'playing matches', 'playing minutes', 'playing mobile', 'playing months', 'playing new', 'playing no', 'playing not', 'playing one', 'playing online', 'playing original', 'playing pc', 'playing people', 'playing phone', 'playing play', 'playing ranked', 'playing realm', 'playing since', 'playing smite', 'playing solo', 'playing something', 'playing steam', 'playing still', 'playing tf', 'playing this', 'playing time', 'playing two', 'playing well', 'playing without', 'playing would', 'playing year', 'playing years', 'plays', 'plays game', 'plays like', 'plays well', 'playstation', 'playstyle', 'playstyles', 'playthrough', 'playtime', 'playtime game', 'pleasant', 'pleasantly', 'pleasantly surprised', 'please', 'please add', 'please bring', 'please dont', 'please fix', 'please give', 'please let', 'please make', 'please not', 'please note', 'please please', 'please read', 'please stop', 'please try', 'pleased', 'pleasing', 'pleasure', 'plentiful', 'plenty', 'plenty free', 'plethora', 'plot', 'pls', 'pls fix', 'plug', 'plus', 'plus free', 'plus game', 'plus not', 'plus side', 'plz', 'pm', 'pocket', 'pockets', 'poe', 'poeple', 'point', 'point blank', 'point click', 'point dont', 'point even', 'point game', 'point get', 'point no', 'point not', 'point playing', 'point really', 'point still', 'point think', 'point time', 'point view', 'point would', 'pointed', 'pointers', 'pointing', 'pointless', 'points', 'points buy', 'points game', 'points get', 'points not', 'poison', 'pokemon', 'policy', 'polish', 'polished', 'polished game', 'polishing', 'polite', 'poof', 'pool', 'poop', 'poor', 'poor optimization', 'poorly', 'poorly balanced', 'poorly designed', 'poorly made', 'poorly optimized', 'pop', 'pop ups', 'popped', 'popping', 'pops', 'popular', 'popular game', 'popularity', 'populated', 'population', 'popup', 'porn', 'port', 'port mobile', 'portal', 'portals', 'ported', 'ported pc', 'portion', 'portion game', 'pos', 'pose', 'position', 'positioning', 'positions', 'positive', 'positive negative', 'positive review', 'positive reviews', 'positively', 'positives', 'possibilities', 'possibility', 'possible', 'possible game', 'possible get', 'possible not', 'possible play', 'possible way', 'possibly', 'possibly one', 'post', 'post war', 'posted', 'posting', 'posts', 'pot', 'potato', 'potato really', 'potential', 'potential fun', 'potential game', 'potential good', 'potential great', 'potential however', 'potential not', 'potential really', 'potentially', 'potion', 'potions', 'pots', 'pound', 'pounds', 'pour', 'pouring', 'power', 'power cards', 'power creep', 'power level', 'power system', 'powered', 'powerful', 'powerful cards', 'powerful weapons', 'powerfull', 'powers', 'ppl', 'ppsh', 'pr', 'practical', 'practically', 'practice', 'practice mode', 'practices', 'practicing', 'praise', 'pray', 'praying', 'pre', 'pre alpha', 'pre made', 'precious', 'precise', 'precisely', 'precision', 'predict', 'predictable', 'prefer', 'prefer play', 'preferably', 'preference', 'preferred', 'preformance', 'premade', 'premise', 'premium', 'premium account', 'premium currency', 'premium get', 'premium membership', 'premium not', 'premium players', 'premium tanks', 'premium time', 'premium users', 'premium vehicle', 'premium vehicles', 'premiums', 'prepare', 'prepared', 'prepared spend', 'presence', 'present', 'presentation', 'presented', 'presents', 'preset', 'press', 'press button', 'press buttons', 'pressed', 'pressing', 'pressure', 'pretend', 'pretty', 'pretty amazing', 'pretty annoying', 'pretty awesome', 'pretty bad', 'pretty balanced', 'pretty basic', 'pretty big', 'pretty boring', 'pretty cool', 'pretty damn', 'pretty decent', 'pretty easy', 'pretty fair', 'pretty fast', 'pretty fun', 'pretty game', 'pretty generous', 'pretty good', 'pretty graphics', 'pretty great', 'pretty hard', 'pretty interesting', 'pretty much', 'pretty neat', 'pretty nice', 'pretty often', 'pretty quick', 'pretty quickly', 'pretty simple', 'pretty solid', 'pretty standard', 'pretty sure', 'pretty well', 'prevalent', 'prevent', 'preventing', 'prevents', 'preview', 'previous', 'previous games', 'previously', 'prey', 'price', 'price free', 'price game', 'price not', 'price pay', 'price quality', 'price tag', 'price wait', 'price would', 'priced', 'prices', 'pricetag', 'pricey', 'pricing', 'pride', 'primarily', 'primary', 'prime', 'principle', 'prior', 'priority', 'privacy', 'private', 'prize', 'prizes', 'pro', 'pro con', 'pro player', 'pro players', 'pro version', 'prob', 'probably', 'probably best', 'probably better', 'probably enjoy', 'probably favorite', 'probably get', 'probably going', 'probably gonna', 'probably good', 'probably like', 'probably never', 'probably not', 'probably one', 'probably still', 'probably worst', 'problem', 'problem game', 'problem no', 'problem not', 'problem people', 'problem would', 'problematic', 'problems', 'problems game', 'problems like', 'problems not', 'problems still', 'procedures', 'proceed', 'proceeded', 'process', 'processes', 'processing', 'processor', 'produce', 'produced', 'producing', 'product', 'product received', 'production', 'products', 'professional', 'professions', 'profile', 'profit', 'program', 'programmed', 'programmers', 'programming', 'programs', 'progress', 'progress faster', 'progress game', 'progress not', 'progress without', 'progressed', 'progresses', 'progressing', 'progression', 'progression game', 'progression system', 'progressively', 'project', 'project cars', 'projectile', 'projectiles', 'projects', 'promise', 'promised', 'promises', 'promising', 'promising game', 'promo', 'promos', 'promote', 'promotes', 'promoting', 'promotion', 'promotional', 'prone', 'proof', 'prop', 'propaganda', 'proper', 'properly', 'properties', 'property', 'prophecies', 'prophecy', 'prophecy card', 'prophecy cards', 'props', 'pros', 'pros cons', 'pros free', 'pros fun', 'pros game', 'pros good', 'pros great', 'pros many', 'protect', 'protected', 'protecting', 'protection', 'protonium', 'protonium crate', 'prototype', 'proud', 'prove', 'proved', 'proven', 'proves', 'provide', 'provided', 'provides', 'providing', 'ps', 'ps game', 'psychology', 'pts', 'ptw', 'pub', 'pubg', 'pubg fortnite', 'pubg game', 'pubg not', 'public', 'published', 'publisher', 'publishers', 'pubs', 'pull', 'pulled', 'pulling', 'pulls', 'pump', 'pumping', 'punch', 'punish', 'punished', 'punishes', 'punishing', 'punishment', 'puppet', 'purchasable', 'purchase', 'purchase anything', 'purchase items', 'purchase premium', 'purchased', 'purchased game', 'purchased real', 'purchases', 'purchases not', 'purchasing', 'pure', 'purely', 'purely cosmetic', 'purple', 'purpose', 'purpose game', 'purposely', 'purposes', 'push', 'pushed', 'pushes', 'pushing', 'put', 'put back', 'put effort', 'put game', 'put games', 'put hours', 'put lot', 'put many', 'put money', 'put much', 'put people', 'put simply', 'put steam', 'put time', 'put together', 'puts', 'putting', 'putting money', 'putting time', 'puzzle', 'puzzles', 'pve', 'pve content', 'pve pvp', 'pve servers', 'pvp', 'pvp fun', 'pvp game', 'pvp games', 'pvp matches', 'pvp not', 'pvp pve', 'pvp system', 'pvping', 'pyro', 'quad', 'quake', 'qualities', 'quality', 'quality game', 'quality life', 'quantity', 'quarter', 'quarters', 'que', 'queen', 'quest', 'quest game', 'quest line', 'quest worlds', 'questing', 'question', 'questionable', 'questions', 'quests', 'quests game', 'quests get', 'quests not', 'queue', 'queue time', 'queue times', 'queues', 'queuing', 'quick', 'quick game', 'quick play', 'quicker', 'quickly', 'quickplay', 'quiet', 'quirks', 'quirky', 'quit', 'quit game', 'quit not', 'quit playing', 'quite', 'quite bit', 'quite boring', 'quite easy', 'quite enjoyable', 'quite fast', 'quite frankly', 'quite fun', 'quite good', 'quite hard', 'quite interesting', 'quite like', 'quite long', 'quite lot', 'quite nice', 'quite often', 'quite simply', 'quite time', 'quite well', 'quiting', 'quits', 'quitting', 'quot', 'quote', 'rabbit', 'rabbits', 'race', 'race game', 'racer', 'raceroom', 'raceroom racing', 'racers', 'races', 'racial', 'racing', 'racing experience', 'racing game', 'racing games', 'racing sim', 'racing sims', 'racing simulator', 'racism', 'racist', 'rack', 'rad', 'radar', 'radiant', 'radio', 'radius', 'radroach', 'radroaches', 'rage', 'rage inducing', 'rage quit', 'ragequit', 'raging', 'raid', 'raider', 'raiders', 'raiding', 'raids', 'rail', 'rails', 'rain', 'rainbow', 'raise', 'raised', 'raising', 'ram', 'rambo', 'ramp', 'rampant', 'ran', 'random', 'random card', 'random cards', 'random drops', 'random loot', 'random number', 'random people', 'random players', 'random stuff', 'randomized', 'randomly', 'randomly generated', 'randomness', 'randoms', 'range', 'range weapons', 'ranged', 'ranger', 'ranges', 'ranging', 'rank', 'rank game', 'ranked', 'ranked draft', 'ranked game', 'ranked games', 'ranked matches', 'ranked mode', 'ranked play', 'ranked system', 'ranking', 'ranking system', 'rankings', 'ranks', 'rant', 'rapid', 'rapidly', 'rare', 'rare cards', 'rare items', 'rare legendary', 'rarely', 'rarely get', 'rarer', 'rares', 'rarest', 'rarity', 'rat', 'rate', 'rate game', 'rated', 'rates', 'rather', 'rather fun', 'rather pay', 'rather play', 'rather quickly', 'rating', 'rating game', 'rating not', 'rating system', 'ratings', 'ratio', 'rats', 'raw', 'ray', 'rb', 'rd', 'rd party', 'rd person', 're', 'reach', 'reach level', 'reach max', 'reach top', 'reached', 'reaches', 'reaching', 'reaching level', 'react', 'reaction', 'reactions', 'reactive', 'read', 'read review', 'read reviews', 'reading', 'reading review', 'reading reviews', 'reads', 'ready', 'real', 'real cash', 'real deal', 'real fun', 'real game', 'real good', 'real life', 'real money', 'real players', 'real problem', 'real quick', 'real reason', 'real review', 'real thing', 'real time', 'real world', 'realise', 'realised', 'realism', 'realistic', 'realistic battles', 'realistic combat', 'realistic flight', 'realistic game', 'realistic hunting', 'realistic not', 'realistic simulator', 'realistically', 'reality', 'realization', 'realize', 'realize game', 'realize not', 'realized', 'realized game', 'realizing', 'really', 'really addictive', 'really amazing', 'really annoying', 'really anything', 'really appreciate', 'really awesome', 'really bad', 'really big', 'really boring', 'really care', 'really close', 'really cool', 'really dont', 'really easy', 'really enjoy', 'really enjoyable', 'really enjoyed', 'really enjoying', 'really excited', 'really expensive', 'really fast', 'really feel', 'really feels', 'really free', 'really frustrating', 'really fun', 'really funny', 'really game', 'really get', 'really gets', 'really give', 'really going', 'really good', 'really got', 'really great', 'really hard', 'really hate', 'really help', 'really helps', 'really high', 'really hope', 'really ing', 'really interesting', 'really issue', 'really know', 'really like', 'really liked', 'really long', 'really looking', 'really love', 'really loved', 'really low', 'really made', 'really make', 'really makes', 'really matter', 'really much', 'really need', 'really needs', 'really nice', 'really no', 'really not', 'really nothing', 'really one', 'really pay', 'really play', 'really played', 'really put', 'really quite', 'really really', 'really recommend', 'really sad', 'really say', 'really see', 'really shines', 'really short', 'really simple', 'really slow', 'really something', 'really stupid', 'really sucks', 'really sure', 'really think', 'really tried', 'really try', 'really unbalanced', 'really understand', 'really want', 'really wanted', 'really well', 'really wish', 'really worth', 'really would', 'realm', 'realm grinder', 'realm mad', 'realm royale', 'realms', 'realy', 'rear', 'reason', 'reason game', 'reason get', 'reason keep', 'reason no', 'reason not', 'reason people', 'reason play', 'reason still', 'reason would', 'reasonable', 'reasonably', 'reasoning', 'reasons', 'reasons not', 'reasons play', 'reassemble', 'rebalance', 'rebalancing', 'rebind', 'reboot', 'reborn', 'rebuild', 'recall', 'reccomend', 'reccomend anyone', 'reccomend game', 'reccomended', 'reccommend', 'reccommend game', 'receive', 'received', 'received freeearly', 'received freei', 'received freethis', 'receiving', 'recent', 'recent changes', 'recent patch', 'recent reviews', 'recent update', 'recent updates', 'recently', 'recently added', 'recently got', 'recently released', 'recieve', 'recieved', 'recieving', 'recipe', 'recipes', 'recognition', 'recognize', 'recoil', 'recomend', 'recomend anyone', 'recomend game', 'recomended', 'recomending', 'recommand', 'recommed', 'recommend', 'recommend anybody', 'recommend anyone', 'recommend buying', 'recommend even', 'recommend everyone', 'recommend free', 'recommend friends', 'recommend game', 'recommend getting', 'recommend give', 'recommend giving', 'recommend it', 'recommend like', 'recommend new', 'recommend not', 'recommend one', 'recommend others', 'recommend people', 'recommend play', 'recommend playing', 'recommend try', 'recommend trying', 'recommend unless', 'recommend want', 'recommendation', 'recommended', 'recommended game', 'recommended play', 'recommending', 'recommending game', 'recomment', 'recon', 'reconnect', 'record', 'recorded', 'records', 'recover', 'recovery', 'recruit', 'recycle', 'recycled', 'recycling', 'red', 'red orchestra', 'reddit', 'reddit com', 'redeem', 'redeeming', 'rediculous', 'rediculously', 'redo', 'redownload', 'redraw', 'reduce', 'reduced', 'reduces', 'reducing', 'reduction', 'redundant', 'refer', 'reference', 'references', 'referred', 'referring', 'refill', 'refined', 'refinement', 'refining', 'reflect', 'reflection', 'reflects', 'refresh', 'refreshing', 'refund', 'refund can', 'refund game', 'refunded', 'refunding', 'refunds', 'refuse', 'refused', 'refuses', 'reg', 'regard', 'regarding', 'regardless', 'regards', 'regen', 'regenerate', 'regeneration', 'region', 'regions', 'register', 'registered', 'registering', 'registration', 'registry', 'regret', 'regular', 'regular basis', 'regular updates', 'regularly', 'regulary', 'reinstall', 'reinstalled', 'rejoin', 'rekt', 'relate', 'related', 'relationship', 'relative', 'relatively', 'relatively easy', 'relax', 'relaxed', 'relaxing', 'release', 'release game', 'release new', 'release not', 'release still', 'released', 'released game', 'released steam', 'releases', 'releasing', 'releasing new', 'relevant', 'reliable', 'reliably', 'relief', 'relies', 'relive', 'reload', 'reloading', 'rely', 'relying', 'remain', 'remained', 'remaining', 'remains', 'remake', 'remeber', 'remember', 'remember game', 'remember not', 'remember one', 'remember playing', 'remembered', 'remembering', 'remind', 'reminded', 'reminder', 'reminds', 'reminds lot', 'reminiscent', 'remotely', 'removal', 'removal tiers', 'remove', 'removed', 'removed game', 'removes', 'removing', 'rename', 'render', 'rendered', 'rendering', 'renew', 'rent', 'rep', 'repair', 'repair cost', 'repair costs', 'repaired', 'repairing', 'repairs', 'repeat', 'repeated', 'repeatedly', 'repeating', 'repeats', 'repetative', 'repetetive', 'repetition', 'repetitive', 'repetitive boring', 'replace', 'replaced', 'replacement', 'replacing', 'replay', 'replay value', 'replayability', 'replays', 'reply', 'report', 'report system', 'reported', 'reporting', 'reports', 'represent', 'representation', 'represented', 'republic', 'reputation', 'request', 'requested', 'requests', 'require', 'required', 'required play', 'requirement', 'requirements', 'requirements not', 'requires', 'requires lot', 'requires skill', 'requiring', 'requirments', 'requirments pc', 'reroll', 'res', 'research', 'research points', 'researched', 'researching', 'resemble', 'resembles', 'reserve', 'reserves', 'reset', 'resets', 'resident', 'resident evil', 'resist', 'reskin', 'resolution', 'resolve', 'resolved', 'resort', 'resource', 'resource cards', 'resource management', 'resource system', 'resources', 'respawn', 'respawning', 'respawns', 'respect', 'respectful', 'respective', 'respond', 'responded', 'responding', 'response', 'responses', 'responsible', 'responsive', 'rest', 'rest game', 'rest life', 'restart', 'restart game', 'restarted', 'restarting', 'restore', 'restrict', 'restricted', 'restriction', 'restrictions', 'result', 'resulted', 'resulting', 'results', 'resume', 'retaining', 'retard', 'rethink', 'reto', 'reto moto', 'retro', 'retry', 'return', 'returned', 'returning', 'returns', 'revamp', 'revamped', 'reveal', 'revealed', 'reveiw', 'revenge', 'revenue', 'reverse', 'revert', 'review', 'review first', 'review game', 'review helpful', 'review hours', 'review like', 'review negative', 'review not', 'review people', 'review played', 'review positive', 'review say', 'review since', 'review still', 'review the', 'review time', 'review want', 'review would', 'review written', 'reviewa', 'reviewa great', 'reviewabsolutely', 'reviewafter', 'reviewafter playing', 'reviewall', 'reviewalright', 'reviewalthough', 'reviewamazing', 'reviewamazing game', 'reviewan', 'reviewas', 'reviewat', 'reviewat first', 'reviewawesome', 'reviewawesome game', 'reviewbeen', 'reviewbefore', 'reviewbest', 'reviewbetter', 'reviewbless', 'reviewbrawlhalla', 'reviewcan', 'reviewcan not', 'reviewdecent', 'reviewdo', 'reviewdo not', 'reviewdont', 'reviewearly', 'reviewed', 'reviewedit', 'reviewer', 'reviewers', 'revieweternal', 'revieweven', 'reviewfirst', 'reviewfirst game', 'reviewfor', 'reviewfractured', 'reviewfractured space', 'reviewfun', 'reviewfun game', 'reviewgame', 'reviewgood', 'reviewgood game', 'reviewgreat', 'reviewgreat game', 'reviewhave', 'reviewhaving', 'reviewhello', 'reviewhey', 'reviewhi', 'reviewhonestly', 'reviewhow', 'reviewi', 'reviewi dont', 'reviewi got', 'reviewi know', 'reviewi like', 'reviewi love', 'reviewi never', 'reviewi not', 'reviewi played', 'reviewi playing', 'reviewi really', 'reviewi recommend', 'reviewi started', 'reviewi think', 'reviewi tried', 'reviewi used', 'reviewi want', 'reviewi would', 'reviewif', 'reviewif like', 'reviewif looking', 'reviewim', 'reviewin', 'reviewing', 'reviewis', 'reviewit', 'reviewit fun', 'reviewit good', 'reviewit like', 'reviewit not', 'reviewits', 'reviewive', 'reviewjust', 'reviewlet', 'reviewlike', 'reviewlove', 'reviewlove game', 'reviewmy', 'reviewnice', 'reviewno', 'reviewnot', 'reviewoh', 'reviewok', 'reviewokay', 'reviewone', 'reviewone best', 'reviewonly', 'reviewoverall', 'reviewplayed', 'reviewplease', 'reviewpretty', 'reviewpros', 'reviewreally', 'reviewreally fun', 'reviewreally good', 'reviewrealm', 'reviewring', 'reviewrobocraft', 'reviews', 'reviews game', 'reviews not', 'reviews people', 'reviews say', 'reviews saying', 'reviews see', 'reviews steam', 'reviewso', 'reviewso far', 'reviewthe', 'reviewthe game', 'reviewthe new', 'reviewthere', 'reviewthey', 'reviewthis', 'reviewthis game', 'reviewthis good', 'reviewthis great', 'reviewthis one', 'reviewtl', 'reviewtl dr', 'reviewto', 'reviewused', 'reviewvery', 'reviewvery fun', 'reviewvery good', 'reviewwarmode', 'reviewwas', 'reviewwell', 'reviewwhat', 'reviewwhen', 'reviewwhile', 'reviewwhy', 'reviewwith', 'reviewwow', 'reviewyou', 'revisit', 'revive', 'revived', 'revolutionary', 'revolve', 'revolve around', 'revolver', 'revolves', 'revolves around', 'reward', 'reward system', 'rewarded', 'rewarding', 'rewarding game', 'rewards', 'rewards get', 'rewards not', 'rework', 'reworked', 'rez', 'rez not', 'rez studios', 'rfactor', 'ribbon', 'ribbons', 'rich', 'rid', 'riddled', 'ride', 'ridiculous', 'ridiculous amount', 'ridiculously', 'riding', 'rifle', 'rifles', 'rift', 'rig', 'rigged', 'right', 'right away', 'right back', 'right bat', 'right cards', 'right click', 'right could', 'right direction', 'right front', 'right game', 'right get', 'right next', 'right no', 'right not', 'right now', 'right one', 'right people', 'right place', 'right play', 'right really', 'right start', 'right time', 'right want', 'right way', 'right well', 'right would', 'right wrong', 'rights', 'rigs', 'ring', 'ring elysium', 'rings', 'rinse', 'rinse repeat', 'riot', 'rip', 'rip off', 'ripoff', 'ripped', 'ripping', 'rise', 'rising', 'risk', 'rival', 'rivals', 'river', 'rl', 'rly', 'rng', 'rng based', 'rng game', 'rng loot', 'rng not', 'road', 'roads', 'roam', 'roaming', 'robits', 'roblox', 'robo', 'robocraft', 'robocraft game', 'robocraft great', 'robocraft not', 'robot', 'robots', 'robust', 'rock', 'rock paper', 'rocket', 'rocket launcher', 'rocket launchers', 'rockets', 'rocks', 'rocky', 'roe', 'rogue', 'role', 'role playing', 'roleplaying', 'roles', 'roll', 'rolled', 'rolling', 'rolls', 'roof', 'rookie', 'room', 'room improvement', 'room room', 'rooms', 'ropes', 'rose', 'roster', 'rotate', 'rotating', 'rotation', 'rotmg', 'rough', 'rough around', 'roughly', 'roughly hours', 'round', 'rounded', 'rounds', 'route', 'routine', 'row', 'royal', 'royal game', 'royal games', 'royale', 'royale game', 'royale games', 'royale genre', 'royales', 'rp', 'rpg', 'rpg elements', 'rpg game', 'rpg games', 'rpgs', 'rr', 'rts', 'ru', 'rubber', 'rubber banding', 'rubberbanding', 'rubbish', 'rudder', 'rude', 'ruin', 'ruin experience', 'ruin game', 'ruined', 'ruined game', 'ruined life', 'ruining', 'ruining game', 'ruins', 'ruins game', 'rule', 'rules', 'rumors', 'run', 'run around', 'run away', 'run fps', 'run game', 'run like', 'run not', 'run potato', 'run run', 'run smoothly', 'run well', 'rune', 'rune system', 'runes', 'runescape', 'running', 'running around', 'running away', 'running background', 'running game', 'running not', 'runs', 'runs better', 'runs fine', 'runs fps', 'runs great', 'runs like', 'runs poorly', 'runs smooth', 'runs smoothly', 'runs well', 'rush', 'rushed', 'rushing', 'russia', 'russian', 'russian bias', 'russian game', 'russian planes', 'russian players', 'russian tank', 'russian tanks', 'russian vehicles', 'russians', 'rust', 'rusted', 'rusty', 'sa', 'sacrifice', 'sad', 'sad game', 'sad say', 'sad see', 'sad thing', 'sadly', 'sadly game', 'sadly not', 'safe', 'safe say', 'safely', 'safely say', 'safety', 'said', 'said earlier', 'said game', 'said like', 'said no', 'said not', 'said something', 'said still', 'said would', 'sake', 'sakura', 'sakura clicker', 'sale', 'sale average', 'sales', 'salt', 'salty', 'sam', 'same', 'sand', 'sandbox', 'sandbox game', 'sanity', 'sat', 'satan', 'satisfaction', 'satisfied', 'satisfy', 'satisfying', 'save', 'save file', 'save game', 'save money', 'save time', 'saved', 'saves', 'saving', 'savings', 'saw', 'saw game', 'saw steam', 'say', 'say anything', 'say bad', 'say best', 'say better', 'say eternal', 'say first', 'say free', 'say fun', 'say game', 'say get', 'say give', 'say good', 'say goodbye', 'say great', 'say hours', 'say im', 'say it', 'say least', 'say like', 'say love', 'say much', 'say never', 'say new', 'say no', 'say not', 'say oh', 'say one', 'say pay', 'say play', 'say played', 'say pretty', 'say really', 'say recommend', 'say something', 'say still', 'say try', 'say want', 'say well', 'say worth', 'say would', 'say yes', 'saying', 'saying game', 'saying not', 'saying something', 'says', 'says free', 'sc', 'scale', 'scale battles', 'scaled', 'scales', 'scaling', 'scam', 'scammed', 'scammers', 'scan', 'scarce', 'scare', 'scared', 'scares', 'scarier', 'scariest', 'scary', 'scary game', 'scattered', 'scenario', 'scenarios', 'scene', 'scenery', 'scenes', 'scent', 'scheme', 'school', 'school dragons', 'sci', 'sci fi', 'science', 'scissors', 'scope', 'scoped', 'scopes', 'score', 'scoreboard', 'scores', 'scoring', 'scout', 'scrap', 'scrapped', 'scratch', 'scratched', 'scratches', 'scream', 'screaming', 'screams', 'screen', 'screen game', 'screen no', 'screen not', 'screens', 'screenshot', 'screenshots', 'screw', 'screw flood', 'screwed', 'screwed game', 'screwing', 'screws', 'script', 'scripted', 'scroll', 'scroller', 'scrolling', 'scrolls', 'scrolls game', 'scrolls legends', 'scrolls online', 'scrolls series', 'scrolls universe', 'scrub', 'scum', 'se', 'sea', 'seal', 'seal clubbing', 'sealed', 'search', 'searched', 'searching', 'season', 'seasonal', 'seasonal events', 'seasoned', 'seasons', 'seat', 'seats', 'sec', 'second', 'second game', 'second life', 'second not', 'second thing', 'second time', 'secondary', 'secondly', 'seconds', 'seconds get', 'seconds later', 'secret', 'secrets', 'secs', 'section', 'sections', 'sector', 'sectors', 'secure', 'security', 'see', 'see anything', 'see bad', 'see could', 'see developers', 'see different', 'see enemy', 'see even', 'see everything', 'see far', 'see first', 'see fun', 'see future', 'see game', 'see games', 'see get', 'see goes', 'see going', 'see good', 'see great', 'see happens', 'see like', 'see lot', 'see many', 'see much', 'see new', 'see next', 'see no', 'see not', 'see one', 'see others', 'see people', 'see play', 'see players', 'see playing', 'see point', 'see potential', 'see really', 'see reason', 'see someone', 'see something', 'see things', 'see think', 'see would', 'seed', 'seeds', 'seeing', 'seeing game', 'seek', 'seeking', 'seem', 'seem bit', 'seem care', 'seem get', 'seem like', 'seemed', 'seemed like', 'seemingly', 'seems', 'seems bit', 'seems fair', 'seems good', 'seems like', 'seems lot', 'seems not', 'seems pretty', 'seems really', 'seen', 'seen far', 'seen game', 'seen lot', 'seen many', 'seen no', 'seen one', 'seen people', 'sees', 'select', 'selected', 'selecting', 'selection', 'selections', 'self', 'self esteem', 'sell', 'sell items', 'selling', 'selling point', 'sells', 'semi', 'semi auto', 'semi automatic', 'send', 'send dwellers', 'send people', 'sending', 'sends', 'sense', 'sense accomplishment', 'sense game', 'sense not', 'sense progression', 'sensitivity', 'sent', 'sentence', 'sentry', 'separate', 'seperate', 'september', 'sequel', 'series', 'serious', 'seriously', 'seriously game', 'seriously not', 'seriously though', 'seriousness', 'seriousness game', 'serve', 'server', 'server game', 'server get', 'server issues', 'server lag', 'server not', 'server play', 'server stability', 'servers', 'servers game', 'servers no', 'servers not', 'servers would', 'serves', 'service', 'services', 'session', 'sessions', 'set', 'set cards', 'set game', 'set not', 'sets', 'setting', 'settings', 'settings game', 'settings not', 'settle', 'setup', 'setups', 'seven', 'sever', 'several', 'several different', 'several hours', 'several hundred', 'several months', 'several times', 'several years', 'severe', 'severely', 'sex', 'sexy', 'sh', 'shadow', 'shadows', 'shadowverse', 'shady', 'shake', 'shall', 'shallow', 'shame', 'shame game', 'shame really', 'shameful', 'shameless', 'shape', 'shaped', 'shapes', 'shards', 'share', 'shared', 'sharedfiles', 'sharedfiles filedetails', 'shares', 'sharing', 'shark', 'sharp', 'she', 'sheep', 'sheer', 'sheer amount', 'sheet', 'shell', 'shell money', 'shelling', 'shells', 'shelter', 'sherman', 'shield', 'shields', 'shift', 'shifting', 'shine', 'shines', 'shiny', 'shiny new', 'ship', 'ship classes', 'ship combat', 'ship not', 'ships', 'ships different', 'ships feel', 'ships game', 'ships like', 'ships look', 'ships not', 'ships well', 'shity', 'shock', 'shocked', 'shoddy', 'shoes', 'shoot', 'shoot people', 'shoot someone', 'shooter', 'shooter game', 'shooter games', 'shooter like', 'shooter not', 'shooters', 'shooting', 'shooting mechanics', 'shooting people', 'shooting range', 'shooting ranges', 'shoots', 'shop', 'shop currency', 'shop game', 'shop items', 'shop not', 'shopping', 'shops', 'short', 'short amount', 'short bursts', 'short game', 'short hours', 'short period', 'short review', 'short term', 'short time', 'short version', 'shortcut', 'shorter', 'shortly', 'shot', 'shot free', 'shot kill', 'shot not', 'shotgun', 'shotguns', 'shots', 'shotted', 'shotting', 'should', 'shoulder', 'shouldnt', 'shout', 'shove', 'shoved', 'shovel', 'shoving', 'show', 'show not', 'showed', 'showing', 'shown', 'shows', 'shrinking', 'shuffle', 'shuffling', 'shut', 'shutting', 'si', 'sick', 'side', 'side game', 'side map', 'side not', 'side note', 'side quests', 'side scroller', 'side scrolling', 'sided', 'sides', 'siege', 'sigh', 'sight', 'sights', 'sigil', 'sigils', 'sign', 'signature', 'significant', 'significant amount', 'significantly', 'signing', 'signs', 'silence', 'silent', 'silly', 'silver', 'silver gold', 'silver lions', 'sim', 'sim ever', 'sim not', 'sim racing', 'simbin', 'similar', 'similar game', 'similar games', 'similar hearthstone', 'similar magic', 'similar minecraft', 'similar mtg', 'similarities', 'similarly', 'similiar', 'simmer', 'simple', 'simple easy', 'simple fact', 'simple fun', 'simple game', 'simple not', 'simple yet', 'simpler', 'simplicity', 'simplified', 'simplistic', 'simply', 'simply amazing', 'simply not', 'simply playing', 'simply put', 'sims', 'simulate', 'simulation', 'simulation game', 'simulations', 'simulator', 'simulator ever', 'simulator game', 'simulator not', 'simulators', 'simultaneously', 'sin', 'since', 'since alpha', 'since beginning', 'since beta', 'since came', 'since closed', 'since day', 'since days', 'since first', 'since free', 'since game', 'since get', 'since got', 'since last', 'since launch', 'since like', 'since many', 'since never', 'since new', 'since no', 'since not', 'since one', 'since open', 'since played', 'since release', 'since released', 'since start', 'since started', 'since still', 'since update', 'since years', 'sincerely', 'single', 'single cent', 'single day', 'single game', 'single gun', 'single item', 'single match', 'single one', 'single patch', 'single penny', 'single person', 'single player', 'single shot', 'single tank', 'single thing', 'single time', 'single weapon', 'singleplayer', 'sink', 'sinking', 'sir', 'sister', 'sit', 'sit around', 'sit back', 'sit play', 'site', 'sites', 'sits', 'sitting', 'situation', 'situational', 'situations', 'six', 'six months', 'size', 'sized', 'sizes', 'skeleton', 'skeletons', 'skeptical', 'sketchy', 'ski', 'skies', 'skill', 'skill based', 'skill cap', 'skill ceiling', 'skill game', 'skill gem', 'skill gems', 'skill level', 'skill levels', 'skill not', 'skill play', 'skill points', 'skill required', 'skill slot', 'skill slots', 'skill system', 'skill tree', 'skill trees', 'skilled', 'skilled players', 'skillful', 'skills', 'skills game', 'skills not', 'skin', 'skins', 'skins game', 'skins not', 'skins weapons', 'skip', 'skip game', 'skipped', 'skipping', 'skirmish', 'skirmishes', 'sky', 'skyrim', 'sl', 'slam', 'slap', 'slapped', 'slash', 'slaughter', 'slay', 'sleep', 'slick', 'slide', 'slider', 'slight', 'slightest', 'slightly', 'slightly better', 'slightly different', 'slightly less', 'slim', 'slime', 'slip', 'slippers', 'slippery', 'slog', 'slope', 'sloppy', 'slot', 'slots', 'slow', 'slow game', 'slow grind', 'slow motion', 'slow not', 'slow paced', 'slowed', 'slower', 'slowest', 'slowing', 'slowly', 'slows', 'slug', 'sluggish', 'smack', 'small', 'small amount', 'small maps', 'small player', 'small size', 'small things', 'smaller', 'smallest', 'smart', 'smartphone', 'smash', 'smash bros', 'smash brothers', 'smashed', 'smashing', 'smell', 'smg', 'smgs', 'smile', 'smite', 'smite game', 'smite not', 'smoke', 'smooth', 'smooth game', 'smooth gameplay', 'smoother', 'smoothly', 'smurf', 'smurfs', 'snail', 'snap', 'sneak', 'sneaking', 'sneaky', 'snipe', 'sniped', 'sniper', 'sniper rifle', 'sniper rifles', 'snipers', 'sniping', 'snow', 'snowboard', 'snowboarding', 'snowboards', 'so', 'so far', 'so game', 'so much', 'so not', 'so yeah', 'social', 'social life', 'sockets', 'soe', 'soft', 'software', 'sold', 'soldier', 'soldiers', 'sole', 'solely', 'solid', 'solid game', 'solid gameplay', 'solo', 'solo arena', 'solo duo', 'solo mode', 'solo play', 'solution', 'solutions', 'solve', 'solved', 'solving', 'some', 'somebody', 'someday', 'somehow', 'somehow managed', 'someone', 'someone else', 'someone like', 'someone not', 'someone played', 'someone playing', 'someones', 'something', 'something better', 'something could', 'something different', 'something else', 'something enjoy', 'something everyone', 'something game', 'something get', 'something going', 'something good', 'something great', 'something like', 'something make', 'something new', 'something not', 'something play', 'something really', 'something similar', 'something simple', 'something unique', 'something want', 'something worth', 'something would', 'something wrong', 'somethings', 'sometime', 'sometimes', 'sometimes even', 'sometimes frustrating', 'sometimes game', 'sometimes get', 'sometimes not', 'somewhat', 'somewhat fun', 'somewhere', 'somewhere else', 'somthing', 'son', 'song', 'soo', 'soon', 'soon enough', 'sooner', 'sooo', 'soooo', 'sooooo', 'sore', 'sorely', 'sorry', 'sorry bad', 'sorry not', 'sorry say', 'sort', 'sort game', 'sort like', 'sort thing', 'sorta', 'sorted', 'sorts', 'soul', 'soul gems', 'souls', 'souls game', 'sound', 'sound design', 'sound effects', 'sound good', 'sound great', 'sound like', 'sounded', 'sounds', 'sounds game', 'sounds good', 'sounds great', 'sounds like', 'soundtrack', 'source', 'sources', 'south', 'soviet', 'soviet union', 'soviets', 'sp', 'spa', 'space', 'space battle', 'space battles', 'space combat', 'space game', 'space games', 'space like', 'space moba', 'space not', 'space ship', 'space ships', 'space shooter', 'spaces', 'spaceship', 'spaceships', 'spam', 'spammed', 'spammer', 'spammers', 'spamming', 'span', 'spanish', 'spare', 'spare money', 'spare time', 'spark', 'spawn', 'spawn camp', 'spawn camped', 'spawn camping', 'spawn get', 'spawn killed', 'spawn killing', 'spawn point', 'spawn points', 'spawn protection', 'spawncamping', 'spawned', 'spawning', 'spawns', 'speak', 'speak english', 'speaking', 'speaks', 'spear', 'spec', 'special', 'special abilities', 'special events', 'special items', 'special place', 'special rules', 'special stats', 'specialized', 'specially', 'specials', 'species', 'specific', 'specifically', 'specimen', 'specimens', 'specs', 'spectacular', 'speed', 'speed things', 'speeding', 'speedrun', 'speeds', 'spell', 'spell cards', 'spell trap', 'spelling', 'spells', 'spells traps', 'spend', 'spend bucks', 'spend cash', 'spend dime', 'spend game', 'spend hours', 'spend hundreds', 'spend little', 'spend lot', 'spend lots', 'spend minutes', 'spend money', 'spend much', 'spend real', 'spend single', 'spend time', 'spending', 'spending cash', 'spending dime', 'spending hours', 'spending money', 'spending real', 'spending time', 'spends', 'spent', 'spent almost', 'spent dollars', 'spent game', 'spent hour', 'spent hours', 'spent lot', 'spent many', 'spent minutes', 'spent money', 'spent much', 'spent penny', 'spent playing', 'spent real', 'spent time', 'spice', 'spider', 'spies', 'spike', 'spikes', 'spin', 'spinning', 'spiral', 'spirit', 'spiritual', 'spiritual successor', 'spit', 'spite', 'spitfire', 'splash', 'splash screen', 'split', 'spoil', 'spoiled', 'spoiler', 'spoilers', 'spoken', 'spooked', 'spooky', 'spooky house', 'sport', 'sports', 'spot', 'spots', 'spotted', 'spotting', 'spray', 'spread', 'springs', 'sprint', 'sprinting', 'spy', 'spyware', 'squad', 'squads', 'square', 'squeeze', 'squishy', 'sr', 'srsly', 'ss', 'ssb', 'ssd', 'st', 'st person', 'stab', 'stability', 'stable', 'stack', 'stacked', 'stacking', 'stacks', 'staff', 'stage', 'stage game', 'stages', 'stages game', 'stairs', 'stale', 'stalking', 'stall', 'stamina', 'stamina system', 'stance', 'stances', 'stand', 'stand alone', 'stand chance', 'standalone', 'standard', 'standards', 'standing', 'standpoint', 'stands', 'star', 'star conflict', 'star trek', 'star wars', 'stare', 'staring', 'stars', 'start', 'start game', 'start get', 'start getting', 'start good', 'start losing', 'start match', 'start new', 'start not', 'start play', 'start playing', 'start really', 'start saying', 'started', 'started game', 'started getting', 'started great', 'started play', 'started playing', 'starter', 'starter decks', 'starter pack', 'starter ships', 'starter weapons', 'starters', 'starting', 'starting area', 'starting game', 'starting get', 'starting hand', 'starting weapons', 'starts', 'startup', 'starve', 'stash', 'stash tabs', 'stat', 'state', 'state game', 'state not', 'state would', 'stated', 'statement', 'states', 'static', 'stating', 'station', 'station cash', 'stations', 'statistics', 'stats', 'stats not', 'status', 'stay', 'stay alive', 'stay away', 'stayed', 'staying', 'stays', 'steadily', 'steady', 'steal', 'stealing', 'stealth', 'steam', 'steam account', 'steam achievements', 'steam client', 'steam community', 'steam forums', 'steam free', 'steam game', 'steam games', 'steam get', 'steam hours', 'steam library', 'steam like', 'steam market', 'steam no', 'steam not', 'steam one', 'steam play', 'steam played', 'steam release', 'steam say', 'steam says', 'steam still', 'steam store', 'steam version', 'steam wallet', 'steam workshop', 'steam would', 'steamcommunity', 'steamcommunity com', 'steaming', 'steel', 'steep', 'steep learning', 'steer', 'steering', 'steering wheel', 'stellar', 'step', 'step forward', 'step right', 'stepping', 'steps', 'steps back', 'stick', 'stick around', 'stick game', 'sticking', 'sticks', 'sticky', 'stiff', 'stil', 'still', 'still able', 'still alive', 'still alpha', 'still amazing', 'still bad', 'still best', 'still beta', 'still better', 'still broken', 'still bugs', 'still cant', 'still could', 'still decent', 'still development', 'still enjoy', 'still enjoyable', 'still even', 'still feel', 'still feels', 'still find', 'still free', 'still fun', 'still game', 'still get', 'still getting', 'still give', 'still go', 'still going', 'still good', 'still got', 'still great', 'still hope', 'still learning', 'still like', 'still looks', 'still lot', 'still love', 'still many', 'still much', 'still need', 'still needs', 'still new', 'still no', 'still not', 'still nothing', 'still one', 'still pay', 'still play', 'still playable', 'still playing', 'still possible', 'still pretty', 'still quite', 'still reading', 'still really', 'still recommend', 'still remember', 'still stands', 'still sucks', 'still takes', 'still think', 'still trying', 'still use', 'still want', 'still win', 'still work', 'still working', 'still worth', 'still would', 'stimpacks', 'stock', 'stole', 'stolen', 'stomach', 'stomp', 'stomped', 'stomping', 'stone', 'stones', 'stood', 'stop', 'stop playing', 'stoped', 'stoped playing', 'stopped', 'stopped playing', 'stopping', 'stops', 'storage', 'storage space', 'store', 'store buy', 'store game', 'store not', 'store page', 'stored', 'stories', 'storm', 'story', 'story game', 'story go', 'story line', 'story mode', 'story not', 'story quests', 'story short', 'story story', 'storyline', 'storylines', 'strafe', 'strafing', 'straight', 'straight away', 'straight forward', 'straightforward', 'strange', 'strangely', 'stranger', 'strangers', 'strategic', 'strategic depth', 'strategies', 'strategize', 'strategy', 'strategy card', 'strategy game', 'strategy games', 'strats', 'straw', 'streak', 'streaks', 'stream', 'streamer', 'streamers', 'streaming', 'streamlined', 'streams', 'street', 'streets', 'strength', 'strengths', 'strengths weaknesses', 'stress', 'stress enough', 'stressful', 'stretch', 'strict', 'strictly', 'strike', 'strikes', 'strip', 'stripped', 'strive', 'strong', 'strong enough', 'stronger', 'strongest', 'strongly', 'strongly recommend', 'strongly suggest', 'struck', 'structure', 'structures', 'struggle', 'struggled', 'struggles', 'struggling', 'stuck', 'stuck loading', 'studio', 'studios', 'study', 'stuff', 'stuff also', 'stuff buy', 'stuff even', 'stuff game', 'stuff get', 'stuff like', 'stuff need', 'stuff no', 'stuff not', 'stuff play', 'stuff really', 'stuff want', 'stuff without', 'stuff would', 'stuffs', 'stumbled', 'stun', 'stunned', 'stunning', 'stunning graphics', 'stupid', 'stupid game', 'stupidly', 'stutter', 'stuttering', 'stutters', 'style', 'style game', 'style gameplay', 'style games', 'style like', 'style not', 'style play', 'styled', 'styles', 'su', 'sub', 'sub par', 'subject', 'subject change', 'subjective', 'submachine', 'submachine gun', 'submit', 'subpar', 'subreddit', 'subscribe', 'subscription', 'subscriptions', 'substitute', 'subtle', 'succeed', 'success', 'successful', 'successfully', 'successor', 'successor diablo', 'such', 'suck', 'suck game', 'suck not', 'sucked', 'sucking', 'sucks', 'sucks not', 'sudden', 'suddenly', 'suffer', 'suffered', 'suffering', 'suffers', 'sufficient', 'suggest', 'suggest anyone', 'suggest game', 'suggest not', 'suggest playing', 'suggested', 'suggestion', 'suggestions', 'suggests', 'suicidal', 'suicide', 'suit', 'suitable', 'suited', 'suits', 'sum', 'summarize', 'summary', 'summary game', 'summer', 'summon', 'summoning', 'summons', 'sums', 'sun', 'sunk', 'super', 'super easy', 'super fun', 'super rare', 'super smash', 'super smooth', 'superb', 'superior', 'superiority', 'supplies', 'supply', 'support', 'support company', 'support developers', 'support devs', 'support game', 'support gems', 'support not', 'support team', 'support ticket', 'supported', 'supported game', 'supporter', 'supporters', 'supporting', 'supporting game', 'supportive', 'supports', 'suppose', 'supposed', 'supposedly', 'suprise', 'suprised', 'suprisingly', 'sure', 'sure could', 'sure game', 'sure get', 'sure give', 'sure hell', 'sure many', 'sure much', 'sure not', 'sure one', 'sure people', 'sure still', 'sure would', 'surely', 'surface', 'surpass', 'surprise', 'surprised', 'surprised game', 'surprised not', 'surprising', 'surprisingly', 'surprisingly good', 'surrender', 'surround', 'surrounded', 'surrounding', 'surroundings', 'survival', 'survival game', 'survival games', 'survival mode', 'survive', 'survived', 'surviving', 'survivor', 'survivor stories', 'suspect', 'suspicious', 'sustain', 'swag', 'swap', 'swapped', 'sway', 'swear', 'sweat', 'sweaty', 'sweet', 'swim', 'swing', 'switch', 'switched', 'switches', 'switching', 'sword', 'swords', 'sync', 'synchro', 'syndrome', 'synergies', 'synergy', 'system', 'system actually', 'system allows', 'system also', 'system amazing', 'system completely', 'system could', 'system dont', 'system game', 'system get', 'system gives', 'system good', 'system great', 'system like', 'system made', 'system make', 'system makes', 'system much', 'system needs', 'system nice', 'system no', 'system not', 'system one', 'system place', 'system pretty', 'system really', 'system requirements', 'system still', 'system terrible', 'system unique', 'system well', 'system works', 'system would', 'systems', 'tab', 'tab target', 'tab targeting', 'tabbing', 'table', 'tables', 'tablet', 'tabletop', 'tabs', 'tactic', 'tactical', 'tactics', 'tad', 'tag', 'tags', 'tail', 'take', 'take account', 'take advantage', 'take apart', 'take away', 'take back', 'take battle', 'take bit', 'take break', 'take care', 'take damage', 'take days', 'take forever', 'take game', 'take get', 'take hours', 'take items', 'take like', 'take little', 'take long', 'take longer', 'take look', 'take lot', 'take minutes', 'take money', 'take months', 'take much', 'take no', 'take note', 'take part', 'take place', 'take seriously', 'take time', 'take word', 'taken', 'taken away', 'takes', 'takes ages', 'takes away', 'takes forever', 'takes fun', 'takes get', 'takes hours', 'takes like', 'takes little', 'takes long', 'takes lot', 'takes minutes', 'takes much', 'takes place', 'takes quite', 'takes skill', 'takes time', 'takes way', 'takes years', 'taking', 'taking break', 'taking time', 'talent', 'talent tree', 'talented', 'talents', 'talk', 'talk game', 'talked', 'talking', 'talks', 'tall', 'tame', 'tamed', 'taming', 'taming system', 'tank', 'tank battle', 'tank battles', 'tank class', 'tank combat', 'tank destroyer', 'tank destroyers', 'tank game', 'tank get', 'tank not', 'tank plane', 'tank still', 'tanker', 'tankers', 'tanking', 'tanks', 'tanks aircraft', 'tanks also', 'tanks blitz', 'tanks even', 'tanks game', 'tanks get', 'tanks like', 'tanks no', 'tanks not', 'tanks one', 'tanks planes', 'tanks play', 'tanks really', 'tanks tanks', 'tanks war', 'tanks way', 'tanks world', 'tanks would', 'tanky', 'tap', 'tapping', 'target', 'targeted', 'targeting', 'targets', 'targetting', 'task', 'task manager', 'tasks', 'taste', 'taste mouth', 'tastes', 'taught', 'taunt', 'taunts', 'tbh', 'tcg', 'tcgs', 'td', 'td battles', 'tdm', 'te', 'tea', 'teach', 'teaches', 'teaching', 'team', 'team always', 'team based', 'team behind', 'team deathmatch', 'team fortress', 'team full', 'team game', 'team get', 'team mates', 'team no', 'team not', 'team play', 'team players', 'team win', 'team work', 'team working', 'teamates', 'teamed', 'teaming', 'teammate', 'teammates', 'teammates not', 'teamplay', 'teams', 'teams not', 'teamspeak', 'teamwork', 'tear', 'tearing', 'tears', 'tec', 'tech', 'tech points', 'tech tree', 'tech trees', 'technical', 'technical issues', 'technically', 'techniques', 'technology', 'tedious', 'teens', 'teeth', 'teh', 'teir', 'teirs', 'teleport', 'teleported', 'teleporters', 'teleporting', 'teleports', 'tell', 'tell game', 'tell not', 'tell people', 'telling', 'tells', 'temporarily', 'temporary', 'tempted', 'ten', 'ten minutes', 'ten times', 'ten years', 'tencent', 'tend', 'tendency', 'tends', 'tens', 'tense', 'tension', 'tents', 'tera', 'term', 'terms', 'terms gameplay', 'terrain', 'terran', 'terran republic', 'terraria', 'terrible', 'terrible game', 'terrible not', 'terribly', 'terrifying', 'territory', 'terror', 'tes', 'tes legends', 'tesl', 'test', 'test drive', 'test game', 'test time', 'tested', 'tester', 'testing', 'tests', 'text', 'texture', 'textures', 'tf', 'tf not', 'tf team', 'tg', 'th', 'th time', 'tha', 'than', 'thank', 'thank god', 'thank reading', 'thankful', 'thankfully', 'thanks', 'thanks reading', 'that', 'that not', 'that said', 'that the', 'thats', 'thats fine', 'thats game', 'thats good', 'thats not', 'thats pretty', 'thats right', 'thats say', 'thay', 'the', 'the bad', 'the best', 'the biggest', 'the combat', 'the community', 'the developers', 'the devs', 'the fact', 'the first', 'the free', 'the game', 'the gameplay', 'the good', 'the graphics', 'the grind', 'the last', 'the main', 'the map', 'the maps', 'the matchmaking', 'the new', 'the out', 'the problem', 'the pvp', 'the real', 'the reason', 'the recent', 'the story', 'the thing', 'the tutorial', 'the ui', 'the way', 'the weapons', 'the worst', 'thehunter', 'their', 'them', 'them the', 'theme', 'themed', 'themes', 'themselves', 'then', 'theory', 'ther', 'there', 'there also', 'there lot', 'there many', 'there no', 'there not', 'therefor', 'therefore', 'theres', 'theres many', 'theres no', 'theres nothing', 'these', 'they', 'theyre', 'thick', 'thier', 'thin', 'thing', 'thing also', 'thing buy', 'thing could', 'thing dont', 'thing even', 'thing ever', 'thing find', 'thing free', 'thing game', 'thing get', 'thing going', 'thing good', 'thing got', 'thing hate', 'thing know', 'thing like', 'thing made', 'thing makes', 'thing need', 'thing no', 'thing not', 'thing pay', 'thing people', 'thing really', 'thing say', 'thing since', 'thing think', 'thing though', 'thing want', 'thing would', 'things', 'things added', 'things also', 'things better', 'things bit', 'things buy', 'things change', 'things changed', 'things come', 'things cost', 'things could', 'things done', 'things ever', 'things first', 'things fixed', 'things game', 'things get', 'things go', 'things going', 'things good', 'things happen', 'things like', 'things love', 'things made', 'things make', 'things might', 'things need', 'things no', 'things not', 'things one', 'things people', 'things play', 'things really', 'things say', 'things still', 'things take', 'things though', 'things time', 'things want', 'things work', 'things would', 'things wrong', 'thingy', 'think', 'think best', 'think better', 'think could', 'think devs', 'think even', 'think ever', 'think fair', 'think first', 'think free', 'think fun', 'think game', 'think get', 'think give', 'think going', 'think good', 'think great', 'think like', 'think lot', 'think may', 'think might', 'think much', 'think need', 'think no', 'think not', 'think one', 'think people', 'think played', 'think pretty', 'think really', 'think try', 'think twice', 'think worth', 'think would', 'thinking', 'thinking not', 'thinking would', 'thinks', 'third', 'third party', 'third person', 'thirty', 'this', 'this also', 'this game', 'this not', 'this one', 'this review', 'tho', 'thompson', 'thoroughly', 'thoroughly enjoy', 'those', 'thou', 'though', 'though also', 'though free', 'though game', 'though get', 'though like', 'though may', 'though no', 'though not', 'though one', 'though people', 'though pretty', 'though really', 'though still', 'though think', 'though would', 'thought', 'thought could', 'thought game', 'thought good', 'thought not', 'thought would', 'thoughts', 'thousand', 'thousand hours', 'thousands', 'thousands hours', 'thread', 'threads', 'threat', 'threatening', 'threats', 'three', 'three different', 'three factions', 'three four', 'three hours', 'three months', 'three times', 'three years', 'threw', 'thrill', 'thrilling', 'throat', 'throttle', 'through', 'throughout', 'throughout game', 'throught', 'throw', 'throw away', 'throw money', 'throwing', 'throwing money', 'thrown', 'throws', 'thru', 'thrustmaster', 'thumb', 'thumbs', 'thumbs up', 'thunder', 'thunder not', 'thus', 'thus far', 'thx', 'ti', 'tick', 'ticket', 'tickets', 'tide', 'tied', 'tier', 'tier deck', 'tier decks', 'tier game', 'tier get', 'tier iv', 'tier not', 'tier planes', 'tier system', 'tier tank', 'tier tanks', 'tier tier', 'tier vehicles', 'tier weapons', 'tiered', 'tiering', 'tiers', 'tiger', 'tiger ii', 'tight', 'til', 'till', 'till get', 'time', 'time able', 'time actually', 'time ago', 'time also', 'time and', 'time around', 'time buy', 'time cant', 'time come', 'time consuming', 'time could', 'time day', 'time devs', 'time die', 'time dont', 'time download', 'time downloading', 'time due', 'time effort', 'time enjoy', 'time especially', 'time even', 'time every', 'time fan', 'time far', 'time favorite', 'time feel', 'time find', 'time finish', 'time first', 'time fix', 'time free', 'time friends', 'time fun', 'time game', 'time get', 'time getting', 'time give', 'time go', 'time goes', 'time going', 'time good', 'time got', 'time great', 'time grind', 'time grinding', 'time hard', 'time hours', 'time however', 'time im', 'time invested', 'time it', 'time join', 'time kill', 'time killer', 'time know', 'time learn', 'time learning', 'time length', 'time level', 'time like', 'time limit', 'time load', 'time long', 'time looking', 'time made', 'time make', 'time making', 'time many', 'time might', 'time minutes', 'time money', 'time need', 'time never', 'time new', 'time no', 'time not', 'time one', 'time patience', 'time people', 'time period', 'time play', 'time played', 'time player', 'time players', 'time playing', 'time pretty', 'time probably', 'time pros', 'time purchase', 'time put', 'time read', 'time reading', 'time really', 'time release', 'time review', 'time running', 'time say', 'time see', 'time since', 'time sink', 'time someone', 'time something', 'time soon', 'time spend', 'time spent', 'time start', 'time started', 'time still', 'time sure', 'time take', 'time takes', 'time tell', 'time the', 'time things', 'time think', 'time this', 'time time', 'time took', 'time tried', 'time try', 'time trying', 'time understand', 'time unless', 'time unlock', 'time want', 'time waste', 'time wasted', 'time waster', 'time well', 'time went', 'time win', 'time without', 'time would', 'time writing', 'timed', 'timeless', 'timely', 'timer', 'timers', 'times', 'times better', 'times day', 'times even', 'times game', 'times get', 'times like', 'times not', 'times one', 'times people', 'times row', 'times still', 'times tried', 'times would', 'timing', 'tiny', 'tip', 'tips', 'tire', 'tired', 'tired playing', 'tires', 'titan', 'titan quest', 'title', 'title screen', 'titles', 'tl', 'tl dr', 'tldr', 'to', 'to play', 'to win', 'toaster', 'today', 'today not', 'todays', 'toe', 'toes', 'together', 'together game', 'together make', 'toggle', 'toilet', 'tokens', 'told', 'tolerate', 'tomorrow', 'ton', 'ton fun', 'ton money', 'ton time', 'tone', 'tonnes', 'tons', 'tons bugs', 'tons content', 'tons different', 'tons fun', 'tons money', 'too', 'too many', 'took', 'took away', 'took break', 'took hours', 'took long', 'took minutes', 'took time', 'tool', 'tools', 'tooltips', 'toon', 'toons', 'toothless', 'top', 'top deck', 'top game', 'top head', 'top level', 'top notch', 'top players', 'top right', 'top tier', 'topic', 'tops', 'torchlight', 'torn', 'torrent', 'torso', 'torture', 'toss', 'tossing', 'total', 'totally', 'totally free', 'totally not', 'totally recommend', 'totally worth', 'totaly', 'touch', 'touch game', 'touched', 'touching', 'tough', 'tougher', 'tought', 'tour', 'tournament', 'tournaments', 'toward', 'towards', 'towards game', 'tower', 'tower defense', 'towers', 'towers not', 'town', 'towns', 'toxic', 'toxic community', 'toxic people', 'toxic players', 'toxicity', 'toys', 'tp', 'tr', 'track', 'tracked', 'tracking', 'trackir', 'tracks', 'tracks cars', 'tracks not', 'trade', 'trade items', 'traded', 'trader', 'trades', 'trading', 'trading card', 'trading system', 'traditional', 'trail', 'trailer', 'trailers', 'trailrunner', 'train', 'train dragon', 'training', 'training missions', 'training rooms', 'traits', 'trample', 'transaction', 'transactions', 'transactions not', 'transfer', 'transformed', 'transition', 'translate', 'translated', 'translation', 'translations', 'transparent', 'transport', 'transportation', 'trap', 'trap card', 'trap cards', 'trapped', 'traps', 'trash', 'trash game', 'trash not', 'travel', 'traveling', 'travelling', 'traverse', 'treasure', 'treat', 'treat like', 'treated', 'treating', 'treatment', 'treats', 'tree', 'tree not', 'trees', 'trek', 'tremendously', 'trend', 'trial', 'trial error', 'trials', 'tribute', 'trick', 'tricks', 'trickster', 'tricky', 'tried', 'tried everything', 'tried game', 'tried get', 'tried give', 'tried like', 'tried many', 'tried not', 'tried play', 'tried playing', 'tries', 'trigger', 'triggers', 'trion', 'trion worlds', 'trip', 'triple', 'trivial', 'trojan', 'troll', 'trolling', 'trolls', 'troops', 'trophies', 'trophy', 'trouble', 'trough', 'trove', 'truck', 'trucks', 'true', 'true free', 'true game', 'true not', 'truely', 'truly', 'truly free', 'trump', 'trust', 'trust not', 'trusted', 'truth', 'try', 'try also', 'try best', 'try different', 'try even', 'try find', 'try fix', 'try free', 'try fun', 'try game', 'try get', 'try give', 'try go', 'try hard', 'try it', 'try keep', 'try least', 'try like', 'try love', 'try make', 'try maybe', 'try might', 'try new', 'try not', 'try one', 'try out', 'try play', 'try playing', 'try really', 'try see', 'try since', 'try something', 'try take', 'try want', 'try would', 'tryed', 'tryhard', 'tryhards', 'trying', 'trying build', 'trying figure', 'trying find', 'trying fix', 'trying game', 'trying get', 'trying go', 'trying hard', 'trying kill', 'trying learn', 'trying make', 'trying new', 'trying play', 'ts', 'tu', 'tune', 'tuned', 'tuning', 'tunnel', 'turd', 'turismo', 'turkey', 'turn', 'turn around', 'turn away', 'turn based', 'turn game', 'turn no', 'turn not', 'turned', 'turned game', 'turning', 'turns', 'turns game', 'turns not', 'turret', 'turrets', 'tutorial', 'tutorial game', 'tutorial not', 'tutorials', 'tv', 'tweak', 'tweaked', 'tweaking', 'tweaks', 'twelve', 'twenty', 'twice', 'twilight', 'twilight average', 'twist', 'twists', 'twitch', 'twitter', 'two', 'two cents', 'two days', 'two different', 'two games', 'two hours', 'two lane', 'two lanes', 'two main', 'two minutes', 'two months', 'two people', 'two steps', 'two teams', 'two things', 'two three', 'two times', 'two weapons', 'two weeks', 'two years', 'ty', 'type', 'type game', 'type games', 'types', 'types games', 'types weapons', 'typical', 'typically', 'typing', 'uber', 'ugh', 'ugly', 'uh', 'ui', 'ui not', 'uk', 'ultimate', 'ultimate god', 'ultimately', 'ultra', 'ultra rare', 'um', 'umm', 'un', 'unable', 'unable play', 'unacceptable', 'unbalance', 'unbalanced', 'unbalanced game', 'unbalanced gameplay', 'unbalanced not', 'unbearable', 'unbelievable', 'unbelievably', 'unclear', 'uncommon', 'und', 'underground', 'underneath', 'underpowered', 'underrated', 'understand', 'understand free', 'understand game', 'understand mechanics', 'understand need', 'understand not', 'understand people', 'understand play', 'understandable', 'understandably', 'understanding', 'understood', 'underwhelming', 'unenjoyable', 'unexpected', 'unfair', 'unfair advantage', 'unfair not', 'unfairly', 'unfamiliar', 'unfinished', 'unforgiving', 'unfortunate', 'unfortunately', 'unfortunately game', 'unfortunately not', 'unfortunatly', 'unfriendly', 'unfun', 'ungodly', 'unheard', 'uninspired', 'uninstall', 'uninstall game', 'uninstalled', 'uninstalled game', 'uninstalling', 'uninstalling game', 'uninteresting', 'unintuitive', 'union', 'unique', 'unique abilities', 'unique classes', 'unique experience', 'unique fun', 'unique game', 'unique gameplay', 'unique items', 'unique skills', 'unique style', 'unique way', 'unique weapons', 'uniqueness', 'unistalled', 'unit', 'united', 'units', 'unity', 'universe', 'unkillable', 'unknown', 'unleashed', 'unless', 'unless buy', 'unless get', 'unless got', 'unless like', 'unless not', 'unless one', 'unless pay', 'unless play', 'unless really', 'unless spend', 'unless want', 'unless willing', 'unlike', 'unlike games', 'unlike many', 'unlikely', 'unlimited', 'unlock', 'unlock anything', 'unlock better', 'unlock classes', 'unlock everything', 'unlock guns', 'unlock new', 'unlock next', 'unlock stuff', 'unlock weapons', 'unlockable', 'unlocked', 'unlocking', 'unlocking new', 'unlocks', 'unlucky', 'unnecessary', 'unneeded', 'unoptimized', 'unplayable', 'unpleasant', 'unpolished', 'unranked', 'unreal', 'unreal engine', 'unrealistic', 'unreasonable', 'unresponsive', 'unrewarding', 'unsatisfying', 'unstable', 'unstoppable', 'until', 'untill', 'untouched', 'unturned', 'unusual', 'unwanted', 'up', 'up the', 'upcoming', 'update', 'update came', 'update completely', 'update game', 'update like', 'update made', 'update new', 'update no', 'update not', 'update really', 'update review', 'update ruined', 'update time', 'update update', 'update would', 'updated', 'updated new', 'updater', 'updates', 'updates come', 'updates every', 'updates game', 'updates keep', 'updates like', 'updates make', 'updates new', 'updates not', 'updating', 'updating game', 'upgrade', 'upgrade system', 'upgraded', 'upgrades', 'upgrading', 'uphill', 'upon', 'upon hours', 'upon time', 'upper', 'ups', 'ups downs', 'upset', 'upsetting', 'upside', 'uptiered', 'upwards', 'ur', 'urge', 'us', 'us game', 'us money', 'us not', 'us play', 'us players', 'usa', 'usable', 'usage', 'usd', 'use', 'use buy', 'use fun', 'use game', 'use gun', 'use items', 'use like', 'use money', 'use mouse', 'use new', 'use not', 'use one', 'use real', 'use skills', 'use steam', 'use time', 'use weapon', 'use weapons', 'use work', 'used', 'used able', 'used amazing', 'used buy', 'used enjoy', 'used fun', 'used game', 'used get', 'used good', 'used great', 'used like', 'used lot', 'used love', 'used make', 'used much', 'used not', 'used one', 'used play', 'used really', 'used time', 'useful', 'usefull', 'useless', 'user', 'user friendly', 'user interface', 'username', 'users', 'users game', 'uses', 'using', 'using different', 'using real', 'using steam', 'ussr', 'usual', 'usually', 'usually around', 'usually get', 'usually not', 'usually play', 'ut', 'utility', 'utilize', 'utilizes', 'utter', 'utter garbage', 'utterly', 'vac', 'vague', 'valid', 'valuable', 'value', 'value game', 'values', 'valve', 'valve not', 'vampire', 'vanguard', 'vanilla', 'vanu', 'variance', 'variant', 'variants', 'variation', 'variations', 'varied', 'varies', 'varieties', 'variety', 'variety classes', 'variety different', 'variety game', 'variety ships', 'variety weapons', 'various', 'varity', 'vary', 'varying', 'vast', 'vast majority', 'vastly', 'vault', 'vault door', 'vault dwellers', 'vaults', 've', 'vegas', 'vehicle', 'vehicle combat', 'vehicles', 'vehicles game', 'vehicles like', 'vehicles not', 'vehicles weapons', 'vehicular', 'velocity', 'verdict', 'verify', 'verison', 'verry', 'versa', 'versatile', 'version', 'version game', 'version get', 'version hearthstone', 'version minecraft', 'version not', 'versions', 'versions game', 'versus', 'vertical', 'very', 'very good', 'vet', 'veteran', 'veteran player', 'veteran players', 'veterans', 'vets', 'via', 'via steam', 'viable', 'viable decks', 'vibe', 'vibrant', 'vice', 'vice versa', 'victim', 'victories', 'victory', 'video', 'video game', 'video games', 'videogame', 'videos', 'videos youtube', 'view', 'viewing', 'views', 'viking', 'violence', 'vip', 'virtual', 'virtually', 'virus', 'visibility', 'visible', 'vision', 'visit', 'visual', 'visual effects', 'visually', 'visually appealing', 'visuals', 'vital', 'vive', 'vocal', 'voice', 'voice acting', 'voice actors', 'voice chat', 'voice packs', 'voiced', 'voices', 'void', 'voip', 'volume', 'volvo', 'vote', 'voting', 'voxel', 'vr', 'vs', 'vs ai', 'vs machine', 'vs player', 'vs players', 'vulnerable', 'wa', 'waaaay', 'wacky', 'waifu', 'waifus', 'waist', 'waist time', 'wait', 'wait another', 'wait days', 'wait game', 'wait get', 'wait hours', 'wait long', 'wait minutes', 'wait not', 'wait play', 'wait sale', 'wait see', 'wait till', 'wait time', 'wait times', 'waited', 'waiting', 'waiting game', 'waiting long', 'waiting minutes', 'waiting time', 'waiting times', 'waits', 'wake', 'walk', 'walk around', 'walk away', 'walked', 'walker', 'walking', 'walking around', 'walking simulator', 'walks', 'wall', 'wall text', 'wallet', 'wallets', 'walls', 'wander', 'wandering', 'wannabe', 'wannaget', 'wannaknow', 'wannaplay', 'wannaplay game', 'want', 'want add', 'want anything', 'want build', 'want buy', 'want change', 'want enjoy', 'want even', 'want experience', 'want find', 'want fly', 'want free', 'want full', 'want fun', 'want game', 'want get', 'want give', 'want go', 'want good', 'want grind', 'want help', 'want hunt', 'want join', 'want jump', 'want keep', 'want kill', 'want know', 'want learn', 'want like', 'want look', 'want love', 'want make', 'want money', 'want need', 'want new', 'want no', 'want not', 'want pay', 'want people', 'want play', 'want progress', 'want put', 'want real', 'want really', 'want recommend', 'want run', 'want say', 'want see', 'want sit', 'want something', 'want spend', 'want start', 'want stay', 'want support', 'want take', 'want talk', 'want throw', 'want time', 'want try', 'want unlock', 'want use', 'want wait', 'want want', 'want waste', 'want win', 'want without', 'wanted', 'wanted game', 'wanted get', 'wanted give', 'wanted like', 'wanted make', 'wanted play', 'wanted see', 'wanted try', 'wanting', 'wanting play', 'wants', 'wants money', 'wants play', 'war', 'war era', 'war game', 'war ii', 'war mode', 'war tanks', 'war thunder', 'warcraft', 'warcry', 'ward', 'wards', 'warface', 'warfare', 'warframe', 'wargaming', 'warm', 'warmode', 'warn', 'warned', 'warning', 'warning game', 'warning not', 'warp', 'warplanes', 'warrior', 'warriors', 'wars', 'warships', 'warthog', 'warthunder', 'warz', 'was', 'wasd', 'wash', 'wasnt', 'waste', 'waste life', 'waste money', 'waste space', 'waste time', 'wasted', 'wasted hours', 'wasted money', 'wasted time', 'wasteland', 'waster', 'wasting', 'wasting money', 'wasting time', 'watch', 'watch videos', 'watched', 'watching', 'water', 'watered', 'wave', 'waves', 'way', 'way also', 'way around', 'way back', 'way better', 'way build', 'way could', 'way describe', 'way earn', 'way expensive', 'way fix', 'way fun', 'way game', 'way get', 'way go', 'way high', 'way kill', 'way less', 'way like', 'way long', 'way longer', 'way make', 'way makes', 'way making', 'way many', 'way much', 'way new', 'way no', 'way not', 'way often', 'way one', 'way pay', 'way play', 'way playing', 'way possible', 'way really', 'way see', 'way since', 'way spend', 'way want', 'way way', 'way win', 'way would', 'ways', 'ways earn', 'ways get', 'ways play', 'we', 'weak', 'weaker', 'weakest', 'weakness', 'weaknesses', 'wealth', 'weapon', 'weapon armor', 'weapon balance', 'weapon game', 'weapon not', 'weapon skins', 'weapon system', 'weapon types', 'weaponry', 'weapons', 'weapons abilities', 'weapons also', 'weapons armor', 'weapons attachments', 'weapons balanced', 'weapons buy', 'weapons could', 'weapons equipment', 'weapons etc', 'weapons even', 'weapons feel', 'weapons game', 'weapons get', 'weapons items', 'weapons like', 'weapons make', 'weapons maps', 'weapons no', 'weapons not', 'weapons play', 'weapons really', 'weapons upgrades', 'weapons use', 'weapons vehicles', 'weapons well', 'weapons would', 'wear', 'wearing', 'wears', 'weather', 'web', 'web browser', 'website', 'websites', 'weeaboo', 'week', 'week ago', 'week game', 'week two', 'weekend', 'weekends', 'weekly', 'weeks', 'weeks ago', 'weeks get', 'weeks months', 'weight', 'weird', 'welcome', 'welcoming', 'well', 'well balanced', 'well could', 'well designed', 'well developed', 'well done', 'well dont', 'well enough', 'well even', 'well executed', 'well first', 'well free', 'well fun', 'well game', 'well get', 'well give', 'well good', 'well got', 'well guess', 'well hours', 'well known', 'well least', 'well let', 'well lets', 'well like', 'well looks', 'well made', 'well make', 'well many', 'well maybe', 'well no', 'well not', 'well one', 'well optimised', 'well optimized', 'well play', 'well played', 'well playing', 'well polished', 'well pretty', 'well put', 'well really', 'well since', 'well spent', 'well start', 'well still', 'well the', 'well think', 'well thought', 'well worth', 'well would', 'went', 'went back', 'went game', 'wepons', 'west', 'western', 'wet', 'wether', 'wg', 'whale', 'whales', 'what', 'what not', 'whatever', 'whatever called', 'whatever reason', 'whatever want', 'whatnot', 'whats', 'whats point', 'whatsoever', 'wheel', 'wheels', 'when', 'when first', 'whenever', 'whenever want', 'where', 'whereas', 'wherever', 'whether', 'whether not', 'which', 'whichever', 'while', 'whilst', 'whine', 'whining', 'whit', 'white', 'whitetail', 'who', 'whoever', 'whole', 'whole different', 'whole experience', 'whole game', 'whole life', 'whole lot', 'whole map', 'whole new', 'whole team', 'whole thing', 'whole time', 'wholeheartedly', 'whos', 'whose', 'why', 'wich', 'wide', 'wide range', 'wide variety', 'wider', 'wielding', 'wierd', 'wife', 'wifi', 'wii', 'wiki', 'wikipedia', 'wil', 'wild', 'wilderness', 'wildly', 'will', 'willing', 'willing give', 'willing help', 'willing pay', 'willing put', 'willing spend', 'willing take', 'win', 'win also', 'win aspect', 'win buy', 'win day', 'win elements', 'win even', 'win every', 'win free', 'win game', 'win games', 'win get', 'win good', 'win grind', 'win grinding', 'win items', 'win like', 'win lose', 'win many', 'win match', 'win maybe', 'win mechanics', 'win model', 'win need', 'win no', 'win not', 'win one', 'win pay', 'win people', 'win play', 'win players', 'win pvp', 'win rate', 'win really', 'win since', 'win still', 'win system', 'win way', 'win weapons', 'win win', 'win yes', 'wind', 'window', 'windowed', 'windowed mode', 'windows', 'wine', 'wing', 'wings', 'winner', 'winners', 'winning', 'winning game', 'winning games', 'winning losing', 'wins', 'winter', 'wipe', 'wiped', 'wise', 'wise game', 'wisely', 'wish', 'wish could', 'wish game', 'wish not', 'wish play', 'wish would', 'wished', 'wishes', 'witch', 'witcher', 'with', 'within', 'within first', 'within game', 'within hour', 'within hours', 'within minutes', 'within seconds', 'without', 'without buying', 'without crashing', 'without doubt', 'without even', 'without ever', 'without friends', 'without game', 'without getting', 'without going', 'without knowing', 'without making', 'without membership', 'without money', 'without much', 'without need', 'without pay', 'without paying', 'without permission', 'without playing', 'without premium', 'without purchasing', 'without putting', 'without real', 'without seeing', 'without spend', 'without spending', 'without taking', 'without using', 'witness', 'witnessed', 'wizard', 'wizards', 'wolf', 'wolf digital', 'woman', 'women', 'won', 'wonder', 'wondered', 'wonderful', 'wonderful game', 'wonderfully', 'wondering', 'wonders', 'wonky', 'wont', 'wont even', 'wont get', 'wont let', 'wont regret', 'wood', 'wooden', 'woods', 'word', 'words', 'words not', 'work', 'work around', 'work done', 'work even', 'work game', 'work get', 'work hard', 'work like', 'work no', 'work not', 'work progress', 'work properly', 'work put', 'work team', 'work together', 'work towards', 'work way', 'work well', 'worked', 'workers', 'working', 'working game', 'working hard', 'working not', 'working towards', 'workings', 'works', 'works fine', 'works game', 'works great', 'works like', 'works perfectly', 'works well', 'workshop', 'world', 'world also', 'world game', 'world guns', 'world money', 'world no', 'world not', 'world tanks', 'world war', 'world warcraft', 'world warplanes', 'world warships', 'worlds', 'worlds game', 'worldwide', 'worried', 'worries', 'worry', 'worrying', 'worse', 'worse every', 'worse game', 'worse not', 'worse since', 'worse worse', 'worst', 'worst ever', 'worst experience', 'worst free', 'worst game', 'worst games', 'worst part', 'worst seen', 'worst thing', 'worth', 'worth buying', 'worth checking', 'worth download', 'worth downloading', 'worth effort', 'worth even', 'worth every', 'worth free', 'worth game', 'worth get', 'worth getting', 'worth it', 'worth money', 'worth not', 'worth paying', 'worth play', 'worth playing', 'worth price', 'worth spending', 'worth time', 'worth try', 'worth trying', 'worthless', 'worthwhile', 'worthy', 'wot', 'wot blitz', 'wot pc', 'woud', 'would', 'would able', 'would actually', 'would add', 'would agree', 'would allow', 'would also', 'would amazing', 'would assume', 'would avoid', 'would awesome', 'would become', 'would better', 'would bring', 'would buy', 'would call', 'would certainly', 'would change', 'would come', 'would consider', 'would cool', 'would cost', 'would definitely', 'would either', 'would enjoy', 'would even', 'would ever', 'would expect', 'would feel', 'would find', 'would fine', 'would fun', 'would game', 'would get', 'would give', 'would given', 'would gladly', 'would go', 'would good', 'would great', 'would happen', 'would happily', 'would happy', 'would hard', 'would help', 'would highly', 'would honestly', 'would keep', 'would know', 'would let', 'would like', 'would likely', 'would look', 'would lose', 'would lot', 'would love', 'would made', 'would make', 'would much', 'would need', 'would never', 'would nice', 'would no', 'would not', 'would ok', 'would pay', 'would perfect', 'would play', 'would prefer', 'would probably', 'would put', 'would rate', 'would rather', 'would really', 'would reccomend', 'would reccommend', 'would recomend', 'would recommend', 'would recommended', 'would run', 'would say', 'would see', 'would spend', 'would still', 'would strongly', 'would suggest', 'would take', 'would think', 'would totally', 'would try', 'would want', 'would willing', 'would work', 'would worth', 'wouldnt', 'wouldnt recommend', 'wound', 'wow', 'wow game', 'wraeclast', 'wreck', 'wrecked', 'write', 'write review', 'write reviews', 'writing', 'writing review', 'written', 'wrong', 'wrong game', 'wrong love', 'wrong not', 'wrong way', 'wrote', 'wrote review', 'wt', 'wtcc', 'wtf', 'wth', 'ww', 'ww game', 'ww games', 'ww shooter', 'ww tanks', 'wwii', 'www', 'www reddit', 'www youtube', 'xbox', 'xbox controller', 'xbox one', 'xd', 'xp', 'xx', 'xyz', 'ya', 'ya know', 'yak', 'yall', 'yami', 'yards', 'yay', 'ye', 'yea', 'yeah', 'yeah game', 'yeah not', 'yeah right', 'year', 'year ago', 'year game', 'year get', 'year half', 'year later', 'year not', 'year old', 'year olds', 'year since', 'year still', 'year two', 'yearly', 'years', 'years ago', 'years back', 'years come', 'years development', 'years even', 'years game', 'years get', 'years later', 'years no', 'years not', 'years old', 'years played', 'years playing', 'years since', 'years still', 'yell', 'yelled', 'yelling', 'yellow', 'yep', 'yes', 'yes buy', 'yes free', 'yes game', 'yes get', 'yes know', 'yes no', 'yes not', 'yes one', 'yes pay', 'yes recommend', 'yes still', 'yes yes', 'yesterday', 'yet', 'yet another', 'yet find', 'yet game', 'yet get', 'yet no', 'yet not', 'yet still', 'yet time', 'ymir', 'yo', 'you', 'you also', 'you buy', 'you cant', 'you get', 'you if', 'you need', 'you not', 'you pay', 'you play', 'you see', 'you start', 'you the', 'you use', 'you want', 'you would', 'youll', 'young', 'younger', 'your', 'youre', 'yourself', 'youtu', 'youtu be', 'youtube', 'youtube channel', 'youtube com', 'youtube videos', 'youtuber', 'youtubers', 'youve', 'yrs', 'yu', 'yu gi', 'yugi', 'yugioh', 'yugioh game', 'yup', 'zen', 'zerg', 'zero', 'zombie', 'zombie survival', 'zombies', 'zone', 'zones', 'zoom', 'zooming']\n"
          ],
          "name": "stdout"
        }
      ]
    },
    {
      "cell_type": "code",
      "metadata": {
        "id": "EG09J-PMdTYA",
        "colab": {
          "base_uri": "https://localhost:8080/"
        },
        "outputId": "d4542860-e278-490f-c0f6-88e96ce28e9f"
      },
      "source": [
        "vectorizer.vocabulary_"
      ],
      "execution_count": 17,
      "outputs": [
        {
          "output_type": "execute_result",
          "data": {
            "text/plain": [
              "{'scared': 14125,\n",
              " 'hearing': 7300,\n",
              " 'creepy': 2808,\n",
              " 'voices': 17098,\n",
              " 'pause': 11675,\n",
              " 'moment': 9981,\n",
              " 'write': 17886,\n",
              " 'review': 13612,\n",
              " 'wait': 17120,\n",
              " 'heart': 7301,\n",
              " 'beat': 1125,\n",
              " 'return': 13599,\n",
              " 'atleast': 829,\n",
              " 'somewhat': 14859,\n",
              " 'times': 16335,\n",
              " 'adorable': 219,\n",
              " 'like': 8669,\n",
              " 'happy': 7209,\n",
              " 'tree': 16521,\n",
              " 'friends': 5103,\n",
              " 'graphics': 6957,\n",
              " 'childhood': 2075,\n",
              " 'clean': 2146,\n",
              " 'hello': 7339,\n",
              " 'what': 17478,\n",
              " 'trying': 16615,\n",
              " 'kill': 8267,\n",
              " 'bit': 1344,\n",
              " 'odd': 11185,\n",
              " 'noob': 10658,\n",
              " 'things': 16002,\n",
              " 'though': 16099,\n",
              " 'oh': 11217,\n",
              " 'look': 9022,\n",
              " 'class': 2124,\n",
              " 'room': 13905,\n",
              " 'full': 5155,\n",
              " 'ghosts': 6573,\n",
              " 'dead': 2988,\n",
              " 'children': 2077,\n",
              " 'lets': 8600,\n",
              " 'shine': 14424,\n",
              " 'flashlight': 4838,\n",
              " 'stand': 15094,\n",
              " 'staring': 15108,\n",
              " 'them': 15944,\n",
              " 'or': 11450,\n",
              " 'hmm': 7458,\n",
              " 'music': 10230,\n",
              " 'turn': 16638,\n",
              " 'around': 731,\n",
              " 'see': 14223,\n",
              " 'chasing': 2043,\n",
              " 'me': 9625,\n",
              " 'never': 10382,\n",
              " 'afraid': 263,\n",
              " 'finding': 4717,\n",
              " 'locked': 8970,\n",
              " 'door': 3532,\n",
              " 'write review': 17887,\n",
              " 'times game': 16339,\n",
              " 'trying kill': 16624,\n",
              " 'things though': 16038,\n",
              " 'turn around': 16639,\n",
              " 'around see': 746,\n",
              " 'never game': 10396,\n",
              " 'best': 1199,\n",
              " 'better': 1249,\n",
              " 'sam': 14041,\n",
              " 'youtube': 18015,\n",
              " 'account': 78,\n",
              " 'need': 10292,\n",
              " 'play': 11986,\n",
              " 'extra': 4400,\n",
              " 'pants': 11602,\n",
              " 'pros': 12802,\n",
              " 'scary': 14129,\n",
              " 'hell': 7330,\n",
              " 'fun': 5172,\n",
              " 'adventure': 234,\n",
              " 'spooky': 15047,\n",
              " 'did': 3284,\n",
              " 'forgot': 4941,\n",
              " 'mention': 9719,\n",
              " 'get': 6324,\n",
              " 'time': 16194,\n",
              " 'consuming': 2526,\n",
              " 'bored': 1459,\n",
              " 'cons': 2485,\n",
              " 'buying': 1714,\n",
              " 'downloaded': 3565,\n",
              " 'yet': 17980,\n",
              " 'best game': 1214,\n",
              " 'game better': 5398,\n",
              " 'need play': 10324,\n",
              " 'forgot mention': 4942,\n",
              " 'time consuming': 16204,\n",
              " 'iffy': 7738,\n",
              " 'controls': 2579,\n",
              " 'know': 8322,\n",
              " 'easy': 3736,\n",
              " 'master': 9528,\n",
              " 'made': 9241,\n",
              " 'floor': 4873,\n",
              " 'due': 3652,\n",
              " 'certain': 1945,\n",
              " 'circumstances': 2110,\n",
              " 'unable': 16716,\n",
              " 'finish': 4727,\n",
              " 'related': 13424,\n",
              " 'worry': 17737,\n",
              " 'bug': 1589,\n",
              " 'glitch': 6651,\n",
              " 'highly': 7417,\n",
              " 'recommend': 13315,\n",
              " 'casual': 1894,\n",
              " 'maybe': 9610,\n",
              " 'friend': 5092,\n",
              " 'two': 16671,\n",
              " 'watching': 17297,\n",
              " 'especially': 4004,\n",
              " 'hit': 7445,\n",
              " 'fellow': 4630,\n",
              " 'know play': 8346,\n",
              " 'play easy': 12026,\n",
              " 'not game': 10818,\n",
              " 'not worry': 11079,\n",
              " 'highly recommend': 7422,\n",
              " 'casual play': 1903,\n",
              " 'play maybe': 12081,\n",
              " 'friend two': 5097,\n",
              " 'great': 6991,\n",
              " 'colorful': 2241,\n",
              " 'that': 15894,\n",
              " 'side': 14510,\n",
              " 'note': 11088,\n",
              " 'getting': 6548,\n",
              " 'windowed': 17592,\n",
              " 'mode': 9943,\n",
              " 'computer': 2435,\n",
              " 'hates': 7257,\n",
              " 'fullscreen': 5169,\n",
              " 'yeah': 17928,\n",
              " 'run': 13962,\n",
              " 'shame': 14392,\n",
              " 'really': 13153,\n",
              " 'enjoyable': 3907,\n",
              " 'guess': 7110,\n",
              " 'settle': 14368,\n",
              " 'skyrim': 14695,\n",
              " 'cheers': 2065,\n",
              " 'great game': 7007,\n",
              " 'game fun': 5606,\n",
              " 'side note': 14514,\n",
              " 'windowed mode': 17593,\n",
              " 'computer not': 2439,\n",
              " 'not like': 10886,\n",
              " 'shame really': 14394,\n",
              " 'really enjoyable': 13169,\n",
              " 'many': 9446,\n",
              " 'games': 6164,\n",
              " 'cute': 2904,\n",
              " 'tag': 15640,\n",
              " 'right': 13818,\n",
              " 'next': 10515,\n",
              " 'horror': 7528,\n",
              " 'steam': 15174,\n",
              " 'first': 4744,\n",
              " 'played': 12177,\n",
              " 'late': 8450,\n",
              " 'coming': 2300,\n",
              " 'back': 922,\n",
              " 'since': 14583,\n",
              " 'good': 6766,\n",
              " 'free': 5020,\n",
              " 'take': 15643,\n",
              " 'advantage': 231,\n",
              " 'experience': 4349,\n",
              " 'try': 16577,\n",
              " 'close': 2182,\n",
              " 'progress': 12760,\n",
              " 'darker': 2952,\n",
              " 'becomes': 1144,\n",
              " 'not many': 10902,\n",
              " 'many games': 9460,\n",
              " 'right next': 13829,\n",
              " 'first played': 4772,\n",
              " 'played game': 12197,\n",
              " 'game late': 5712,\n",
              " 'coming back': 2301,\n",
              " 'back first': 930,\n",
              " 'first time': 4782,\n",
              " 'time since': 16294,\n",
              " 'since game': 14593,\n",
              " 'game good': 5633,\n",
              " 'good free': 6798,\n",
              " 'take advantage': 15645,\n",
              " 'try get': 16587,\n",
              " 'game becomes': 5390,\n",
              " 'reviewit': 13710,\n",
              " 'pretty': 12636,\n",
              " 'later': 8455,\n",
              " 'gets': 6533,\n",
              " 'jumpscare': 8206,\n",
              " 'specimen': 14970,\n",
              " 'still': 15226,\n",
              " 'worth': 17754,\n",
              " 'playing': 12346,\n",
              " 'well': 17416,\n",
              " 'still enjoyable': 15242,\n",
              " 'worth playing': 17771,\n",
              " 'great well': 7033,\n",
              " 'well made': 17442,\n",
              " 'made game': 9247,\n",
              " 'little': 8922,\n",
              " 'progressively': 12771,\n",
              " 'scarier': 14127,\n",
              " 'sense': 14319,\n",
              " 'humor': 7662,\n",
              " 'watched': 17296,\n",
              " 'several': 14373,\n",
              " 'people': 11748,\n",
              " 'love': 9163,\n",
              " 'game cute': 5490,\n",
              " 'horror game': 7529,\n",
              " 'played little': 12206,\n",
              " 'people play': 11794,\n",
              " 'play love': 12072,\n",
              " 'jump': 8199,\n",
              " 'scare': 14124,\n",
              " 'mansion': 9439,\n",
              " 'retro': 13597,\n",
              " 'maze': 9622,\n",
              " 'scares': 14126,\n",
              " 'death': 2999,\n",
              " 'worked': 17704,\n",
              " 'win': 17549,\n",
              " 'looked': 9042,\n",
              " 'ok': 11232,\n",
              " 'sounded': 14896,\n",
              " 'took': 16397,\n",
              " 'wrong': 17892,\n",
              " 'somehow': 14817,\n",
              " 'keep': 8220,\n",
              " 'killed': 8282,\n",
              " 'creature': 2798,\n",
              " 'restart': 13578,\n",
              " 'different': 3307,\n",
              " 'route': 13923,\n",
              " 'sort': 14879,\n",
              " 'castle': 1893,\n",
              " 'doom': 3531,\n",
              " 'sounds': 14897,\n",
              " 'rooms': 13908,\n",
              " 'go': 6666,\n",
              " 'might': 9776,\n",
              " 'it': 8089,\n",
              " 'for': 4914,\n",
              " 'info': 7893,\n",
              " 'https': 7635,\n",
              " 'www': 17909,\n",
              " 'com': 2245,\n",
              " 'watch': 17294,\n",
              " 'house': 7601,\n",
              " 'of': 11188,\n",
              " 'gameplay': 6131,\n",
              " 'overview': 11542,\n",
              " 'more': 10089,\n",
              " 'http': 7632,\n",
              " 'meets': 9693,\n",
              " 'eye': 4421,\n",
              " 'jump scare': 8201,\n",
              " 'game jump': 5695,\n",
              " 'jump scares': 8202,\n",
              " 'keep getting': 8228,\n",
              " 'getting killed': 6558,\n",
              " 'sort like': 14881,\n",
              " 'go try': 6696,\n",
              " 'try game': 16586,\n",
              " 'game might': 5782,\n",
              " 'might like': 9789,\n",
              " 'like it': 8758,\n",
              " 'https www': 7636,\n",
              " 'www youtube': 17911,\n",
              " 'youtube com': 18017,\n",
              " 'com watch': 2248,\n",
              " 'free game': 5034,\n",
              " 'http www': 7634,\n",
              " 'house jump': 7602,\n",
              " 'somewhere': 14861,\n",
              " 'light': 8661,\n",
              " 'hearted': 7303,\n",
              " 'parody': 11616,\n",
              " 'dark': 2949,\n",
              " 'lies': 8651,\n",
              " 'daunting': 2961,\n",
              " 'duty': 3689,\n",
              " 'surviving': 15566,\n",
              " 'one': 11262,\n",
              " 'thousand': 16122,\n",
              " 'endless': 3863,\n",
              " 'person': 11865,\n",
              " 'perspective': 11887,\n",
              " 'no': 10562,\n",
              " 'seconds': 14211,\n",
              " 'thanks': 15892,\n",
              " 'sprint': 15058,\n",
              " 'key': 8250,\n",
              " 'fact': 4433,\n",
              " 'counts': 2728,\n",
              " 'new': 10424,\n",
              " 'even': 4042,\n",
              " 'feat': 4575,\n",
              " 'needless': 10344,\n",
              " 'repetition': 13500,\n",
              " 'every': 4162,\n",
              " 'fifteen': 4649,\n",
              " 'interest': 7985,\n",
              " 'end': 3846,\n",
              " 'find': 4691,\n",
              " 'save': 14053,\n",
              " 'point': 12459,\n",
              " 'nothing': 11094,\n",
              " 'permanent': 11861,\n",
              " 'hands': 7192,\n",
              " 'creatures': 2799,\n",
              " 'live': 8937,\n",
              " 'within': 17622,\n",
              " 'on': 11259,\n",
              " 'surface': 15546,\n",
              " 'almost': 345,\n",
              " 'cartoon': 1873,\n",
              " 'low': 9190,\n",
              " 'budget': 1584,\n",
              " 'charm': 2037,\n",
              " 'rare': 13063,\n",
              " 'comes': 2289,\n",
              " 'form': 4946,\n",
              " 'cardboard': 1817,\n",
              " 'cutouts': 2906,\n",
              " 'skeletons': 14654,\n",
              " 'pop': 12502,\n",
              " 'wall': 17153,\n",
              " 'sound': 14890,\n",
              " 'silly': 14535,\n",
              " 'drive': 3619,\n",
              " 'department': 3137,\n",
              " 'makes': 9369,\n",
              " 'use': 16914,\n",
              " 'ambient': 505,\n",
              " 'foot': 4912,\n",
              " 'steps': 15216,\n",
              " 'following': 4903,\n",
              " 'you': 17991,\n",
              " 'as': 775,\n",
              " 'delve': 3124,\n",
              " 'deeper': 3071,\n",
              " 'doors': 3533,\n",
              " 'dank': 2947,\n",
              " 'dungeon': 3673,\n",
              " 'points': 12479,\n",
              " 'plenty': 12441,\n",
              " 'written': 17891,\n",
              " 'notes': 11092,\n",
              " 'search': 14192,\n",
              " 'nine': 10557,\n",
              " 'percent': 11831,\n",
              " 'leaving': 8530,\n",
              " 'behind': 1174,\n",
              " 'forever': 4932,\n",
              " 'the': 15907,\n",
              " 'themes': 15948,\n",
              " 'begin': 1160,\n",
              " 'change': 1973,\n",
              " 'esque': 4014,\n",
              " 'metal': 9748,\n",
              " 'give': 6590,\n",
              " 'way': 17302,\n",
              " 'purple': 12868,\n",
              " 'dungeons': 3675,\n",
              " 'green': 7042,\n",
              " 'glowing': 6663,\n",
              " 'scum': 14186,\n",
              " 'slime': 14714,\n",
              " 'slow': 14723,\n",
              " 'others': 11479,\n",
              " 'holes': 7469,\n",
              " 'ceiling': 1929,\n",
              " 'feeling': 4610,\n",
              " 'something': 14826,\n",
              " 'could': 2667,\n",
              " 'out': 11492,\n",
              " 'there': 15953,\n",
              " 'limited': 8880,\n",
              " 'amount': 517,\n",
              " 'started': 15123,\n",
              " 'encounters': 3841,\n",
              " 'fall': 4478,\n",
              " 'acts': 129,\n",
              " 'walls': 17157,\n",
              " 'open': 11401,\n",
              " 'specific': 14968,\n",
              " 'sometimes': 14853,\n",
              " 'gaps': 6249,\n",
              " 'stuck': 15394,\n",
              " 'walk': 17144,\n",
              " 'across': 103,\n",
              " 'gap': 6248,\n",
              " 'harmless': 7242,\n",
              " 'if': 7728,\n",
              " 'touch': 16435,\n",
              " 'three': 16131,\n",
              " 'health': 7292,\n",
              " 'big': 1308,\n",
              " 'moments': 9983,\n",
              " 'avoid': 888,\n",
              " 'running': 13977,\n",
              " 'hope': 7497,\n",
              " 'happen': 7197,\n",
              " 'empty': 3833,\n",
              " 'gives': 6626,\n",
              " 'dreadful': 3610,\n",
              " 'tear': 15805,\n",
              " 'quick': 12940,\n",
              " 'minute': 9854,\n",
              " 'stamina': 15090,\n",
              " 'monster': 10066,\n",
              " 'chance': 1965,\n",
              " 'catch': 1910,\n",
              " 'going': 6718,\n",
              " 'waiting': 17136,\n",
              " 'longer': 9014,\n",
              " 'hav': 7262,\n",
              " 'visibility': 17080,\n",
              " 'area': 709,\n",
              " 'tricks': 16532,\n",
              " 'turns': 16648,\n",
              " 'bright': 1541,\n",
              " 'enter': 3944,\n",
              " 'correct': 2636,\n",
              " 'combination': 2265,\n",
              " 'another': 565,\n",
              " 'darkness': 2953,\n",
              " 'revealed': 13606,\n",
              " 'merely': 9732,\n",
              " 'black': 1369,\n",
              " 'in': 7824,\n",
              " 'elevator': 3810,\n",
              " 'reminds': 13469,\n",
              " 'hang': 7195,\n",
              " 'coffee': 2221,\n",
              " 'break': 1524,\n",
              " 'balance': 1008,\n",
              " 'calm': 1738,\n",
              " 'tense': 15847,\n",
              " 'situations': 14647,\n",
              " 'keeps': 8242,\n",
              " 'expecting': 4342,\n",
              " 'anything': 627,\n",
              " 'hundred': 7665,\n",
              " 'offers': 11201,\n",
              " 'prize': 12702,\n",
              " 'box': 1502,\n",
              " 'jack': 8151,\n",
              " 'truth': 16576,\n",
              " 'told': 16380,\n",
              " 'goal': 6701,\n",
              " 'oriented': 11465,\n",
              " 'video': 17065,\n",
              " 'missed': 9871,\n",
              " 'mark': 9506,\n",
              " 'chased': 2042,\n",
              " 'means': 9643,\n",
              " 'threat': 16128,\n",
              " 'already': 389,\n",
              " 'perhaps': 11850,\n",
              " 'difficult': 3343,\n",
              " 'knowing': 8356,\n",
              " 'seven': 14371,\n",
              " 'hour': 7544,\n",
              " 'investment': 8033,\n",
              " 'grind': 7052,\n",
              " 'fear': 4574,\n",
              " 'long': 8990,\n",
              " 'endure': 3869,\n",
              " 'issue': 8075,\n",
              " 'edges': 3764,\n",
              " 'push': 12873,\n",
              " 'away': 897,\n",
              " 'corner': 2631,\n",
              " 'suppose': 15526,\n",
              " 'acceptable': 61,\n",
              " 'ups': 16895,\n",
              " 'interesting': 7989,\n",
              " 'thing': 15971,\n",
              " 'mini': 9832,\n",
              " 'looks': 9058,\n",
              " 'ghost': 6571,\n",
              " 'mall': 9407,\n",
              " 'shows': 14502,\n",
              " 'least': 8517,\n",
              " 'selling': 14308,\n",
              " 'make': 9308,\n",
              " 'easier': 3724,\n",
              " 'accept': 60,\n",
              " 'brings': 1550,\n",
              " 'beyond': 1300,\n",
              " 'cheap': 2048,\n",
              " 'often': 11210,\n",
              " 'far': 4510,\n",
              " 'repetitive': 13501,\n",
              " 'without': 17629,\n",
              " 'much': 10139,\n",
              " 'excitement': 4299,\n",
              " 'spooky house': 15048,\n",
              " 'first person': 4769,\n",
              " 'person perspective': 11869,\n",
              " 'even one': 4097,\n",
              " 'cardboard cutouts': 1819,\n",
              " 'makes good': 9377,\n",
              " 'find way': 4715,\n",
              " 'something could': 14828,\n",
              " 'limited amount': 8881,\n",
              " 'even game': 4066,\n",
              " 'no way': 10636,\n",
              " 'get see': 6491,\n",
              " 'get good': 6400,\n",
              " 'three times': 16137,\n",
              " 'pretty quick': 12663,\n",
              " 'break game': 1525,\n",
              " 'game makes': 5762,\n",
              " 'good balance': 6771,\n",
              " 'every two': 4215,\n",
              " 'in the': 7833,\n",
              " 'video games': 17067,\n",
              " 'get way': 6523,\n",
              " 'means no': 9647,\n",
              " 'turns game': 16649,\n",
              " 'game grind': 5638,\n",
              " 'points game': 12481,\n",
              " 'another issue': 577,\n",
              " 'issue game': 8076,\n",
              " 'game getting': 5620,\n",
              " 'getting stuck': 6565,\n",
              " 'get free': 6387,\n",
              " 'scary game': 14130,\n",
              " 'game get': 5618,\n",
              " 'thing game': 15980,\n",
              " 'mini game': 9833,\n",
              " 'game looks': 5745,\n",
              " 'looks like': 9065,\n",
              " 'well least': 17437,\n",
              " 'the best': 15909,\n",
              " 'selling point': 14309,\n",
              " 'point game': 12464,\n",
              " 'game free': 5598,\n",
              " 'free no': 5045,\n",
              " 'no means': 10604,\n",
              " 'make good': 9332,\n",
              " 'good game': 6801,\n",
              " 'makes easier': 9370,\n",
              " 'game brings': 5410,\n",
              " 'every often': 4195,\n",
              " 'without much': 17643,\n",
              " 'living': 8941,\n",
              " 'lately': 8452,\n",
              " 'funny': 5301,\n",
              " 'story': 15325,\n",
              " 'sad': 14011,\n",
              " 'luck': 9214,\n",
              " 'pop ups': 12503,\n",
              " 'like much': 8788,\n",
              " 'much not': 10186,\n",
              " 'not played': 10945,\n",
              " 'game like': 5729,\n",
              " 'fun story': 5271,\n",
              " 'good luck': 6824,\n",
              " 'reviewi': 13685,\n",
              " 'thought': 16115,\n",
              " 'would': 17784,\n",
              " 'cat': 1909,\n",
              " 'dos': 3535,\n",
              " 'operating': 11412,\n",
              " 'system': 15593,\n",
              " 'making': 9394,\n",
              " 'chilling': 2079,\n",
              " 'originally': 11474,\n",
              " 'was': 17276,\n",
              " 'idea': 7708,\n",
              " 'thought game': 16117,\n",
              " 'game would': 6119,\n",
              " 'would fun': 17815,\n",
              " 'play game': 12047,\n",
              " 'game not': 5815,\n",
              " 'suddenly': 15466,\n",
              " 'die': 3291,\n",
              " 'and': 536,\n",
              " 'ing': 7899,\n",
              " 'puppet': 12853,\n",
              " 'guy': 7146,\n",
              " 'mask': 9517,\n",
              " 'along': 367,\n",
              " 'this': 16087,\n",
              " 'not scary': 10997,\n",
              " 'get scared': 6490,\n",
              " 'comes along': 2290,\n",
              " 'this not': 16090,\n",
              " 'dont': 3492,\n",
              " 'let': 8576,\n",
              " 'guard': 7107,\n",
              " 'start': 15110,\n",
              " 'crap': 2764,\n",
              " 'taken': 15677,\n",
              " 'dont let': 3506,\n",
              " 'start getting': 15113,\n",
              " 'reviewgreat': 13676,\n",
              " 'always': 475,\n",
              " 'confused': 2468,\n",
              " 'complete': 2402,\n",
              " 'jumpscares': 8207,\n",
              " 'confusing': 2469,\n",
              " 'compelling': 2370,\n",
              " 'mystery': 10248,\n",
              " 'pull': 12841,\n",
              " 'reviewgreat game': 13677,\n",
              " 'game always': 5358,\n",
              " 'away game': 898,\n",
              " 'name': 10259,\n",
              " 'says': 14111,\n",
              " 'fooled': 4910,\n",
              " 'seemingly': 14280,\n",
              " 'normal': 10665,\n",
              " 'title': 16359,\n",
              " 'any': 603,\n",
              " 'plays': 12410,\n",
              " 'including': 7845,\n",
              " 'say': 14065,\n",
              " 'entertainment': 3951,\n",
              " 'not get': 10821,\n",
              " 'game know': 5702,\n",
              " 'play it': 12063,\n",
              " 'plays game': 12411,\n",
              " 'game including': 5676,\n",
              " 'say free': 14072,\n",
              " 'dirty': 3371,\n",
              " 'clothing': 2196,\n",
              " 'short': 14467,\n",
              " 'simple': 14555,\n",
              " 'builds': 1625,\n",
              " 'plus': 12448,\n",
              " 'would make': 17841,\n",
              " 'short time': 14475,\n",
              " 'time great': 16238,\n",
              " 'simple game': 14559,\n",
              " 'plus free': 12449,\n",
              " 'free not': 5046,\n",
              " 'not go': 10826,\n",
              " 'go wrong': 6700,\n",
              " 'cut': 2901,\n",
              " 'outs': 11504,\n",
              " 'escape': 3999,\n",
              " 'toes': 16373,\n",
              " 'beware': 1299,\n",
              " 'yes': 17966,\n",
              " 'first get': 4755,\n",
              " 'cardboard cut': 1818,\n",
              " 'cut outs': 2902,\n",
              " 'exactly': 4276,\n",
              " 'think': 16045,\n",
              " 'style': 15426,\n",
              " 'lots': 9150,\n",
              " 'references': 13377,\n",
              " 'popular': 12507,\n",
              " 'definitely': 3098,\n",
              " 'checking': 2062,\n",
              " 'else': 3816,\n",
              " 'positive': 12527,\n",
              " 'definitely worth': 3106,\n",
              " 'worth checking': 17756,\n",
              " 'awesome': 902,\n",
              " 'may': 9593,\n",
              " 'seem': 14273,\n",
              " 'trust': 16573,\n",
              " 'af': 253,\n",
              " 'also': 402,\n",
              " 'shot': 14480,\n",
              " 'spooked': 15046,\n",
              " 'wish': 17611,\n",
              " 'suggest': 15472,\n",
              " 'rest': 13575,\n",
              " 'hunt': 7674,\n",
              " 'said': 14024,\n",
              " 'want': 17165,\n",
              " 'looking': 9045,\n",
              " 'game awesome': 5375,\n",
              " 'may seem': 9604,\n",
              " 'first rooms': 4775,\n",
              " 'really great': 13188,\n",
              " 'game also': 5356,\n",
              " 'also free': 419,\n",
              " 'free really': 5057,\n",
              " 'really think': 13236,\n",
              " 'think give': 16058,\n",
              " 'give game': 6602,\n",
              " 'game shot': 5956,\n",
              " 'get really': 6479,\n",
              " 'suggest not': 15475,\n",
              " 'not play': 10943,\n",
              " 'game first': 5587,\n",
              " 'like said': 8820,\n",
              " 'game want': 6092,\n",
              " 'not looking': 10894,\n",
              " 'given': 6622,\n",
              " 'jumps': 8205,\n",
              " 'starting': 15135,\n",
              " 'progresses': 12766,\n",
              " 'harder': 7234,\n",
              " 'tension': 15848,\n",
              " 'indeed': 7865,\n",
              " 'game hour': 5664,\n",
              " 'pretty good': 12654,\n",
              " 'starting game': 15137,\n",
              " 'game progresses': 5878,\n",
              " 'innocent': 7918,\n",
              " 'glad': 6638,\n",
              " 'skeleton': 14653,\n",
              " 'got': 6891,\n",
              " 'laying': 8483,\n",
              " 'demon': 3133,\n",
              " 'ever': 4143,\n",
              " 'ends': 3867,\n",
              " 'tons': 16389,\n",
              " 'types': 16695,\n",
              " 'kids': 8264,\n",
              " 'enjoy': 3895,\n",
              " 'alone': 364,\n",
              " 'boy': 1505,\n",
              " 'joking': 8185,\n",
              " 'actually': 135,\n",
              " 'gave': 6266,\n",
              " 'game may': 5772,\n",
              " 'glad see': 6640,\n",
              " 'point not': 12467,\n",
              " 'running away': 13979,\n",
              " 'looking like': 9054,\n",
              " 'like made': 8771,\n",
              " 'not would': 11082,\n",
              " 'would say': 17864,\n",
              " 'enjoy not': 3903,\n",
              " 'oh boy': 11219,\n",
              " 'game actually': 5339,\n",
              " 'man': 9410,\n",
              " 'freak': 5016,\n",
              " 'evil': 4267,\n",
              " 'suck': 15458,\n",
              " 'childish': 2076,\n",
              " 'appearance': 668,\n",
              " 'fool': 4909,\n",
              " 'bad': 965,\n",
              " 'get away': 6338,\n",
              " 'though not': 16107,\n",
              " 'not let': 10882,\n",
              " 'not bad': 10699,\n",
              " 'bad one': 983,\n",
              " 'say play': 14094,\n",
              " 'reviewthis': 13758,\n",
              " 'currently': 2877,\n",
              " 'reached': 13101,\n",
              " 'developed': 3213,\n",
              " 'built': 1626,\n",
              " 'its': 8141,\n",
              " 'survival': 15560,\n",
              " 'involves': 8045,\n",
              " 'roaming': 13874,\n",
              " 'aspects': 794,\n",
              " 'place': 11945,\n",
              " 'nor': 10663,\n",
              " 'fit': 4795,\n",
              " 'amazing': 493,\n",
              " 'effective': 3776,\n",
              " 'quite': 12953,\n",
              " 'enjoyed': 3912,\n",
              " 'easter': 3734,\n",
              " 'eggs': 3787,\n",
              " 'alien': 320,\n",
              " 'five': 4798,\n",
              " 'nights': 10556,\n",
              " 'knows': 8360,\n",
              " 'added': 182,\n",
              " 'stars': 15109,\n",
              " 'reviewthis game': 13759,\n",
              " 'game bit': 5402,\n",
              " 'game currently': 5489,\n",
              " 'also quite': 452,\n",
              " 'added game': 184,\n",
              " 'imo': 7788,\n",
              " 'horrible': 7523,\n",
              " 'beggining': 1159,\n",
              " 'thinking': 16079,\n",
              " 'real': 13117,\n",
              " 'encounter': 3839,\n",
              " 'began': 1157,\n",
              " 'feel': 4592,\n",
              " 'everywhere': 4263,\n",
              " 'anymore': 606,\n",
              " 'wether': 17474,\n",
              " 'continue': 2556,\n",
              " 'must': 10231,\n",
              " 'one best': 11267,\n",
              " 'horror games': 7530,\n",
              " 'well not': 17447,\n",
              " 'know something': 8348,\n",
              " 'not know': 10876,\n",
              " 'recommend free': 13321,\n",
              " 'instances': 7946,\n",
              " 'gaming': 6240,\n",
              " 'exceptions': 4292,\n",
              " 'hunting': 7685,\n",
              " 'wooden': 17681,\n",
              " 'monsters': 10068,\n",
              " 'appear': 667,\n",
              " 'fight': 4651,\n",
              " 'learn': 8501,\n",
              " 'moves': 10123,\n",
              " 'strikes': 15376,\n",
              " 'however': 7609,\n",
              " 'mean': 9627,\n",
              " 'stop': 15307,\n",
              " 'showing': 14500,\n",
              " 'used': 16933,\n",
              " 'likely': 8871,\n",
              " 'springs': 15057,\n",
              " 'front': 5133,\n",
              " 'abomination': 33,\n",
              " 'not really': 10971,\n",
              " 'well many': 17444,\n",
              " 'you not': 17998,\n",
              " 'not fight': 10796,\n",
              " 'away not': 899,\n",
              " 'not however': 10852,\n",
              " 'even got': 4073,\n",
              " 'likely get': 8872,\n",
              " 'true': 16565,\n",
              " 'important': 7799,\n",
              " 'generator': 6304,\n",
              " 'importantly': 7803,\n",
              " 'teaches': 15775,\n",
              " 'math': 9574,\n",
              " 'game learn': 5717,\n",
              " 'important things': 7802,\n",
              " 'things like': 16023,\n",
              " 'make things': 9358,\n",
              " 'reviewan': 13641,\n",
              " 'quirky': 12948,\n",
              " 'entire': 3956,\n",
              " 'complex': 2424,\n",
              " 'occasionally': 11177,\n",
              " 'despite': 3182,\n",
              " 'variations': 16998,\n",
              " 'require': 13525,\n",
              " 'simply': 14566,\n",
              " 'fast': 4541,\n",
              " 'possible': 12535,\n",
              " 'solving': 14813,\n",
              " 'puzzles': 12897,\n",
              " 'obtaining': 11171,\n",
              " 'keys': 8254,\n",
              " 'proceed': 12738,\n",
              " 'giving': 6634,\n",
              " 'player': 12238,\n",
              " 'reason': 13254,\n",
              " 'explore': 4385,\n",
              " 'unless': 16797,\n",
              " 'forced': 4922,\n",
              " 'characteristics': 2020,\n",
              " 'feels': 4615,\n",
              " 'chase': 2041,\n",
              " 'overcome': 11530,\n",
              " 'hours': 7551,\n",
              " 'completion': 2422,\n",
              " 'fortunately': 4962,\n",
              " 'spots': 15052,\n",
              " 'allows': 339,\n",
              " 'necessary': 10290,\n",
              " 'difficulty': 3348,\n",
              " 'wise': 17608,\n",
              " 'hard': 7212,\n",
              " 'avoided': 890,\n",
              " 'hassle': 7248,\n",
              " 'entirely': 3963,\n",
              " 'miss': 9870,\n",
              " 'depending': 3141,\n",
              " 'efficient': 3780,\n",
              " 'leaves': 8529,\n",
              " 'error': 3992,\n",
              " 'enemies': 3870,\n",
              " 'tend': 15843,\n",
              " 'deal': 2992,\n",
              " 'high': 7386,\n",
              " 'damage': 2925,\n",
              " 'manage': 9419,\n",
              " 'enough': 3924,\n",
              " 'depends': 3143,\n",
              " 'sprinting': 15059,\n",
              " 'reaching': 13103,\n",
              " 'regards': 13402,\n",
              " 'atmosphere': 831,\n",
              " 'blend': 1388,\n",
              " 'screenshots': 14167,\n",
              " 'consists': 2508,\n",
              " 'mainly': 9288,\n",
              " 'cutesy': 2905,\n",
              " 'characters': 2021,\n",
              " 'dialogue': 3278,\n",
              " 'throughout': 16145,\n",
              " 'become': 1140,\n",
              " 'increasingly': 7856,\n",
              " 'rarer': 13069,\n",
              " 'portion': 12520,\n",
              " 'surprisingly': 15553,\n",
              " 'disturbing': 3432,\n",
              " 'occasional': 11176,\n",
              " 'believe': 1182,\n",
              " 'successful': 15453,\n",
              " 'opinion': 11414,\n",
              " 'highest': 7413,\n",
              " 'seeing': 14269,\n",
              " 'environments': 3973,\n",
              " 'come': 2275,\n",
              " 'all': 323,\n",
              " 'fan': 4496,\n",
              " 'adds': 208,\n",
              " 'overall': 11512,\n",
              " 'unique': 16775,\n",
              " 'entire game': 3957,\n",
              " 'going one': 6739,\n",
              " 'one room': 11341,\n",
              " 'fast possible': 4550,\n",
              " 'game feels': 5578,\n",
              " 'feels like': 4621,\n",
              " 'like long': 8767,\n",
              " 'get repetitive': 6482,\n",
              " 'short game': 14470,\n",
              " 'around hours': 737,\n",
              " 'take break': 15651,\n",
              " 'not hard': 10842,\n",
              " 'however game': 7612,\n",
              " 'high damage': 7389,\n",
              " 'one hit': 11306,\n",
              " 'hit kill': 7448,\n",
              " 'manage get': 9420,\n",
              " 'get close': 6358,\n",
              " 'close enough': 2183,\n",
              " 'not find': 10798,\n",
              " 'believe game': 1183,\n",
              " 'game seeing': 5940,\n",
              " 'games would': 6237,\n",
              " 'say give': 14076,\n",
              " 'least try': 8525,\n",
              " 'try different': 16580,\n",
              " 'overall experience': 11514,\n",
              " 'starts': 15141,\n",
              " 'rather': 13078,\n",
              " 'quickly': 12944,\n",
              " 'takes': 15679,\n",
              " 'faults': 4560,\n",
              " 'ending': 3862,\n",
              " 'check': 2058,\n",
              " 'not without': 11076,\n",
              " 'let not': 8587,\n",
              " 'well could': 17418,\n",
              " 'that said': 15896,\n",
              " 'check game': 2060,\n",
              " 'game especially': 5546,\n",
              " 'especially free': 4006,\n",
              " 'minimum': 9841,\n",
              " 'fps': 4988,\n",
              " 'tired': 16354,\n",
              " 'glitching': 6655,\n",
              " 'loading': 8951,\n",
              " 'laggy': 8391,\n",
              " 'decent': 3014,\n",
              " 'pc': 11720,\n",
              " 'good need': 6829,\n",
              " 'need much': 10319,\n",
              " 'run fps': 13965,\n",
              " 'system game': 15601,\n",
              " 'game laggy': 5708,\n",
              " 'pretty decent': 12647,\n",
              " 'everything': 4240,\n",
              " 'seems': 14281,\n",
              " 'alright': 399,\n",
              " 'gotta': 6930,\n",
              " 'fine': 4720,\n",
              " 'popped': 12504,\n",
              " 'found': 4972,\n",
              " 'read': 13109,\n",
              " 'turned': 16645,\n",
              " 'sent': 14325,\n",
              " 'pits': 11938,\n",
              " ...}"
            ]
          },
          "metadata": {
            "tags": []
          },
          "execution_count": 17
        }
      ]
    },
    {
      "cell_type": "markdown",
      "metadata": {
        "id": "GSpOZMFQment"
      },
      "source": [
        "## Train Test split"
      ]
    },
    {
      "cell_type": "code",
      "metadata": {
        "colab": {
          "base_uri": "https://localhost:8080/"
        },
        "id": "fPJUQ4JomptR",
        "outputId": "d40f7278-f5bb-481c-ce45-52b5ef476642"
      },
      "source": [
        "train_idx, test_idx = train_test_split(np.arange(review_data.shape[0]), test_size=0.3, shuffle=True, random_state=78)\n",
        "\n",
        "len(train_idx), len(test_idx)\n",
        "print(\"Number of training examples:{}\".format(len(train_idx)))\n",
        "print(\"Number of testing examples:{}\".format(len(test_idx)))"
      ],
      "execution_count": 19,
      "outputs": [
        {
          "output_type": "stream",
          "text": [
            "Number of training examples:12245\n",
            "Number of testing examples:5249\n"
          ],
          "name": "stdout"
        }
      ]
    },
    {
      "cell_type": "markdown",
      "metadata": {
        "id": "_ThLijcdn4p9"
      },
      "source": [
        "I have a 30% test size to 70% training size which gives me 12,245 training samples and 5249 testing samples."
      ]
    },
    {
      "cell_type": "code",
      "metadata": {
        "colab": {
          "base_uri": "https://localhost:8080/"
        },
        "id": "Ex1NTjFWnoqB",
        "outputId": "f84db96d-a7e5-4381-80f7-3cdc305b380f"
      },
      "source": [
        "#training data is put into tables for model training\n",
        "X_train = X[train_idx]\n",
        "X2_train = X2[train_idx]\n",
        "y_train = y[train_idx]\n",
        "\n",
        "X_test = X[test_idx]\n",
        "X2_test = X2[test_idx]\n",
        "y_test = y[test_idx]\n",
        "\n",
        "print(\"Training data: X_train : {}, y_train : {}\".format(X_train.shape, y_train.shape))\n",
        "print(\"Testing data: X_test : {}, y_test : {}\".format(X_test.shape, y_test.shape))"
      ],
      "execution_count": 20,
      "outputs": [
        {
          "output_type": "stream",
          "text": [
            "Training data: X_train : (12245, 18039), y_train : (12245,)\n",
            "Testing data: X_test : (5249, 18039), y_test : (5249,)\n"
          ],
          "name": "stdout"
        }
      ]
    },
    {
      "cell_type": "markdown",
      "metadata": {
        "id": "Ah3OuhkelRjA"
      },
      "source": [
        "## Classifier: Logistic Regression"
      ]
    },
    {
      "cell_type": "code",
      "metadata": {
        "id": "E_5UMRuBlQTg"
      },
      "source": [
        "# fit a logistic regression classifier on the training data use default settings\n",
        "lr_clf = LogisticRegression()\n",
        "lr_clf.fit(X_train, y_train)\n",
        "\n",
        "lr_clf2 = LogisticRegression()\n",
        "lr_clf2.fit(X2_train, y_train)\n",
        "\n",
        "# make prediction on testing data\n",
        "y_pred_test = lr_clf.predict(X_test)\n",
        "y_predprob_test = lr_clf.predict_proba(X_test)\n",
        "y2_pred_test = lr_clf2.predict(X2_test)\n",
        "y2_predprob_test = lr_clf2.predict_proba(X2_test)"
      ],
      "execution_count": 21,
      "outputs": []
    },
    {
      "cell_type": "markdown",
      "metadata": {
        "id": "A2MdJz5uiPmd"
      },
      "source": [
        "# Evaluation"
      ]
    },
    {
      "cell_type": "markdown",
      "metadata": {
        "id": "R6sYC8M9WPZi"
      },
      "source": [
        "## Precision, Recall, and F1-Score for ngram(1,1)"
      ]
    },
    {
      "cell_type": "code",
      "metadata": {
        "colab": {
          "base_uri": "https://localhost:8080/"
        },
        "id": "Z2fQpWlwiSUn",
        "outputId": "47e02f73-a7a7-4c13-ab10-b60ed4a96395"
      },
      "source": [
        "print(classification_report(y_test, y2_pred_test))"
      ],
      "execution_count": 24,
      "outputs": [
        {
          "output_type": "stream",
          "text": [
            "              precision    recall  f1-score   support\n",
            "\n",
            "           0       0.83      0.80      0.81      2249\n",
            "           1       0.86      0.87      0.86      3000\n",
            "\n",
            "    accuracy                           0.84      5249\n",
            "   macro avg       0.84      0.84      0.84      5249\n",
            "weighted avg       0.84      0.84      0.84      5249\n",
            "\n"
          ],
          "name": "stdout"
        }
      ]
    },
    {
      "cell_type": "markdown",
      "metadata": {
        "id": "Qhtrsi9gWePt"
      },
      "source": [
        "## Precision, Recall, and F1-Score for ngram(1,2)"
      ]
    },
    {
      "cell_type": "code",
      "metadata": {
        "colab": {
          "base_uri": "https://localhost:8080/"
        },
        "id": "Ck6UuGERWEfB",
        "outputId": "e8d66ce8-e579-4be3-aba7-61a70758220a"
      },
      "source": [
        "print(classification_report(y_test, y_pred_test))"
      ],
      "execution_count": 25,
      "outputs": [
        {
          "output_type": "stream",
          "text": [
            "              precision    recall  f1-score   support\n",
            "\n",
            "           0       0.85      0.82      0.83      2249\n",
            "           1       0.87      0.89      0.88      3000\n",
            "\n",
            "    accuracy                           0.86      5249\n",
            "   macro avg       0.86      0.86      0.86      5249\n",
            "weighted avg       0.86      0.86      0.86      5249\n",
            "\n"
          ],
          "name": "stdout"
        }
      ]
    },
    {
      "cell_type": "markdown",
      "metadata": {
        "id": "32Kn32_jWvG0"
      },
      "source": [
        "As we can see here, there is improvement over using ngram(1,2) rather than ngram(1,1). The rest of the sections in this notebook will only be looking at ngram(1,2) testing parameters."
      ]
    },
    {
      "cell_type": "markdown",
      "metadata": {
        "id": "MEzuPXsy7NXY"
      },
      "source": [
        "## Cross Validation"
      ]
    },
    {
      "cell_type": "code",
      "metadata": {
        "colab": {
          "base_uri": "https://localhost:8080/"
        },
        "id": "0L678a0pi7uH",
        "outputId": "bfe54cb9-2835-4750-c648-2e2435c4f07a"
      },
      "source": [
        "from sklearn.model_selection import cross_val_score\n",
        "\n",
        "scores = cross_val_score(lr_clf, X, y, cv=5, scoring='precision')\n",
        "print(scores)"
      ],
      "execution_count": 26,
      "outputs": [
        {
          "output_type": "stream",
          "text": [
            "[0.80009407 0.82235108 0.77505882 0.82988248 0.8380903 ]\n"
          ],
          "name": "stdout"
        }
      ]
    },
    {
      "cell_type": "markdown",
      "metadata": {
        "id": "K7WQHv4AjTr3"
      },
      "source": [
        "## ROC Curve"
      ]
    },
    {
      "cell_type": "code",
      "metadata": {
        "id": "Ze_T-EYPjJX6"
      },
      "source": [
        "from sklearn.metrics import roc_curve, auc\n",
        "\n",
        "fpr, tpr, thresholds = roc_curve(y_true = y_test, y_score = y_predprob_test[:,1], pos_label=1)\n",
        "roc_auc = auc(fpr, tpr) # area under ROC curve"
      ],
      "execution_count": 27,
      "outputs": []
    },
    {
      "cell_type": "code",
      "metadata": {
        "colab": {
          "base_uri": "https://localhost:8080/",
          "height": 295
        },
        "id": "vANR9axBjMAs",
        "outputId": "b0768072-62a5-4fa8-93bc-8aa1c1a3a0af"
      },
      "source": [
        "plt.figure()\n",
        "lw = 2\n",
        "plt.plot(fpr, tpr, color='darkorange', lw=lw, label='ROC curve (area = %0.2f)' % roc_auc)\n",
        "plt.plot([0, 1], [0, 1], color='navy', lw=lw, linestyle='--')\n",
        "plt.xlim([0.0, 1.0])\n",
        "plt.ylim([0.0, 1.05])\n",
        "plt.xlabel('False Positive Rate')\n",
        "plt.ylabel('True Positive Rate')\n",
        "plt.title('ROC (Receiver operating characteristic) curve')\n",
        "plt.legend(loc=\"lower right\")\n",
        "plt.show()"
      ],
      "execution_count": 28,
      "outputs": [
        {
          "output_type": "display_data",
          "data": {
            "image/png": "[encoded data removed]",
            "text/plain": [
              "<Figure size 432x288 with 1 Axes>"
            ]
          },
          "metadata": {
            "tags": [],
            "needs_background": "light"
          }
        }
      ]
    },
    {
      "cell_type": "markdown",
      "metadata": {
        "id": "n0nSNoxNkv0Z"
      },
      "source": [
        "## Precision Recall Curve"
      ]
    },
    {
      "cell_type": "code",
      "metadata": {
        "colab": {
          "base_uri": "https://localhost:8080/",
          "height": 295
        },
        "id": "SR1lu4wEk0UA",
        "outputId": "4cfce656-4aca-40ec-b8fa-9c10dfa2f9f2"
      },
      "source": [
        "from sklearn.metrics import precision_recall_curve\n",
        "from sklearn.metrics import average_precision_score\n",
        "precision, recall, thresholds = precision_recall_curve(y_true=y_test, probas_pred=y_predprob_test[:,1], pos_label=1)\n",
        "\n",
        "plt.plot(recall, precision, color='darkorange', lw=lw, label='Average precision recall score: %0.2f' % average_precision_score(y_test, y_predprob_test[:,1]))\n",
        "\n",
        "plt.title('Precision recall curve')\n",
        "plt.xlabel('Recall')\n",
        "plt.ylabel('Precision')\n",
        "plt.legend()\n",
        "plt.show()"
      ],
      "execution_count": 29,
      "outputs": [
        {
          "output_type": "display_data",
          "data": {
            "image/png": "[encoded data removed]",
            "text/plain": [
              "<Figure size 432x288 with 1 Axes>"
            ]
          },
          "metadata": {
            "tags": [],
            "needs_background": "light"
          }
        }
      ]
    },
    {
      "cell_type": "markdown",
      "metadata": {
        "id": "G7myyp2mqLgY"
      },
      "source": [
        "# Interpretation"
      ]
    },
    {
      "cell_type": "markdown",
      "metadata": {
        "id": "wNFoq_OTE5MU"
      },
      "source": [
        "## Top Positive Features"
      ]
    },
    {
      "cell_type": "code",
      "metadata": {
        "colab": {
          "base_uri": "https://localhost:8080/"
        },
        "id": "H_Hk04-pqSqX",
        "outputId": "077ae35b-8b27-44e8-c23e-d77cfb920557"
      },
      "source": [
        "feature_to_coef = {word: float(\"%.3f\" % coef) for word, coef in zip(vectorizer.get_feature_names(), lr_clf.coef_[0])}\n",
        "\n",
        "print(\"Top positive features:\")\n",
        "sorted(feature_to_coef.items(), key=lambda x: x[1], reverse=True)[:10]"
      ],
      "execution_count": 30,
      "outputs": [
        {
          "output_type": "stream",
          "text": [
            "Top positive features:\n"
          ],
          "name": "stdout"
        },
        {
          "output_type": "execute_result",
          "data": {
            "text/plain": [
              "[('fantastic', 1.377),\n",
              " ('addictive', 1.367),\n",
              " ('not pay', 1.25),\n",
              " ('scared', 1.243),\n",
              " ('definitely', 1.192),\n",
              " ('ign', 1.17),\n",
              " ('addicted', 1.165),\n",
              " ('ccg', 1.141),\n",
              " ('rewarding', 1.138),\n",
              " ('alpha', 1.134)]"
            ]
          },
          "metadata": {
            "tags": []
          },
          "execution_count": 30
        }
      ]
    },
    {
      "cell_type": "markdown",
      "metadata": {
        "id": "nC1FZT_oDrSS"
      },
      "source": [
        "As we can see here, the top positive features are words such as fantastic, addictive, and not-pay which makes sense for positive reccomendations."
      ]
    },
    {
      "cell_type": "markdown",
      "metadata": {
        "id": "8JDWOnnTE-I2"
      },
      "source": [
        "## Top Negative Features"
      ]
    },
    {
      "cell_type": "code",
      "metadata": {
        "colab": {
          "base_uri": "https://localhost:8080/"
        },
        "id": "Ly-kpgydqi82",
        "outputId": "fc9ae3eb-1ac8-4807-f2f6-7584ed4998e3"
      },
      "source": [
        "print(\"Top negative features:\")\n",
        "sorted(feature_to_coef.items(), key=lambda x: x[1], reverse=False)[:10]"
      ],
      "execution_count": 31,
      "outputs": [
        {
          "output_type": "stream",
          "text": [
            "Top negative features:\n"
          ],
          "name": "stdout"
        },
        {
          "output_type": "execute_result",
          "data": {
            "text/plain": [
              "[('not recommend', -2.775),\n",
              " ('not worth', -2.21),\n",
              " ('worst', -1.842),\n",
              " ('ruined', -1.628),\n",
              " ('poor', -1.524),\n",
              " ('terrible', -1.521),\n",
              " ('wtf', -1.49),\n",
              " ('gaijin', -1.401),\n",
              " ('sad', -1.348),\n",
              " ('ridiculous', -1.339)]"
            ]
          },
          "metadata": {
            "tags": []
          },
          "execution_count": 31
        }
      ]
    },
    {
      "cell_type": "markdown",
      "metadata": {
        "id": "zOBrNH7cEKks"
      },
      "source": [
        "For negative reviews, the top negative feature is the reason why I included bi-grams because not and recommend can mean two complete different sentiments if they are separate. The other features also make sense for negative reviews."
      ]
    },
    {
      "cell_type": "markdown",
      "metadata": {
        "id": "mfmwt_ECFQcg"
      },
      "source": [
        "## Mislabled Review Analysis"
      ]
    },
    {
      "cell_type": "code",
      "metadata": {
        "id": "Ozt4v2khbRMl"
      },
      "source": [
        "#sets review_data to test_idx so we can see what reviews are being tested\n",
        "review_data_test = review_data\n",
        "review_data_test = review_data_test.iloc[test_idx]"
      ],
      "execution_count": 32,
      "outputs": []
    },
    {
      "cell_type": "code",
      "metadata": {
        "colab": {
          "base_uri": "https://localhost:8080/",
          "height": 484
        },
        "id": "gj3XsoLGmhG6",
        "outputId": "68d177c3-060b-4203-87d5-e9e12911d570"
      },
      "source": [
        "#A look at the mislabeled reviews\n",
        "review_data_test['pred_label'] = y_pred_test\n",
        "review_data_test.head(3)[['user_review','label','pred_label']]\n",
        "review_data_test[review_data_test['label'] != review_data_test['pred_label']].head()[['user_review','label','pred_label']]"
      ],
      "execution_count": 33,
      "outputs": [
        {
          "output_type": "execute_result",
          "data": {
            "text/html": [
              "<div>\n",
              "<style scoped>\n",
              "    .dataframe tbody tr th:only-of-type {\n",
              "        vertical-align: middle;\n",
              "    }\n",
              "\n",
              "    .dataframe tbody tr th {\n",
              "        vertical-align: top;\n",
              "    }\n",
              "\n",
              "    .dataframe thead th {\n",
              "        text-align: right;\n",
              "    }\n",
              "</style>\n",
              "<table border=\"1\" class=\"dataframe\">\n",
              "  <thead>\n",
              "    <tr style=\"text-align: right;\">\n",
              "      <th></th>\n",
              "      <th>user_review</th>\n",
              "      <th>label</th>\n",
              "      <th>pred_label</th>\n",
              "    </tr>\n",
              "  </thead>\n",
              "  <tbody>\n",
              "    <tr>\n",
              "      <th>11626</th>\n",
              "      <td>Early Access Reviewonly played a few min of this game and they need work on it and a hack shield if they dont get one hackers will ruin the game other than that it was fun and ill continue to play this maybe they will advance it futher</td>\n",
              "      <td>1</td>\n",
              "      <td>0</td>\n",
              "    </tr>\n",
              "    <tr>\n",
              "      <th>11836</th>\n",
              "      <td>Feels and plays like an old game.Combat feels weird and autopath is even weirder.Performances are pretty bad even on high end machines.Game map is huge but the world feels so empty and dull.Can't believe people really paid to enter EA and beta test this game.Plenty of better MMORPG out there, this is below average at best.</td>\n",
              "      <td>0</td>\n",
              "      <td>1</td>\n",
              "    </tr>\n",
              "    <tr>\n",
              "      <th>15722</th>\n",
              "      <td>Early Access ReviewAfter giving this game a pretty serious bit of time over the last month I have to sadly give it a thumbs down as a PC game. Now as for on mobile devices Id say its standard play with a solid art style. But for those of us on PCs here on steam  as maybe a pure ftp game its an ok casual time waster.However the game is thick with micro transactions. It costs to skip many hour long( sometimes day long) crafting times.It costs for many cosmetic rewards you still have to first earn the right to use via game play. Now the company wanting money is not some sin. But consider this. for the ultimate guardian pack they want 50 bucks. You get a few unique cosmetics, some extra storage a butt load of their dragon crystal points that still wont get you more then a few of the pricier point only in game items.Now consider a classic but high quality pay once play forever fully finished MMO like Guild Wars. for 30 bucks you get the classic campaign trilolgy and for another 20 the eye of the north expansion. While old GW is far from dated. the graphics are still eye catchingly lovely, and easily destroy the cartoon style of this game. Game play wise, sure GW does especially during its lowbie levels use  common collect and fetch quest systems, but also has rich virbant stories, and many quests that demand the use of ones brain or at least reading the comprehensive wiki to develop winning strategies.While I can see dabbling in this game from time to time, and using it as a chat room game, the moment I start thinking of spending a cent it loses out to many other games. Many of which I can get many hours of play in for a much more modest price.Sadly this company seems more about drawing in a fan base that they can sell silly RL merchendise like shirts, novelty hats, and primitive physical calenders all with in game cosmetic items as part of the deal, to make their money. It feels like they are wasting alot of their development energy on limited time events, exclusive cosmetics that require buying some item that will act as free advertisment for them, and very little really spent on content or QoL improvments.So while if I could Id rate it as an ok entry into mobile games, for steam pc gamers we just have too many better options to waste time or risk money on an EAG that shows little real potential to rival even old pc MMO like classic Guild Wars.Soif your looking for a pure FTP with no intent to spend then sure give it some time waster hours, otherwise invest your time and especially your money in something worthy of it.</td>\n",
              "      <td>0</td>\n",
              "      <td>1</td>\n",
              "    </tr>\n",
              "    <tr>\n",
              "      <th>10076</th>\n",
              "      <td>I dont get it why peopel are always â™¥â™¥â™¥â™¥â™¥ing about you need to  have alicense for evrythingSure you need  memebership, to enjoy  evrything, but 3 months of membership is not thate xpensive.These days evrybody want evrything for free.And with teh changes  made for the free part of teh game, the animals are now on a rotating base.So if you have patiance you can have a crack at evry animal, also with teh basic  items you get you can shoot evryanimal. that is in teh rotation, so no you dont have to buy all weapons.This game has been around for many years, if it is so bad as most  reviuw writers say.Why does it have so many members, me included, if its that bad ?peopel complaining after only playing 10 minutes, is just bad, give teh game a chance.I definatly have my fun from it and i enjoy it very much,</td>\n",
              "      <td>1</td>\n",
              "      <td>0</td>\n",
              "    </tr>\n",
              "    <tr>\n",
              "      <th>13277</th>\n",
              "      <td>The modes that are autoplayed by your computer have some serious flaws . Like seriously this computer has no idea what to do! I've seen my monster go BACK to kill a summoned totem insead of attacking a monster! Also Rambo ALWAYS uses his ultimate on the  monster with the lowest HP insted of attacking grouped up monsters! Monster attacking summonmed units with priority instead of killing off another monster... THose are some serious problems in my opinion. This is tactical monsters  yet there's no tactic in the computer's gameplay...</td>\n",
              "      <td>1</td>\n",
              "      <td>0</td>\n",
              "    </tr>\n",
              "  </tbody>\n",
              "</table>\n",
              "</div>"
            ],
            "text/plain": [
              "                                                                                                                                                                                                                                                                                                                                                                                                                                                                                                                                                                                                                                                                                                                                                                                                                                                                                                                                                                                                                                                                                                                                                                                                                                                                                                                                                                                                                                                                                                                                                                                                                                                                                                                                                                                                                                                                                                                                                                                                                                                                                                                                                                                                                                                                                                                                                                                                                                                                                                                                                                                                                                                             user_review  ...  pred_label\n",
              "11626  Early Access Reviewonly played a few min of this game and they need work on it and a hack shield if they dont get one hackers will ruin the game other than that it was fun and ill continue to play this maybe they will advance it futher                                                                                                                                                                                                                                                                                                                                                                                                                                                                                                                                                                                                                                                                                                                                                                                                                                                                                                                                                                                                                                                                                                                                                                                                                                                                                                                                                                                                                                                                                                                                                                                                                                                                                                                                                                                                                                                                                                                                                                                                                                                                                                                                                                                                                                                                                                                                                                                                                        ...  0         \n",
              "11836  Feels and plays like an old game.Combat feels weird and autopath is even weirder.Performances are pretty bad even on high end machines.Game map is huge but the world feels so empty and dull.Can't believe people really paid to enter EA and beta test this game.Plenty of better MMORPG out there, this is below average at best.                                                                                                                                                                                                                                                                                                                                                                                                                                                                                                                                                                                                                                                                                                                                                                                                                                                                                                                                                                                                                                                                                                                                                                                                                                                                                                                                                                                                                                                                                                                                                                                                                                                                                                                                                                                                                                                                                                                                                                                                                                                                                                                                                                                                                                                                                                                               ...  1         \n",
              "15722  Early Access ReviewAfter giving this game a pretty serious bit of time over the last month I have to sadly give it a thumbs down as a PC game. Now as for on mobile devices Id say its standard play with a solid art style. But for those of us on PCs here on steam  as maybe a pure ftp game its an ok casual time waster.However the game is thick with micro transactions. It costs to skip many hour long( sometimes day long) crafting times.It costs for many cosmetic rewards you still have to first earn the right to use via game play. Now the company wanting money is not some sin. But consider this. for the ultimate guardian pack they want 50 bucks. You get a few unique cosmetics, some extra storage a butt load of their dragon crystal points that still wont get you more then a few of the pricier point only in game items.Now consider a classic but high quality pay once play forever fully finished MMO like Guild Wars. for 30 bucks you get the classic campaign trilolgy and for another 20 the eye of the north expansion. While old GW is far from dated. the graphics are still eye catchingly lovely, and easily destroy the cartoon style of this game. Game play wise, sure GW does especially during its lowbie levels use  common collect and fetch quest systems, but also has rich virbant stories, and many quests that demand the use of ones brain or at least reading the comprehensive wiki to develop winning strategies.While I can see dabbling in this game from time to time, and using it as a chat room game, the moment I start thinking of spending a cent it loses out to many other games. Many of which I can get many hours of play in for a much more modest price.Sadly this company seems more about drawing in a fan base that they can sell silly RL merchendise like shirts, novelty hats, and primitive physical calenders all with in game cosmetic items as part of the deal, to make their money. It feels like they are wasting alot of their development energy on limited time events, exclusive cosmetics that require buying some item that will act as free advertisment for them, and very little really spent on content or QoL improvments.So while if I could Id rate it as an ok entry into mobile games, for steam pc gamers we just have too many better options to waste time or risk money on an EAG that shows little real potential to rival even old pc MMO like classic Guild Wars.Soif your looking for a pure FTP with no intent to spend then sure give it some time waster hours, otherwise invest your time and especially your money in something worthy of it.  ...  1         \n",
              "10076  I dont get it why peopel are always â™¥â™¥â™¥â™¥â™¥ing about you need to  have alicense for evrythingSure you need  memebership, to enjoy  evrything, but 3 months of membership is not thate xpensive.These days evrybody want evrything for free.And with teh changes  made for the free part of teh game, the animals are now on a rotating base.So if you have patiance you can have a crack at evry animal, also with teh basic  items you get you can shoot evryanimal. that is in teh rotation, so no you dont have to buy all weapons.This game has been around for many years, if it is so bad as most  reviuw writers say.Why does it have so many members, me included, if its that bad ?peopel complaining after only playing 10 minutes, is just bad, give teh game a chance.I definatly have my fun from it and i enjoy it very much,                                                                                                                                                                                                                                                                                                                                                                                                                                                                                                                                                                                                                                                                                                                                                                                                                                                                                                                                                                                                                                                                                                                                                                                                                                                                                                                                                                                                                                                                                                                                                                                                                                                                                                                                                                                                                ...  0         \n",
              "13277  The modes that are autoplayed by your computer have some serious flaws . Like seriously this computer has no idea what to do! I've seen my monster go BACK to kill a summoned totem insead of attacking a monster! Also Rambo ALWAYS uses his ultimate on the  monster with the lowest HP insted of attacking grouped up monsters! Monster attacking summonmed units with priority instead of killing off another monster... THose are some serious problems in my opinion. This is tactical monsters  yet there's no tactic in the computer's gameplay...                                                                                                                                                                                                                                                                                                                                                                                                                                                                                                                                                                                                                                                                                                                                                                                                                                                                                                                                                                                                                                                                                                                                                                                                                                                                                                                                                                                                                                                                                                                                                                                                                                                                                                                                                                                                                                                                                                                                                                                                                                                                                                         ...  0         \n",
              "\n",
              "[5 rows x 3 columns]"
            ]
          },
          "metadata": {
            "tags": []
          },
          "execution_count": 33
        }
      ]
    },
    {
      "cell_type": "code",
      "metadata": {
        "colab": {
          "base_uri": "https://localhost:8080/",
          "height": 380
        },
        "id": "uOzB9X-_463f",
        "outputId": "b9b772dc-d175-475f-fc6e-9b12105bd8c1"
      },
      "source": [
        "#cleaned review versions of mislabeled reviews\n",
        "review_data_test.head(3)[['cleaned_review','label','pred_label']]\n",
        "review_data_test[review_data_test['label'] != review_data_test['pred_label']].head()[['cleaned_review','label','pred_label']]"
      ],
      "execution_count": 35,
      "outputs": [
        {
          "output_type": "execute_result",
          "data": {
            "text/html": [
              "<div>\n",
              "<style scoped>\n",
              "    .dataframe tbody tr th:only-of-type {\n",
              "        vertical-align: middle;\n",
              "    }\n",
              "\n",
              "    .dataframe tbody tr th {\n",
              "        vertical-align: top;\n",
              "    }\n",
              "\n",
              "    .dataframe thead th {\n",
              "        text-align: right;\n",
              "    }\n",
              "</style>\n",
              "<table border=\"1\" class=\"dataframe\">\n",
              "  <thead>\n",
              "    <tr style=\"text-align: right;\">\n",
              "      <th></th>\n",
              "      <th>cleaned_review</th>\n",
              "      <th>label</th>\n",
              "      <th>pred_label</th>\n",
              "    </tr>\n",
              "  </thead>\n",
              "  <tbody>\n",
              "    <tr>\n",
              "      <th>11626</th>\n",
              "      <td>early access reviewonly played min game need work hack shield dont get one hackers ruin game fun ill continue play maybe advance futher</td>\n",
              "      <td>1</td>\n",
              "      <td>0</td>\n",
              "    </tr>\n",
              "    <tr>\n",
              "      <th>11836</th>\n",
              "      <td>feels plays like old game combat feels weird autopath even weirder performances pretty bad even high end machines game map huge world feels empty dull cannot believe people really paid enter ea beta test game plenty better mmorpg  average best</td>\n",
              "      <td>0</td>\n",
              "      <td>1</td>\n",
              "    </tr>\n",
              "    <tr>\n",
              "      <th>15722</th>\n",
              "      <td>early access reviewafter giving game pretty serious bit time last month sadly give thumbs pc game   mobile devices id say standard play solid art style   us pcs steam maybe pure ftp game ok casual time waster however game thick micro transactions   costs skip many hour long  sometimes day long  crafting times it costs many cosmetic rewards still first earn right use via game play   company wanting money not sin   consider   ultimate guardian pack want    bucks   get unique cosmetics  extra storage butt load dragon crystal points still wont get pricier point game items now consider classic high quality pay play forever fully finished mmo like guild wars      bucks get classic campaign trilolgy another    eye north expansion   old gw far dated   graphics still eye catchingly lovely  easily destroy cartoon style game   game play wise  sure gw especially lowbie levels use common collect fetch quest systems  also rich virbant stories  many quests demand use ones brain least reading comprehensive wiki develop winning strategies while see dabbling game time time  using chat room game  moment start thinking spending cent loses many games   many get many hours play much modest price sadly company seems drawing fan base sell silly rl merchendise like shirts  novelty hats  primitive physical calenders game cosmetic items part deal  make money   feels like wasting alot development energy limited time events  exclusive cosmetics require buying item act free advertisment  little really spent content qol improvments so could id rate ok entry mobile games  steam pc gamers many better options waste time risk money eag shows little real potential rival even old pc mmo like classic guild wars soif looking pure ftp no intent spend sure give time waster hours  otherwise invest time especially money something worthy</td>\n",
              "      <td>0</td>\n",
              "      <td>1</td>\n",
              "    </tr>\n",
              "    <tr>\n",
              "      <th>10076</th>\n",
              "      <td>dont get peopel always                ing need alicense evrythingsure need memebership  enjoy evrything     months membership not thate xpensive these days evrybody want evrything free and teh changes made free part teh game  animals rotating base so patiance crack evry animal  also teh basic items get shoot evryanimal   teh rotation  no dont buy weapons this game around many years  bad reviuw writers say why many members  included  bad  peopel complaining playing    minutes  bad  give teh game chance i definatly fun enjoy much</td>\n",
              "      <td>1</td>\n",
              "      <td>0</td>\n",
              "    </tr>\n",
              "    <tr>\n",
              "      <th>13277</th>\n",
              "      <td>modes autoplayed computer serious flaws   like seriously computer no idea  seen monster go back kill summoned totem insead attacking monster  also rambo always uses ultimate monster lowest hp insted attacking grouped monsters  monster attacking summonmed units priority instead killing another monster   serious problems opinion   tactical monsters yet no tactic computer gameplay</td>\n",
              "      <td>1</td>\n",
              "      <td>0</td>\n",
              "    </tr>\n",
              "  </tbody>\n",
              "</table>\n",
              "</div>"
            ],
            "text/plain": [
              "                                                                                                                                                                                                                                                                                                                                                                                                                                                                                                                                                                                                                                                                                                                                                                                                                                                                                                                                                                                                                                                                                                                                                                                                                                                                                                                                                                                                                                                                                                                                                                                                                                                                                                                                                                                                                                                                                           cleaned_review  ...  pred_label\n",
              "11626  early access reviewonly played min game need work hack shield dont get one hackers ruin game fun ill continue play maybe advance futher                                                                                                                                                                                                                                                                                                                                                                                                                                                                                                                                                                                                                                                                                                                                                                                                                                                                                                                                                                                                                                                                                                                                                                                                                                                                                                                                                                                                                                                                                                                                                                                                                                                                                                                                                             ...  0         \n",
              "11836  feels plays like old game combat feels weird autopath even weirder performances pretty bad even high end machines game map huge world feels empty dull cannot believe people really paid enter ea beta test game plenty better mmorpg  average best                                                                                                                                                                                                                                                                                                                                                                                                                                                                                                                                                                                                                                                                                                                                                                                                                                                                                                                                                                                                                                                                                                                                                                                                                                                                                                                                                                                                                                                                                                                                                                                                                                                 ...  1         \n",
              "15722  early access reviewafter giving game pretty serious bit time last month sadly give thumbs pc game   mobile devices id say standard play solid art style   us pcs steam maybe pure ftp game ok casual time waster however game thick micro transactions   costs skip many hour long  sometimes day long  crafting times it costs many cosmetic rewards still first earn right use via game play   company wanting money not sin   consider   ultimate guardian pack want    bucks   get unique cosmetics  extra storage butt load dragon crystal points still wont get pricier point game items now consider classic high quality pay play forever fully finished mmo like guild wars      bucks get classic campaign trilolgy another    eye north expansion   old gw far dated   graphics still eye catchingly lovely  easily destroy cartoon style game   game play wise  sure gw especially lowbie levels use common collect fetch quest systems  also rich virbant stories  many quests demand use ones brain least reading comprehensive wiki develop winning strategies while see dabbling game time time  using chat room game  moment start thinking spending cent loses many games   many get many hours play much modest price sadly company seems drawing fan base sell silly rl merchendise like shirts  novelty hats  primitive physical calenders game cosmetic items part deal  make money   feels like wasting alot development energy limited time events  exclusive cosmetics require buying item act free advertisment  little really spent content qol improvments so could id rate ok entry mobile games  steam pc gamers many better options waste time risk money eag shows little real potential rival even old pc mmo like classic guild wars soif looking pure ftp no intent spend sure give time waster hours  otherwise invest time especially money something worthy   ...  1         \n",
              "10076  dont get peopel always                ing need alicense evrythingsure need memebership  enjoy evrything     months membership not thate xpensive these days evrybody want evrything free and teh changes made free part teh game  animals rotating base so patiance crack evry animal  also teh basic items get shoot evryanimal   teh rotation  no dont buy weapons this game around many years  bad reviuw writers say why many members  included  bad  peopel complaining playing    minutes  bad  give teh game chance i definatly fun enjoy much                                                                                                                                                                                                                                                                                                                                                                                                                                                                                                                                                                                                                                                                                                                                                                                                                                                                                                                                                                                                                                                                                                                                                                                                                                                                                                                                               ...  0         \n",
              "13277  modes autoplayed computer serious flaws   like seriously computer no idea  seen monster go back kill summoned totem insead attacking monster  also rambo always uses ultimate monster lowest hp insted attacking grouped monsters  monster attacking summonmed units priority instead killing another monster   serious problems opinion   tactical monsters yet no tactic computer gameplay                                                                                                                                                                                                                                                                                                                                                                                                                                                                                                                                                                                                                                                                                                                                                                                                                                                                                                                                                                                                                                                                                                                                                                                                                                                                                                                                                                                                                                                                                                        ...  0         \n",
              "\n",
              "[5 rows x 3 columns]"
            ]
          },
          "metadata": {
            "tags": []
          },
          "execution_count": 35
        }
      ]
    },
    {
      "cell_type": "markdown",
      "metadata": {
        "id": "BUYXcZU95oN3"
      },
      "source": [
        "## Properly Labeled Reviews"
      ]
    },
    {
      "cell_type": "code",
      "metadata": {
        "colab": {
          "base_uri": "https://localhost:8080/",
          "height": 296
        },
        "id": "SyZEAIfPrJz6",
        "outputId": "9794a1ef-4ad2-41ec-85bf-dbcb1a8e36f0"
      },
      "source": [
        "#A look at the matched reviews\n",
        "review_data_test.head(4)[['user_review','label','pred_label']]"
      ],
      "execution_count": 36,
      "outputs": [
        {
          "output_type": "execute_result",
          "data": {
            "text/html": [
              "<div>\n",
              "<style scoped>\n",
              "    .dataframe tbody tr th:only-of-type {\n",
              "        vertical-align: middle;\n",
              "    }\n",
              "\n",
              "    .dataframe tbody tr th {\n",
              "        vertical-align: top;\n",
              "    }\n",
              "\n",
              "    .dataframe thead th {\n",
              "        text-align: right;\n",
              "    }\n",
              "</style>\n",
              "<table border=\"1\" class=\"dataframe\">\n",
              "  <thead>\n",
              "    <tr style=\"text-align: right;\">\n",
              "      <th></th>\n",
              "      <th>user_review</th>\n",
              "      <th>label</th>\n",
              "      <th>pred_label</th>\n",
              "    </tr>\n",
              "  </thead>\n",
              "  <tbody>\n",
              "    <tr>\n",
              "      <th>15282</th>\n",
              "      <td>The game starts of with no♥♥♥♥♥blasting music of the headset like most games and it was fun to play arround in with a friend simple but well executed. Quick download to play monopoloy with your friends.Seems like it could be pay 2 win but didn't investigate further.</td>\n",
              "      <td>1</td>\n",
              "      <td>1</td>\n",
              "    </tr>\n",
              "    <tr>\n",
              "      <th>16945</th>\n",
              "      <td>Early Access ReviewBest Game in the World! What can I say? Fornite is garbage town, PUBG is two fps town, this mixsgood graphics, with cars, epic guns, and ♥♥♥♥ING PANS, this has to bethe best god damn game I have ever played, like no joke I got 80 hours on this beast, and now they got cooking seasons? What is next? Runs great, plays great, feels great. Keep up all the amazing working!!!</td>\n",
              "      <td>1</td>\n",
              "      <td>1</td>\n",
              "    </tr>\n",
              "    <tr>\n",
              "      <th>7085</th>\n",
              "      <td>I love the game. Long time player of both MTG and the Elder Scrolls game all the way back to Daggerfall, and this is a perfect combination of two of my favorite games. I'm not what I would call a 'serious player', but I do enjoy coming up with on-the-fly decks to meet daily rewards, the draft (arena) system, and trying to crawl my way up the ladder.I enjoyed Hearthstone, may or may not go back from time to time, this one is more up my alley, and as far as I'm concerned it's more challenging of a card game.Toxic Players: not concerned about them. You can mute their avatar if they don't shut up and the turn timer counts down pretty quick once a turn of inactivity passes in case they just want to sit and run the timer out. I love the art, especially the alternate art on some of the cards. Some of the premiums are beautiful.</td>\n",
              "      <td>1</td>\n",
              "      <td>1</td>\n",
              "    </tr>\n",
              "    <tr>\n",
              "      <th>12852</th>\n",
              "      <td>Yes I do Recommend the game in all especially for mobile since there is no Fallout 4 and etc on there but I do recommend this game its a free fun copy of fallout but more of an overseers Point of view its jsut the Problem everyoen keeps issueing that the Stats goes down to quickly and I personally agree Wait like 3-10 minutes your food bar or water bar your stats would go down very quickly and making your dwellers would be unsatisfied we would allpretty much get pissy and stuff so Personnaly to me to Bethasda Please Enhance the time for the Stats, Thank you for Reading.</td>\n",
              "      <td>1</td>\n",
              "      <td>1</td>\n",
              "    </tr>\n",
              "  </tbody>\n",
              "</table>\n",
              "</div>"
            ],
            "text/plain": [
              "                                                                                                                                                                                                                                                                                                                                                                                                                                                                                                                                                                                                                                                                                                                                                                                                                                                             user_review  ...  pred_label\n",
              "15282  The game starts of with no♥♥♥♥♥blasting music of the headset like most games and it was fun to play arround in with a friend simple but well executed. Quick download to play monopoloy with your friends.Seems like it could be pay 2 win but didn't investigate further.                                                                                                                                                                                                                                                                                                                                                                                                                                                                                                                                                                                         ...  1         \n",
              "16945  Early Access ReviewBest Game in the World! What can I say? Fornite is garbage town, PUBG is two fps town, this mixsgood graphics, with cars, epic guns, and ♥♥♥♥ING PANS, this has to bethe best god damn game I have ever played, like no joke I got 80 hours on this beast, and now they got cooking seasons? What is next? Runs great, plays great, feels great. Keep up all the amazing working!!!                                                                                                                                                                                                                                                                                                                                                                                                                                                             ...  1         \n",
              "7085   I love the game. Long time player of both MTG and the Elder Scrolls game all the way back to Daggerfall, and this is a perfect combination of two of my favorite games. I'm not what I would call a 'serious player', but I do enjoy coming up with on-the-fly decks to meet daily rewards, the draft (arena) system, and trying to crawl my way up the ladder.I enjoyed Hearthstone, may or may not go back from time to time, this one is more up my alley, and as far as I'm concerned it's more challenging of a card game.Toxic Players: not concerned about them. You can mute their avatar if they don't shut up and the turn timer counts down pretty quick once a turn of inactivity passes in case they just want to sit and run the timer out. I love the art, especially the alternate art on some of the cards. Some of the premiums are beautiful.   ...  1         \n",
              "12852  Yes I do Recommend the game in all especially for mobile since there is no Fallout 4 and etc on there but I do recommend this game its a free fun copy of fallout but more of an overseers Point of view its jsut the Problem everyoen keeps issueing that the Stats goes down to quickly and I personally agree Wait like 3-10 minutes your food bar or water bar your stats would go down very quickly and making your dwellers would be unsatisfied we would allpretty much get pissy and stuff so Personnaly to me to Bethasda Please Enhance the time for the Stats, Thank you for Reading.                                                                                                                                                                                                                                                                   ...  1         \n",
              "\n",
              "[4 rows x 3 columns]"
            ]
          },
          "metadata": {
            "tags": []
          },
          "execution_count": 36
        }
      ]
    },
    {
      "cell_type": "markdown",
      "metadata": {
        "id": "PQDceiyMt9bO"
      },
      "source": [
        "## Conclusions\n",
        "I think my classifier performed well since the classification report gave scores all above .80 for precision, recall, and F1. If I had a bigger dataset with more varied games then I may have better results because my test sample was kinda small (5000 samples), and just having more samples in general means a bigger training set and test set.\n"
      ]
    },
    {
      "cell_type": "markdown",
      "metadata": {
        "id": "jXG7EWcUvAGH"
      },
      "source": [
        "For parameter tuning and improvement I had performance increase of 2.2%. I originally used ngram(1,1) which gave me around 7500 features to use in the analysis, but later I swapped to ngram(1,2) after noticing that some of the top features for ngram(1,1) didn't make sense like \"complaint\" and \"complaining\". Some bi-grams such as \"not recommend\" can drastically change the sentiment of a review if you only view it as \"not\" and \"recommend\", so I thought it was important to retain bi-grams such as that to retain accuracy. "
      ]
    },
    {
      "cell_type": "markdown",
      "metadata": {
        "id": "yK_oB5w5vnuY"
      },
      "source": [
        "For mismatched reviews, the classifier had trouble with reviews that stated many negative things about a game, but a had reviewer still wanting to play it despite those flaws. Reviews that compared a game to another game also confused the classifier since the reviewer would start describing a different game than the one they were reviewing."
      ]
    }
  ]
}